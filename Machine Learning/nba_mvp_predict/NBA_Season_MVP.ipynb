{
  "nbformat": 4,
  "nbformat_minor": 0,
  "metadata": {
    "colab": {
      "name": "Relatórios - Códigos.ipynb",
      "provenance": [],
      "collapsed_sections": [
        "mClPrwY7Hnel",
        "W8_s0JllHnmU",
        "_pbO6sbyHny8",
        "qp1sswZAHn5m",
        "-YykyJV0HoEl",
        "GfwYsqurHoOl",
        "j_9CZzdW0BnS",
        "Yb5KYpEH0MCQ",
        "P6Bd9nat0Ua7",
        "esb3Xu-mDBqt",
        "5fcS2R_GDJh5",
        "Um0qeJ8xDJqG",
        "8HtsrRju3Pwq",
        "wVVfxjfr3WKe",
        "hfE0wV9d3gQM"
      ],
      "toc_visible": true
    },
    "kernelspec": {
      "name": "python3",
      "display_name": "Python 3"
    }
  },
  "cells": [
    {
      "cell_type": "markdown",
      "metadata": {
        "id": "z_9BCQmAHdsG"
      },
      "source": [
        "# **1. DESCRIÇÃO DO PROBLEMA E DA BASE DE DADOS**"
      ]
    },
    {
      "cell_type": "markdown",
      "metadata": {
        "id": "Sb-DNBfZLhWu"
      },
      "source": [
        "O problema que vamos abordar busca determinar, a partir de um conjunto de estatísticas para cada jogador da NBA (liga americana de basquete), quem foi o MVP (most valuable player) da temporada, partindo da temporada de 1996/97 até a de 2019/20. O MVP é um prêmio dado ao jogador com melhor desempenho na competição."
      ]
    },
    {
      "cell_type": "markdown",
      "metadata": {
        "id": "9aw-OiSPNJRQ"
      },
      "source": [
        "A base, disponibilizada em formato .csv, possui inicialmente 11145 instâncias, divididas entre 22 atributos."
      ]
    },
    {
      "cell_type": "markdown",
      "metadata": {
        "id": "mClPrwY7Hnel"
      },
      "source": [
        "# **2. COMO OS DADOS FORAM ADQUIRIDOS?**"
      ]
    },
    {
      "cell_type": "markdown",
      "metadata": {
        "id": "KqVanvbXNWow"
      },
      "source": [
        "Os dados foram adquiridos pela plataforma Kaggle. Ela foi disponibilizada por Justinas Cirtautas, e pode ser obtida [aqui](https://www.kaggle.com/justinas/nba-players-data)."
      ]
    },
    {
      "cell_type": "markdown",
      "metadata": {
        "id": "W8_s0JllHnmU"
      },
      "source": [
        "# **3. SOBRE A BASE**"
      ]
    },
    {
      "cell_type": "markdown",
      "metadata": {
        "id": "W7inpmQjODkr"
      },
      "source": [
        "A base apresenta os seguintes atributos:\n",
        "\n",
        "\n",
        "*   **Unnamed**: coluna com a ordenação das instâncias;\n",
        "*   **player_name**: nome do jogador;\n",
        "*   **team_abbreviation**: abreviação do nome do time do jogador numa temporada específica;\n",
        "*   **age**: idade do jogador numa temporada específica;\n",
        "*   **player_height**: altura do jogador;\n",
        "*   **player_weight**: peso do jogador;\n",
        "*   **college**: a faculdade que ele frequentava antes de ser draftado;\n",
        "*   **country**: nacionalidade do jogador;\n",
        "*   **draft_year**: ano em que o jogador foi draftado;\n",
        "*   **draft_round**: em qual rodada do draft o jogador foi escolhido;\n",
        "*   **draft_number**: qual foi o número da escolha do jogador;\n",
        "*   **gp**: partidas disputadas na temporada;\n",
        "*   **pts**: média de pontos por partida do jogador;\n",
        "*   **reb**: média de rebotes por partida do jogador; \n",
        "*   **ast**: média de assistências por partida do jogador;\n",
        "*   **net_rating**: diferencial da quantidade de pontos marcados quando o jogador está em quadra por 100 posses de bola;\n",
        "*   **oreb_pct**: porcentagem de rebotes ofensivos que o jogador conseguiu pegar em quadra;\n",
        "*   **dreb_pct**: porcentagem de rebotes ofensivos que o jogador conseguiu pegar em quadra;\n",
        "*   **usg_pct**: porcentagens de jogadas da equipe que o jogador participou diretamente enquanto estava em quadra;\n",
        "*   **ts_pct**: porcentagem de eficiência do jogador em arremessos;\n",
        "*   **ast_pct**: porcentagem de eficiência dos companheiros do jogador quando receberam assistências dele em quadra;\n",
        "*   **season**: temporada em que essas estatísticas do jogador foram registradas.\n",
        "\n"
      ]
    },
    {
      "cell_type": "markdown",
      "metadata": {
        "id": "_pbO6sbyHny8"
      },
      "source": [
        "# **4. LIMPEZA E TRANSFORMAÇÃO DA BASE**"
      ]
    },
    {
      "cell_type": "code",
      "metadata": {
        "id": "ZsjfEZoKU4hg"
      },
      "source": [
        "# Import das bibliotecas e métodos\n",
        "\n",
        "import pandas as pd\n",
        "import numpy as np\n",
        "import matplotlib.pyplot as plt\n",
        "from google.colab import drive\n",
        "from sklearn.preprocessing import LabelEncoder"
      ],
      "execution_count": null,
      "outputs": []
    },
    {
      "cell_type": "code",
      "metadata": {
        "id": "rkYlgMwko4zT",
        "colab": {
          "base_uri": "https://localhost:8080/"
        },
        "outputId": "9c631d6b-39d7-43fc-dd2b-086e29d2451c"
      },
      "source": [
        "from google.colab import drive\n",
        "drive.mount('/content/drive')"
      ],
      "execution_count": null,
      "outputs": [
        {
          "output_type": "stream",
          "text": [
            "Mounted at /content/drive\n"
          ],
          "name": "stdout"
        }
      ]
    },
    {
      "cell_type": "code",
      "metadata": {
        "id": "sZGIYH6MVOXG"
      },
      "source": [
        "# Import do dataset\n",
        "\n",
        "df = pd.read_csv(\"all_seasons.csv\")"
      ],
      "execution_count": null,
      "outputs": []
    },
    {
      "cell_type": "code",
      "metadata": {
        "id": "H_K8jipubWOG"
      },
      "source": [
        "# Análise inicial do dataset: Shape\n",
        "\n",
        "df.shape"
      ],
      "execution_count": null,
      "outputs": []
    },
    {
      "cell_type": "code",
      "metadata": {
        "id": "TNTOy_ZkbmiX"
      },
      "source": [
        "# Análise inicial do dataset: Tipos de atributos\n",
        "\n",
        "df.dtypes"
      ],
      "execution_count": null,
      "outputs": []
    },
    {
      "cell_type": "code",
      "metadata": {
        "id": "c6ho-4q3hlTN",
        "colab": {
          "base_uri": "https://localhost:8080/"
        },
        "outputId": "bebfbece-430e-45c4-f0c9-e32090c1613d"
      },
      "source": [
        "# Adicionando a coluna target\n",
        "\n",
        "df['was_mvp'] = 0\n",
        "\n",
        "for i in range(0, 11145):\n",
        "  df['was_mvp'][i] = 0"
      ],
      "execution_count": null,
      "outputs": [
        {
          "output_type": "stream",
          "text": [
            "/usr/local/lib/python3.7/dist-packages/ipykernel_launcher.py:6: SettingWithCopyWarning: \n",
            "A value is trying to be set on a copy of a slice from a DataFrame\n",
            "\n",
            "See the caveats in the documentation: https://pandas.pydata.org/pandas-docs/stable/user_guide/indexing.html#returning-a-view-versus-a-copy\n",
            "  \n"
          ],
          "name": "stderr"
        }
      ]
    },
    {
      "cell_type": "code",
      "metadata": {
        "id": "S8Wk27qkt2aQ"
      },
      "source": [
        "df['was_mvp'][381] = 1\n",
        "df['was_mvp'][1277] = 1\n",
        "df['was_mvp'][467] = 1\n",
        "df['was_mvp'][1556] = 1\n",
        "df['was_mvp'][1907] = 1\n",
        "df['was_mvp'][2324] = 1\n",
        "df['was_mvp'][2942] = 1\n",
        "df['was_mvp'][3134] = 1\n",
        "df['was_mvp'][3647] = 1\n",
        "df['was_mvp'][4101] = 1\n",
        "df['was_mvp'][4474] = 1\n",
        "df['was_mvp'][5215] = 1\n",
        "df['was_mvp'][5430] = 1\n",
        "df['was_mvp'][6127] = 1\n",
        "df['was_mvp'][7004] = 1\n",
        "df['was_mvp'][7428] = 1\n",
        "df['was_mvp'][6466] = 1\n",
        "df['was_mvp'][7972] = 1\n",
        "df['was_mvp'][8497] = 1\n",
        "df['was_mvp'][9008] = 1\n",
        "df['was_mvp'][9304] = 1\n",
        "df['was_mvp'][10003] = 1\n",
        "df['was_mvp'][10111] = 1\n",
        "df['was_mvp'][10638] = 1"
      ],
      "execution_count": null,
      "outputs": []
    },
    {
      "cell_type": "code",
      "metadata": {
        "id": "jjB0vw0DXgJa"
      },
      "source": [
        "# Excluindo colunas que não serão úteis para o problema\n",
        "\n",
        "df = df.drop(['Unnamed: 0', 'team_abbreviation', 'age', 'player_height', 'player_weight', 'college', 'country', 'draft_year', 'draft_round', 'draft_number'], axis=1)"
      ],
      "execution_count": null,
      "outputs": []
    },
    {
      "cell_type": "code",
      "metadata": {
        "id": "_0Dve_P9ZZkJ"
      },
      "source": [
        "# Verificação de valores faltantes\n",
        "\n",
        "df.isna().sum()"
      ],
      "execution_count": null,
      "outputs": []
    },
    {
      "cell_type": "code",
      "metadata": {
        "id": "QMmAzGL_Zs7K"
      },
      "source": [
        "# Verificação de valores duplicados\n",
        "\n",
        "df.duplicated().sum()"
      ],
      "execution_count": null,
      "outputs": []
    },
    {
      "cell_type": "code",
      "metadata": {
        "id": "Lv-GQnCUadDH"
      },
      "source": [
        "# Verificação de outliers\n",
        "\n",
        "df_numerical = df.drop(['player_name', 'season'],  axis=1)\n",
        "\n",
        "for item in df_numerical:\n",
        "    plt.figure(figsize=(16, 8), dpi=80)\n",
        "    plt.ylabel(item)\n",
        "    plt.xlabel('season')\n",
        "    plt.scatter(df['season'], df[item])\n",
        "    plt.show()"
      ],
      "execution_count": null,
      "outputs": []
    },
    {
      "cell_type": "code",
      "metadata": {
        "id": "P_-9BNZnZRdQ"
      },
      "source": [
        "# Conversão de variáveis categóricas\n",
        "\n",
        "set(df['season'])"
      ],
      "execution_count": null,
      "outputs": []
    },
    {
      "cell_type": "code",
      "metadata": {
        "id": "MiAw0Dmrb6PM"
      },
      "source": [
        "set(df['player_name'])"
      ],
      "execution_count": null,
      "outputs": []
    },
    {
      "cell_type": "code",
      "metadata": {
        "id": "N3nxIJStcDd1"
      },
      "source": [
        "label_encoder = LabelEncoder()\n",
        "season_num = label_encoder.fit_transform(df['season'])\n",
        "player_num = label_encoder.fit_transform(df['player_name'])\n",
        "df_season = pd.DataFrame(data=season_num, columns=['season'])\n",
        "df_player = pd.DataFrame(data=player_num, columns=['player_id'])"
      ],
      "execution_count": null,
      "outputs": []
    },
    {
      "cell_type": "code",
      "metadata": {
        "id": "zBLCzYrhc4nL"
      },
      "source": [
        "df = df.drop(['player_name', 'season'], axis=1)\n",
        "df = df.join(df_season)\n",
        "df = df.join(df_player)"
      ],
      "execution_count": null,
      "outputs": []
    },
    {
      "cell_type": "code",
      "metadata": {
        "id": "wvLHzYuJu1_w"
      },
      "source": [
        "# Reorganizando o dataset\n",
        "\n",
        "df = df[['player_id', 'gp', 'pts', 'reb', 'ast', 'net_rating', 'oreb_pct',\n",
        "          'dreb_pct', 'usg_pct', 'ts_pct', 'ast_pct', 'season', 'was_mvp']]"
      ],
      "execution_count": null,
      "outputs": []
    },
    {
      "cell_type": "code",
      "metadata": {
        "id": "CGopsP5n_rVh"
      },
      "source": [
        "df.to_csv(\"all_seasons_pre_processing.csv\", index=False)"
      ],
      "execution_count": null,
      "outputs": []
    },
    {
      "cell_type": "markdown",
      "metadata": {
        "id": "YEN7gg7axmsm"
      },
      "source": [
        "A base já veio praticamente pronta: não possuia valores faltantes, nem valores duplicados e os outliers detectados fazem sentido dentro do contexto do problema. Logo, o único processamento necessário foi remover as colunas que não gerariam impacto no resultado e transformar as variáveis categóricas em numéricas.\n",
        "\n",
        "Além disso, foi necessário criar uma coluna target para o problema que queremos abordar. Para isso, criamos um atributo binário chamado **'was_mvp'**, onde 0 indica que o jogador não foi o MVP da temporada e o 1 indica o caso contrário."
      ]
    },
    {
      "cell_type": "markdown",
      "metadata": {
        "id": "qp1sswZAHn5m"
      },
      "source": [
        "# **5. REDUÇÃO DE INSTÂNCIAS**"
      ]
    },
    {
      "cell_type": "markdown",
      "metadata": {
        "id": "MBIkYFYPqITH"
      },
      "source": [
        "Para realizarmos a redução de instâncias, utilizaremos a amostragem aleatória. "
      ]
    },
    {
      "cell_type": "code",
      "metadata": {
        "colab": {
          "base_uri": "https://localhost:8080/"
        },
        "id": "hIDSGzNQsCs3",
        "outputId": "e1514f5b-a06a-4a72-ec65-c1bdd96e2434"
      },
      "source": [
        "df_sample = df.sample(frac=0.70)\n",
        "df_sample.shape"
      ],
      "execution_count": null,
      "outputs": [
        {
          "output_type": "execute_result",
          "data": {
            "text/plain": [
              "(7801, 13)"
            ]
          },
          "metadata": {
            "tags": []
          },
          "execution_count": 13
        }
      ]
    },
    {
      "cell_type": "code",
      "metadata": {
        "id": "nqXygjiVsgoq"
      },
      "source": [
        "df_sample.to_csv(\"BaseReduzida1.csv\", index=False)"
      ],
      "execution_count": null,
      "outputs": []
    },
    {
      "cell_type": "markdown",
      "metadata": {
        "id": "-YykyJV0HoEl"
      },
      "source": [
        "# **6. SELEÇÃO DE ATRIBUTOS**"
      ]
    },
    {
      "cell_type": "code",
      "metadata": {
        "id": "cwNJy2P9x1vh"
      },
      "source": [
        "from sklearn.feature_selection import SelectFromModel\n",
        "from sklearn.ensemble import RandomForestClassifier"
      ],
      "execution_count": null,
      "outputs": []
    },
    {
      "cell_type": "code",
      "metadata": {
        "colab": {
          "base_uri": "https://localhost:8080/"
        },
        "id": "V4aXpxjX9hTz",
        "outputId": "a151bf88-41de-4cf7-d930-95127432e1a4"
      },
      "source": [
        "df_sample.head()"
      ],
      "execution_count": null,
      "outputs": [
        {
          "output_type": "execute_result",
          "data": {
            "text/html": [
              "<div>\n",
              "<style scoped>\n",
              "    .dataframe tbody tr th:only-of-type {\n",
              "        vertical-align: middle;\n",
              "    }\n",
              "\n",
              "    .dataframe tbody tr th {\n",
              "        vertical-align: top;\n",
              "    }\n",
              "\n",
              "    .dataframe thead th {\n",
              "        text-align: right;\n",
              "    }\n",
              "</style>\n",
              "<table border=\"1\" class=\"dataframe\">\n",
              "  <thead>\n",
              "    <tr style=\"text-align: right;\">\n",
              "      <th></th>\n",
              "      <th>player_id</th>\n",
              "      <th>gp</th>\n",
              "      <th>pts</th>\n",
              "      <th>reb</th>\n",
              "      <th>ast</th>\n",
              "      <th>net_rating</th>\n",
              "      <th>oreb_pct</th>\n",
              "      <th>dreb_pct</th>\n",
              "      <th>usg_pct</th>\n",
              "      <th>ts_pct</th>\n",
              "      <th>ast_pct</th>\n",
              "      <th>season</th>\n",
              "      <th>was_mvp</th>\n",
              "    </tr>\n",
              "  </thead>\n",
              "  <tbody>\n",
              "    <tr>\n",
              "      <th>3941</th>\n",
              "      <td>852</td>\n",
              "      <td>74</td>\n",
              "      <td>5.6</td>\n",
              "      <td>1.2</td>\n",
              "      <td>3.4</td>\n",
              "      <td>-8.3</td>\n",
              "      <td>0.013</td>\n",
              "      <td>0.068</td>\n",
              "      <td>0.180</td>\n",
              "      <td>0.470</td>\n",
              "      <td>0.299</td>\n",
              "      <td>8</td>\n",
              "      <td>0</td>\n",
              "    </tr>\n",
              "    <tr>\n",
              "      <th>917</th>\n",
              "      <td>188</td>\n",
              "      <td>31</td>\n",
              "      <td>6.5</td>\n",
              "      <td>5.4</td>\n",
              "      <td>1.8</td>\n",
              "      <td>-0.5</td>\n",
              "      <td>0.073</td>\n",
              "      <td>0.155</td>\n",
              "      <td>0.136</td>\n",
              "      <td>0.535</td>\n",
              "      <td>0.111</td>\n",
              "      <td>2</td>\n",
              "      <td>0</td>\n",
              "    </tr>\n",
              "    <tr>\n",
              "      <th>4322</th>\n",
              "      <td>925</td>\n",
              "      <td>42</td>\n",
              "      <td>9.3</td>\n",
              "      <td>3.2</td>\n",
              "      <td>5.0</td>\n",
              "      <td>-0.5</td>\n",
              "      <td>0.037</td>\n",
              "      <td>0.096</td>\n",
              "      <td>0.222</td>\n",
              "      <td>0.458</td>\n",
              "      <td>0.336</td>\n",
              "      <td>9</td>\n",
              "      <td>0</td>\n",
              "    </tr>\n",
              "    <tr>\n",
              "      <th>6549</th>\n",
              "      <td>2009</td>\n",
              "      <td>21</td>\n",
              "      <td>5.0</td>\n",
              "      <td>2.4</td>\n",
              "      <td>1.8</td>\n",
              "      <td>-13.6</td>\n",
              "      <td>0.015</td>\n",
              "      <td>0.198</td>\n",
              "      <td>0.242</td>\n",
              "      <td>0.427</td>\n",
              "      <td>0.244</td>\n",
              "      <td>14</td>\n",
              "      <td>0</td>\n",
              "    </tr>\n",
              "    <tr>\n",
              "      <th>6208</th>\n",
              "      <td>1431</td>\n",
              "      <td>43</td>\n",
              "      <td>2.6</td>\n",
              "      <td>1.2</td>\n",
              "      <td>1.0</td>\n",
              "      <td>-9.1</td>\n",
              "      <td>0.033</td>\n",
              "      <td>0.097</td>\n",
              "      <td>0.168</td>\n",
              "      <td>0.404</td>\n",
              "      <td>0.151</td>\n",
              "      <td>13</td>\n",
              "      <td>0</td>\n",
              "    </tr>\n",
              "  </tbody>\n",
              "</table>\n",
              "</div>"
            ],
            "text/plain": [
              "      player_id  gp  pts  reb  ast  ...  usg_pct  ts_pct  ast_pct  season  was_mvp\n",
              "3941        852  74  5.6  1.2  3.4  ...    0.180   0.470    0.299       8        0\n",
              "917         188  31  6.5  5.4  1.8  ...    0.136   0.535    0.111       2        0\n",
              "4322        925  42  9.3  3.2  5.0  ...    0.222   0.458    0.336       9        0\n",
              "6549       2009  21  5.0  2.4  1.8  ...    0.242   0.427    0.244      14        0\n",
              "6208       1431  43  2.6  1.2  1.0  ...    0.168   0.404    0.151      13        0\n",
              "\n",
              "[5 rows x 13 columns]"
            ]
          },
          "metadata": {
            "tags": []
          },
          "execution_count": 16
        }
      ]
    },
    {
      "cell_type": "code",
      "metadata": {
        "id": "Z7bljWgVtORq"
      },
      "source": [
        "X = df_sample.drop('was_mvp', axis=1)\n",
        "y = df_sample['was_mvp']"
      ],
      "execution_count": null,
      "outputs": []
    },
    {
      "cell_type": "code",
      "metadata": {
        "id": "pL5ecL3-wxKr"
      },
      "source": [
        "oneshot_selector = SelectFromModel(RandomForestClassifier(),threshold=\"median\",\n",
        "                                   max_features=6)\n",
        "n_df = pd.DataFrame(oneshot_selector.fit_transform(X, y), \n",
        "                    columns=X.columns[oneshot_selector.get_support()])"
      ],
      "execution_count": null,
      "outputs": []
    },
    {
      "cell_type": "code",
      "metadata": {
        "id": "-7tu5J4rM_Lx"
      },
      "source": [
        "df_y = pd.DataFrame(data=y, columns=['was_mvp'])\n",
        "df_y = df_y.reset_index()\n",
        "df_y = df_y.drop(['index'], axis=1)"
      ],
      "execution_count": null,
      "outputs": []
    },
    {
      "cell_type": "code",
      "metadata": {
        "id": "4W1VPO2l4eRK"
      },
      "source": [
        "df_base = n_df.join(df_y, how='left')"
      ],
      "execution_count": null,
      "outputs": []
    },
    {
      "cell_type": "code",
      "metadata": {
        "id": "Y5vcPtJk_CWx",
        "colab": {
          "base_uri": "https://localhost:8080/"
        },
        "outputId": "986e4a47-96e6-4a90-d978-f3945f867137"
      },
      "source": [
        "df_base.head()"
      ],
      "execution_count": null,
      "outputs": [
        {
          "output_type": "execute_result",
          "data": {
            "text/html": [
              "<div>\n",
              "<style scoped>\n",
              "    .dataframe tbody tr th:only-of-type {\n",
              "        vertical-align: middle;\n",
              "    }\n",
              "\n",
              "    .dataframe tbody tr th {\n",
              "        vertical-align: top;\n",
              "    }\n",
              "\n",
              "    .dataframe thead th {\n",
              "        text-align: right;\n",
              "    }\n",
              "</style>\n",
              "<table border=\"1\" class=\"dataframe\">\n",
              "  <thead>\n",
              "    <tr style=\"text-align: right;\">\n",
              "      <th></th>\n",
              "      <th>pts</th>\n",
              "      <th>ast</th>\n",
              "      <th>net_rating</th>\n",
              "      <th>usg_pct</th>\n",
              "      <th>ts_pct</th>\n",
              "      <th>ast_pct</th>\n",
              "      <th>was_mvp</th>\n",
              "    </tr>\n",
              "  </thead>\n",
              "  <tbody>\n",
              "    <tr>\n",
              "      <th>0</th>\n",
              "      <td>5.6</td>\n",
              "      <td>3.4</td>\n",
              "      <td>-8.3</td>\n",
              "      <td>0.180</td>\n",
              "      <td>0.470</td>\n",
              "      <td>0.299</td>\n",
              "      <td>0</td>\n",
              "    </tr>\n",
              "    <tr>\n",
              "      <th>1</th>\n",
              "      <td>6.5</td>\n",
              "      <td>1.8</td>\n",
              "      <td>-0.5</td>\n",
              "      <td>0.136</td>\n",
              "      <td>0.535</td>\n",
              "      <td>0.111</td>\n",
              "      <td>0</td>\n",
              "    </tr>\n",
              "    <tr>\n",
              "      <th>2</th>\n",
              "      <td>9.3</td>\n",
              "      <td>5.0</td>\n",
              "      <td>-0.5</td>\n",
              "      <td>0.222</td>\n",
              "      <td>0.458</td>\n",
              "      <td>0.336</td>\n",
              "      <td>0</td>\n",
              "    </tr>\n",
              "    <tr>\n",
              "      <th>3</th>\n",
              "      <td>5.0</td>\n",
              "      <td>1.8</td>\n",
              "      <td>-13.6</td>\n",
              "      <td>0.242</td>\n",
              "      <td>0.427</td>\n",
              "      <td>0.244</td>\n",
              "      <td>0</td>\n",
              "    </tr>\n",
              "    <tr>\n",
              "      <th>4</th>\n",
              "      <td>2.6</td>\n",
              "      <td>1.0</td>\n",
              "      <td>-9.1</td>\n",
              "      <td>0.168</td>\n",
              "      <td>0.404</td>\n",
              "      <td>0.151</td>\n",
              "      <td>0</td>\n",
              "    </tr>\n",
              "  </tbody>\n",
              "</table>\n",
              "</div>"
            ],
            "text/plain": [
              "   pts  ast  net_rating  usg_pct  ts_pct  ast_pct  was_mvp\n",
              "0  5.6  3.4        -8.3    0.180   0.470    0.299        0\n",
              "1  6.5  1.8        -0.5    0.136   0.535    0.111        0\n",
              "2  9.3  5.0        -0.5    0.222   0.458    0.336        0\n",
              "3  5.0  1.8       -13.6    0.242   0.427    0.244        0\n",
              "4  2.6  1.0        -9.1    0.168   0.404    0.151        0"
            ]
          },
          "metadata": {
            "tags": []
          },
          "execution_count": 21
        }
      ]
    },
    {
      "cell_type": "code",
      "metadata": {
        "id": "OV98IldcxRSW"
      },
      "source": [
        "df_base.to_csv(\"BaseReduzida2.csv\", index=False)"
      ],
      "execution_count": null,
      "outputs": []
    },
    {
      "cell_type": "markdown",
      "metadata": {
        "id": "GfwYsqurHoOl"
      },
      "source": [
        "# **7. EXTRAÇÃO DE ATRIBUTOS**"
      ]
    },
    {
      "cell_type": "code",
      "metadata": {
        "id": "BvBKdiDWx9mH"
      },
      "source": [
        "from sklearn.preprocessing import StandardScaler\n",
        "from sklearn.decomposition import PCA"
      ],
      "execution_count": null,
      "outputs": []
    },
    {
      "cell_type": "code",
      "metadata": {
        "id": "Jyr5MD6McDdv"
      },
      "source": [
        "X = df_base.drop('was_mvp', axis=1)\n",
        "y = df_base['was_mvp']"
      ],
      "execution_count": null,
      "outputs": []
    },
    {
      "cell_type": "code",
      "metadata": {
        "id": "XBCFAavMX3X4"
      },
      "source": [
        "X = StandardScaler().fit_transform(X)"
      ],
      "execution_count": null,
      "outputs": []
    },
    {
      "cell_type": "code",
      "metadata": {
        "id": "bZMoqiSxuqqp"
      },
      "source": [
        "pca = PCA(n_components=6)\n",
        "X = pca.fit_transform(X)"
      ],
      "execution_count": null,
      "outputs": []
    },
    {
      "cell_type": "code",
      "metadata": {
        "id": "2Wr37JXfuy0z"
      },
      "source": [
        "df_x = pd.DataFrame(data = X, \n",
        "                     columns = ['pts', 'reb', 'ast', 'net_rating', 'usg_pct',\n",
        "                                'ast_pct'])"
      ],
      "execution_count": null,
      "outputs": []
    },
    {
      "cell_type": "code",
      "metadata": {
        "id": "8gofZS8vdWOy"
      },
      "source": [
        "df_x = df_x.reset_index()"
      ],
      "execution_count": null,
      "outputs": []
    },
    {
      "cell_type": "code",
      "metadata": {
        "id": "r1HpD4cPzp4r"
      },
      "source": [
        "df_pos_pca = pd.concat([df_x, df_y], axis=1)"
      ],
      "execution_count": null,
      "outputs": []
    },
    {
      "cell_type": "code",
      "metadata": {
        "id": "y-KAOn_udJid",
        "colab": {
          "base_uri": "https://localhost:8080/"
        },
        "outputId": "07f03bb9-b38d-47fe-c41e-8a0196a42b9a"
      },
      "source": [
        "df_pos_pca = df_pos_pca.drop(['index'], axis=1)\n",
        "df_pos_pca.head()"
      ],
      "execution_count": null,
      "outputs": [
        {
          "output_type": "execute_result",
          "data": {
            "text/html": [
              "<div>\n",
              "<style scoped>\n",
              "    .dataframe tbody tr th:only-of-type {\n",
              "        vertical-align: middle;\n",
              "    }\n",
              "\n",
              "    .dataframe tbody tr th {\n",
              "        vertical-align: top;\n",
              "    }\n",
              "\n",
              "    .dataframe thead th {\n",
              "        text-align: right;\n",
              "    }\n",
              "</style>\n",
              "<table border=\"1\" class=\"dataframe\">\n",
              "  <thead>\n",
              "    <tr style=\"text-align: right;\">\n",
              "      <th></th>\n",
              "      <th>pts</th>\n",
              "      <th>reb</th>\n",
              "      <th>ast</th>\n",
              "      <th>net_rating</th>\n",
              "      <th>usg_pct</th>\n",
              "      <th>ast_pct</th>\n",
              "      <th>was_mvp</th>\n",
              "    </tr>\n",
              "  </thead>\n",
              "  <tbody>\n",
              "    <tr>\n",
              "      <th>0</th>\n",
              "      <td>0.824912</td>\n",
              "      <td>1.418159</td>\n",
              "      <td>-1.159437</td>\n",
              "      <td>-0.588578</td>\n",
              "      <td>0.459201</td>\n",
              "      <td>0.129227</td>\n",
              "      <td>0</td>\n",
              "    </tr>\n",
              "    <tr>\n",
              "      <th>1</th>\n",
              "      <td>-0.504409</td>\n",
              "      <td>-0.465027</td>\n",
              "      <td>-0.553922</td>\n",
              "      <td>-0.435319</td>\n",
              "      <td>-0.316482</td>\n",
              "      <td>-0.057336</td>\n",
              "      <td>0</td>\n",
              "    </tr>\n",
              "    <tr>\n",
              "      <th>2</th>\n",
              "      <td>2.200235</td>\n",
              "      <td>1.466886</td>\n",
              "      <td>-1.264041</td>\n",
              "      <td>0.052273</td>\n",
              "      <td>0.442082</td>\n",
              "      <td>-0.167962</td>\n",
              "      <td>0</td>\n",
              "    </tr>\n",
              "    <tr>\n",
              "      <th>3</th>\n",
              "      <td>0.306816</td>\n",
              "      <td>1.800097</td>\n",
              "      <td>0.160936</td>\n",
              "      <td>0.074007</td>\n",
              "      <td>0.997667</td>\n",
              "      <td>0.187826</td>\n",
              "      <td>0</td>\n",
              "    </tr>\n",
              "    <tr>\n",
              "      <th>4</th>\n",
              "      <td>-1.122760</td>\n",
              "      <td>1.082891</td>\n",
              "      <td>-0.393137</td>\n",
              "      <td>0.144204</td>\n",
              "      <td>0.251875</td>\n",
              "      <td>0.102992</td>\n",
              "      <td>0</td>\n",
              "    </tr>\n",
              "  </tbody>\n",
              "</table>\n",
              "</div>"
            ],
            "text/plain": [
              "        pts       reb       ast  net_rating   usg_pct   ast_pct  was_mvp\n",
              "0  0.824912  1.418159 -1.159437   -0.588578  0.459201  0.129227        0\n",
              "1 -0.504409 -0.465027 -0.553922   -0.435319 -0.316482 -0.057336        0\n",
              "2  2.200235  1.466886 -1.264041    0.052273  0.442082 -0.167962        0\n",
              "3  0.306816  1.800097  0.160936    0.074007  0.997667  0.187826        0\n",
              "4 -1.122760  1.082891 -0.393137    0.144204  0.251875  0.102992        0"
            ]
          },
          "metadata": {
            "tags": []
          },
          "execution_count": 30
        }
      ]
    },
    {
      "cell_type": "code",
      "metadata": {
        "id": "A7iS4qOvvEDX"
      },
      "source": [
        "df_pos_pca.to_csv(\"BaseReduzida3.csv\", index=False)"
      ],
      "execution_count": null,
      "outputs": []
    },
    {
      "cell_type": "markdown",
      "metadata": {
        "id": "j_9CZzdW0BnS"
      },
      "source": [
        "# **8. k-NN**"
      ]
    },
    {
      "cell_type": "code",
      "metadata": {
        "id": "P3dD89F_xiIZ"
      },
      "source": [
        "from sklearn.model_selection import RepeatedKFold\n",
        "from sklearn.metrics import accuracy_score, confusion_matrix, precision_score, recall_score, f1_score\n",
        "from sklearn.preprocessing import MinMaxScaler\n",
        "from sklearn.neighbors import KNeighborsClassifier"
      ],
      "execution_count": null,
      "outputs": []
    },
    {
      "cell_type": "code",
      "metadata": {
        "id": "klFlz8FVwCSC"
      },
      "source": [
        "df1 = pd.read_csv('all_seasons_pre_processing.csv')\n",
        "df2 = pd.read_csv('BaseReduzida1.csv')\n",
        "df3 = pd.read_csv('BaseReduzida2.csv')\n",
        "df4 = pd.read_csv('BaseReduzida3.csv')"
      ],
      "execution_count": null,
      "outputs": []
    },
    {
      "cell_type": "code",
      "metadata": {
        "id": "AMbss7wQyXbE"
      },
      "source": [
        "X1 = df1.iloc[:,:-1].values\n",
        "y1 = df1.iloc[:,-1].values\n",
        "\n",
        "X2 = df2.iloc[:,:-1].values\n",
        "y2 = df2.iloc[:,-1].values\n",
        "\n",
        "X3 = df3.iloc[:,:-1].values\n",
        "y3 = df3.iloc[:,-1].values\n",
        "\n",
        "X4 = df4.iloc[:,:-1].values\n",
        "y4 = df4.iloc[:,-1].values"
      ],
      "execution_count": null,
      "outputs": []
    },
    {
      "cell_type": "code",
      "metadata": {
        "id": "CkZZBvk7Oyjp"
      },
      "source": [
        "rkf = RepeatedKFold(n_splits=10, n_repeats=3, random_state=1)"
      ],
      "execution_count": null,
      "outputs": []
    },
    {
      "cell_type": "code",
      "metadata": {
        "id": "Eox4_yGXy7an"
      },
      "source": [
        "for train, test in rkf.split(X1, y1):\n",
        "    X_train1 = X1[train]\n",
        "    X_test1 = X1[test]\n",
        "    y_train1 = y1[train]\n",
        "    y_test1 = y1[test]"
      ],
      "execution_count": null,
      "outputs": []
    },
    {
      "cell_type": "code",
      "metadata": {
        "id": "ZFI8fQ-zy7sp"
      },
      "source": [
        "for train, test in rkf.split(X2, y2):\n",
        "    X_train2 = X2[train]\n",
        "    X_test2 = X2[test]\n",
        "    y_train2 = y2[train]\n",
        "    y_test2 = y2[test]"
      ],
      "execution_count": null,
      "outputs": []
    },
    {
      "cell_type": "code",
      "metadata": {
        "id": "doY4NTxmy79o"
      },
      "source": [
        "for train, test in rkf.split(X3, y3):\n",
        "    X_train3 = X3[train]\n",
        "    X_test3 = X3[test]\n",
        "    y_train3 = y3[train]\n",
        "    y_test3 = y3[test]"
      ],
      "execution_count": null,
      "outputs": []
    },
    {
      "cell_type": "code",
      "metadata": {
        "id": "Lg0dSLsPy8NN"
      },
      "source": [
        "for train, test in rkf.split(X4, y4):\n",
        "    X_train4 = X4[train]\n",
        "    X_test4 = X4[test]\n",
        "    y_train4 = y4[train]\n",
        "    y_test4 = y4[test]"
      ],
      "execution_count": null,
      "outputs": []
    },
    {
      "cell_type": "code",
      "metadata": {
        "id": "VDGaC8fv1NX7"
      },
      "source": [
        "knn = KNeighborsClassifier(n_neighbors=2, metric='euclidean', weights='distance')"
      ],
      "execution_count": null,
      "outputs": []
    },
    {
      "cell_type": "code",
      "metadata": {
        "id": "5IcMkOVv1oA8"
      },
      "source": [
        "knn.fit(X_train1, y_train1)\n",
        "y_pred1 = knn.predict(X_test1)\n",
        "\n",
        "knn.fit(X_train2, y_train2)\n",
        "y_pred2 = knn.predict(X_test2)\n",
        "\n",
        "knn.fit(X_train3, y_train3)\n",
        "y_pred3 = knn.predict(X_test3)\n",
        "\n",
        "knn.fit(X_train4, y_train4)\n",
        "y_pred4 = knn.predict(X_test4)"
      ],
      "execution_count": null,
      "outputs": []
    },
    {
      "cell_type": "code",
      "metadata": {
        "colab": {
          "base_uri": "https://localhost:8080/",
          "height": 129
        },
        "id": "MxZ6Yi2913Ki",
        "outputId": "63db34fb-eae0-4aff-9832-c747541571cf"
      },
      "source": [
        "acc = str(accuracy_score(y_test1, y_pred1))\n",
        "print(\"Acurácia: \", acc)\n",
        "\n",
        "prec = str(precision_score(y_test, y_pred, average= 'macro'))\n",
        "print(\"Precisão: \", prec)\n",
        "\n",
        "dp = stdev(y_pred\n",
        "print(\"Desvio-padrão: \", dp)\n",
        "\n",
        "rec = str(recall_score(y_test1, y_pred1, average = 'macro'))\n",
        "print(\"Recall: \", rec)\n",
        "\n",
        "f1 = str(f1_score(y_test1, y_pred1, average = 'macro'))\n",
        "print(\"F1 Score: \", f1)\n",
        "\n",
        "cm = confusion_matrix(y_test1, y_pred1)\n",
        "print(\"Matriz de confusão\")\n",
        "print(cm)"
      ],
      "execution_count": null,
      "outputs": [
        {
          "output_type": "error",
          "ename": "SyntaxError",
          "evalue": "ignored",
          "traceback": [
            "\u001b[0;36m  File \u001b[0;32m\"<ipython-input-40-73ec2f169748>\"\u001b[0;36m, line \u001b[0;32m8\u001b[0m\n\u001b[0;31m    print(\"Desvio-padrão: \", dp)\u001b[0m\n\u001b[0m        ^\u001b[0m\n\u001b[0;31mSyntaxError\u001b[0m\u001b[0;31m:\u001b[0m invalid syntax\n"
          ]
        }
      ]
    },
    {
      "cell_type": "code",
      "metadata": {
        "colab": {
          "base_uri": "https://localhost:8080/"
        },
        "id": "dpkrh4fo15-R",
        "outputId": "68eec50e-e6fc-4062-a937-fa1982faaffd"
      },
      "source": [
        "acc = str(accuracy_score(y_test2, y_pred2))\n",
        "print(\"Acurácia: \", acc)\n",
        "\n",
        "prec = str(precision_score(y_test2, y_pred2, average = 'macro'))\n",
        "print(\"Precisão: \", prec)\n",
        "\n",
        "rec = str(recall_score(y_test2, y_pred2, average = 'macro'))\n",
        "print(\"Recall: \", rec)\n",
        "\n",
        "f1 = str(f1_score(y_test2, y_pred2, average = 'macro'))\n",
        "print(\"F1 Score: \", f1)\n",
        "\n",
        "cm = confusion_matrix(y_test2, y_pred2)\n",
        "print(\"Matriz de confusão\")\n",
        "print(cm)"
      ],
      "execution_count": null,
      "outputs": [
        {
          "output_type": "stream",
          "text": [
            "Acurácia:  0.9987179487179487\n",
            "Precisão:  0.9993581514762516\n",
            "Recall:  0.75\n",
            "F1 Score:  0.8330122029543995\n",
            "Matriz de confusão\n",
            "[[778   0]\n",
            " [  1   1]]\n"
          ],
          "name": "stdout"
        }
      ]
    },
    {
      "cell_type": "code",
      "metadata": {
        "colab": {
          "base_uri": "https://localhost:8080/"
        },
        "id": "jgLJls7w16KE",
        "outputId": "ef285f89-48f2-4c5b-a235-afccf0a4ca2c"
      },
      "source": [
        "acc = str(accuracy_score(y_test3, y_pred3))\n",
        "print(\"Acurácia: \", acc)\n",
        "\n",
        "prec = str(precision_score(y_test3, y_pred3, average = 'macro'))\n",
        "print(\"Precisão: \", prec)\n",
        "\n",
        "rec = str(recall_score(y_test3, y_pred3, average = 'macro'))\n",
        "print(\"Recall: \", rec)\n",
        "\n",
        "f1 = str(f1_score(y_test3, y_pred3, average = 'macro'))\n",
        "print(\"F1 Score: \", f1)\n",
        "\n",
        "cm = confusion_matrix(y_test3, y_pred3)\n",
        "print(\"Matriz de confusão\")\n",
        "print(cm)"
      ],
      "execution_count": null,
      "outputs": [
        {
          "output_type": "stream",
          "text": [
            "Acurácia:  0.9961538461538462\n",
            "Precisão:  0.666023166023166\n",
            "Recall:  0.7487146529562982\n",
            "F1 Score:  0.6990353697749196\n",
            "Matriz de confusão\n",
            "[[776   2]\n",
            " [  1   1]]\n"
          ],
          "name": "stdout"
        }
      ]
    },
    {
      "cell_type": "code",
      "metadata": {
        "colab": {
          "base_uri": "https://localhost:8080/"
        },
        "id": "3szcCajb16PD",
        "outputId": "6a5e8d90-ec88-40b9-9c27-f42fe9198422"
      },
      "source": [
        "acc = str(accuracy_score(y_test4, y_pred4))\n",
        "print(\"Acurácia: \", acc)\n",
        "\n",
        "prec = str(precision_score(y_test4, y_pred4, average = 'macro'))\n",
        "print(\"Precisão: \", prec)\n",
        "\n",
        "rec = str(recall_score(y_test4, y_pred4, average = 'macro'))\n",
        "print(\"Recall: \", rec)\n",
        "\n",
        "f1 = str(f1_score(y_test4, y_pred4, average = 'macro'))\n",
        "print(\"F1 Score: \", f1)\n",
        "\n",
        "cm = confusion_matrix(y_test4, y_pred4)\n",
        "print(\"Matriz de confusão\")\n",
        "print(cm)"
      ],
      "execution_count": null,
      "outputs": [
        {
          "output_type": "stream",
          "text": [
            "Acurácia:  0.9974358974358974\n",
            "Precisão:  0.7493573264781491\n",
            "Recall:  0.7493573264781491\n",
            "F1 Score:  0.7493573264781491\n",
            "Matriz de confusão\n",
            "[[777   1]\n",
            " [  1   1]]\n"
          ],
          "name": "stdout"
        }
      ]
    },
    {
      "cell_type": "code",
      "metadata": {
        "id": "C0IW-HfzPTlc"
      },
      "source": [
        "# Escalonando os dados\n",
        "minmax = MinMaxScaler()\n",
        "\n",
        "X1 = minmax.fit_transform(X1)\n",
        "X2 = minmax.fit_transform(X2)\n",
        "X3 = minmax.fit_transform(X3)\n",
        "X4 = minmax.fit_transform(X4)"
      ],
      "execution_count": null,
      "outputs": []
    },
    {
      "cell_type": "code",
      "metadata": {
        "id": "TDBjBk8k3XQX"
      },
      "source": [
        "for train, test in rkf.split(X1, y1):\n",
        "    X_train1 = X1[train]\n",
        "    X_test1 = X1[test]\n",
        "    y_train1 = y1[train]\n",
        "    y_test1 = y1[test]"
      ],
      "execution_count": null,
      "outputs": []
    },
    {
      "cell_type": "code",
      "metadata": {
        "id": "F2FULBkO3XQj"
      },
      "source": [
        "for train, test in rkf.split(X2, y2):\n",
        "    X_train2 = X2[train]\n",
        "    X_test2 = X2[test]\n",
        "    y_train2 = y2[train]\n",
        "    y_test2 = y2[test]"
      ],
      "execution_count": null,
      "outputs": []
    },
    {
      "cell_type": "code",
      "metadata": {
        "id": "VTwDP4MO3XQk"
      },
      "source": [
        "for train, test in rkf.split(X3, y3):\n",
        "    X_train3 = X3[train]\n",
        "    X_test3 = X3[test]\n",
        "    y_train3 = y3[train]\n",
        "    y_test3 = y3[test]"
      ],
      "execution_count": null,
      "outputs": []
    },
    {
      "cell_type": "code",
      "metadata": {
        "id": "NZIDBsIT3XQk"
      },
      "source": [
        "for train, test in rkf.split(X4, y4):\n",
        "    X_train4 = X4[train]\n",
        "    X_test4 = X4[test]\n",
        "    y_train4 = y4[train]\n",
        "    y_test4 = y4[test]"
      ],
      "execution_count": null,
      "outputs": []
    },
    {
      "cell_type": "code",
      "metadata": {
        "id": "z3hfOZq23XQl"
      },
      "source": [
        "knn.fit(X_train1, y_train1)\n",
        "y_pred1 = knn.predict(X_test1)\n",
        "\n",
        "knn.fit(X_train2, y_train2)\n",
        "y_pred2 = knn.predict(X_test2)\n",
        "\n",
        "knn.fit(X_train3, y_train3)\n",
        "y_pred3 = knn.predict(X_test3)\n",
        "\n",
        "knn.fit(X_train4, y_train4)\n",
        "y_pred4 = knn.predict(X_test4)"
      ],
      "execution_count": null,
      "outputs": []
    },
    {
      "cell_type": "code",
      "metadata": {
        "colab": {
          "base_uri": "https://localhost:8080/"
        },
        "id": "v7NgL6FN3XQl",
        "outputId": "3e1725c6-5d20-4e26-dea2-1c11b5d36e71"
      },
      "source": [
        "acc = str(accuracy_score(y_test1, y_pred1))\n",
        "print(\"Acurácia: \", acc)\n",
        "\n",
        "prec = str(precision_score(y_test, y_pred, average= 'macro'))\n",
        "print(\"Precisão: \", prec)\n",
        "\n",
        "dp = stdev(y_pred\n",
        "print(\"Desvio-padrão: \", dp)\n",
        "\n",
        "rec = str(recall_score(y_test1, y_pred1, average = 'macro'))\n",
        "print(\"Recall: \", rec)\n",
        "\n",
        "f1 = str(f1_score(y_test1, y_pred1, average = 'macro'))\n",
        "print(\"F1 Score: \", f1)\n",
        "\n",
        "cm = confusion_matrix(y_test1, y_pred1)\n",
        "print(\"Matriz de confusão\")\n",
        "print(cm)"
      ],
      "execution_count": null,
      "outputs": [
        {
          "output_type": "stream",
          "text": [
            "Acurácia:  0.9955116696588869\n",
            "Precisão:  0.6653165316531653\n",
            "Recall:  0.6240990990990991\n",
            "F1 Score:  0.6417315237666431\n",
            "Matriz de confusão\n",
            "[[1108    2]\n",
            " [   3    1]]\n"
          ],
          "name": "stdout"
        }
      ]
    },
    {
      "cell_type": "code",
      "metadata": {
        "colab": {
          "base_uri": "https://localhost:8080/"
        },
        "id": "82FzC0EU3XQm",
        "outputId": "90f37b5d-b652-42ea-a1b8-8292fbf9a914"
      },
      "source": [
        "acc = str(accuracy_score(y_test2, y_pred2))\n",
        "print(\"Acurácia: \", acc)\n",
        "\n",
        "prec = str(precision_score(y_test2, y_pred2, average = 'macro'))\n",
        "print(\"Precisão: \", prec)\n",
        "\n",
        "rec = str(recall_score(y_test2, y_pred2, average = 'macro'))\n",
        "print(\"Recall: \", rec)\n",
        "\n",
        "f1 = str(f1_score(y_test2, y_pred2, average = 'macro'))\n",
        "print(\"F1 Score: \", f1)\n",
        "\n",
        "cm = confusion_matrix(y_test2, y_pred2)\n",
        "print(\"Matriz de confusão\")\n",
        "print(cm)"
      ],
      "execution_count": null,
      "outputs": [
        {
          "output_type": "stream",
          "text": [
            "Acurácia:  0.9974358974358974\n",
            "Precisão:  0.7493573264781491\n",
            "Recall:  0.7493573264781491\n",
            "F1 Score:  0.7493573264781491\n",
            "Matriz de confusão\n",
            "[[777   1]\n",
            " [  1   1]]\n"
          ],
          "name": "stdout"
        }
      ]
    },
    {
      "cell_type": "code",
      "metadata": {
        "colab": {
          "base_uri": "https://localhost:8080/"
        },
        "id": "eHvKxjTF3XQm",
        "outputId": "321f1a69-dc42-47fa-dd55-c73ee85be1d2"
      },
      "source": [
        "acc = str(accuracy_score(y_test3, y_pred3))\n",
        "print(\"Acurácia: \", acc)\n",
        "\n",
        "prec = str(precision_score(y_test3, y_pred3, average = 'macro'))\n",
        "print(\"Precisão: \", prec)\n",
        "\n",
        "rec = str(recall_score(y_test3, y_pred3, average = 'macro'))\n",
        "print(\"Recall: \", rec)\n",
        "\n",
        "f1 = str(f1_score(y_test3, y_pred3, average = 'macro'))\n",
        "print(\"F1 Score: \", f1)\n",
        "\n",
        "cm = confusion_matrix(y_test3, y_pred3)\n",
        "print(\"Matriz de confusão\")\n",
        "print(cm)"
      ],
      "execution_count": null,
      "outputs": [
        {
          "output_type": "stream",
          "text": [
            "Acurácia:  0.9974358974358974\n",
            "Precisão:  0.7493573264781491\n",
            "Recall:  0.7493573264781491\n",
            "F1 Score:  0.7493573264781491\n",
            "Matriz de confusão\n",
            "[[777   1]\n",
            " [  1   1]]\n"
          ],
          "name": "stdout"
        }
      ]
    },
    {
      "cell_type": "code",
      "metadata": {
        "colab": {
          "base_uri": "https://localhost:8080/"
        },
        "id": "iEEsM85L3XQn",
        "outputId": "db1d7336-02bf-4d9b-fc68-c916cba7ebd7"
      },
      "source": [
        "acc = str(accuracy_score(y_test4, y_pred4))\n",
        "print(\"Acurácia: \", acc)\n",
        "\n",
        "prec = str(precision_score(y_test, y_pred, average= 'macro'))\n",
        "print(\"Precisão: \", prec)\n",
        "\n",
        "rec = str(recall_score(y_test4, y_pred4, average = 'macro'))\n",
        "print(\"Recall: \", rec)\n",
        "\n",
        "f1 = str(f1_score(y_test4, y_pred4, average = 'macro'))\n",
        "print(\"F1 Score: \", f1)\n",
        "\n",
        "cm = confusion_matrix(y_test4, y_pred4)\n",
        "print(\"Matriz de confusão\")\n",
        "print(cm)"
      ],
      "execution_count": null,
      "outputs": [
        {
          "output_type": "stream",
          "text": [
            "Acurácia:  0.9961538461538462\n",
            "Precisão:  0.4987163029525032\n",
            "Recall:  0.4993573264781491\n",
            "F1 Score:  0.49903660886319845\n",
            "Matriz de confusão\n",
            "[[777   1]\n",
            " [  2   0]]\n"
          ],
          "name": "stdout"
        }
      ]
    },
    {
      "cell_type": "markdown",
      "metadata": {
        "id": "fw_HoAEe0G7L"
      },
      "source": [
        "# **9. ÁRVORES DE DECISÃO**"
      ]
    },
    {
      "cell_type": "code",
      "metadata": {
        "id": "Hue1l5R9pjga"
      },
      "source": [
        "from sklearn.tree import DecisionTreeClassifier"
      ],
      "execution_count": null,
      "outputs": []
    },
    {
      "cell_type": "code",
      "metadata": {
        "id": "MyrVGmAspkfs"
      },
      "source": [
        "df1 = pd.read_csv('all_seasons_pre_processing.csv')\n",
        "df2 = pd.read_csv('BaseReduzida1.csv')\n",
        "df3 = pd.read_csv('BaseReduzida2.csv')\n",
        "df4 = pd.read_csv('BaseReduzida3.csv')"
      ],
      "execution_count": null,
      "outputs": []
    },
    {
      "cell_type": "code",
      "metadata": {
        "id": "pxh8vkNrrMF2"
      },
      "source": [
        "X1 = df1.iloc[:,:-1].values\n",
        "y1 = df1.iloc[:,-1].values\n",
        "\n",
        "X2 = df2.iloc[:,:-1].values\n",
        "y2 = df2.iloc[:,-1].values\n",
        "\n",
        "X3 = df3.iloc[:,:-1].values\n",
        "y3 = df3.iloc[:,-1].values\n",
        "\n",
        "X4 = df4.iloc[:,:-1].values\n",
        "y4 = df4.iloc[:,-1].values"
      ],
      "execution_count": null,
      "outputs": []
    },
    {
      "cell_type": "code",
      "metadata": {
        "id": "cJ73FBP8qPAi"
      },
      "source": [
        "for train, test in rkf.split(X1, y1):\n",
        "    X_train1 = X1[train]\n",
        "    X_test1 = X1[test]\n",
        "    y_train1 = y1[train]\n",
        "    y_test1 = y1[test]"
      ],
      "execution_count": null,
      "outputs": []
    },
    {
      "cell_type": "code",
      "metadata": {
        "id": "bJXLCXHTqPAs"
      },
      "source": [
        "for train, test in rkf.split(X2, y2):\n",
        "    X_train2 = X2[train]\n",
        "    X_test2 = X2[test]\n",
        "    y_train2 = y2[train]\n",
        "    y_test2 = y2[test]"
      ],
      "execution_count": null,
      "outputs": []
    },
    {
      "cell_type": "code",
      "metadata": {
        "id": "FdNPHYmyqPAs"
      },
      "source": [
        "for train, test in rkf.split(X3, y3):\n",
        "    X_train3 = X3[train]\n",
        "    X_test3 = X3[test]\n",
        "    y_train3 = y3[train]\n",
        "    y_test3 = y3[test]"
      ],
      "execution_count": null,
      "outputs": []
    },
    {
      "cell_type": "code",
      "metadata": {
        "id": "QBiCkAi-qPAs"
      },
      "source": [
        "for train, test in rkf.split(X4, y4):\n",
        "    X_train4 = X4[train]\n",
        "    X_test4 = X4[test]\n",
        "    y_train4 = y4[train]\n",
        "    y_test4 = y4[test]"
      ],
      "execution_count": null,
      "outputs": []
    },
    {
      "cell_type": "code",
      "metadata": {
        "id": "xkQ7T_EGp26N"
      },
      "source": [
        "ad = DecisionTreeClassifier(max_depth = 10, min_samples_split=10, min_samples_leaf=10)"
      ],
      "execution_count": null,
      "outputs": []
    },
    {
      "cell_type": "code",
      "metadata": {
        "id": "VCowJkWCQWMB"
      },
      "source": [
        "#Executa só da primeira vez\n",
        "i = 0\n",
        "\n",
        "if(i == 0):\n",
        "  n_nodes = []\n",
        "  err = []\n",
        "  i += 1"
      ],
      "execution_count": null,
      "outputs": []
    },
    {
      "cell_type": "code",
      "metadata": {
        "id": "mpkJ6fyap9Wk"
      },
      "source": [
        "ad.fit(X_train1, y_train1)\n",
        "y_pred1 = ad.predict(X_test1)\n",
        "n_nodes.append(ad.tree_.node_count)\n",
        "\n",
        "ad.fit(X_train2, y_train2)\n",
        "y_pred2 = ad.predict(X_test2)\n",
        "n_nodes.append(ad.tree_.node_count)\n",
        "\n",
        "ad.fit(X_train3, y_train3)\n",
        "y_pred3 = ad.predict(X_test3)\n",
        "n_nodes.append(ad.tree_.node_count)\n",
        "\n",
        "ad.fit(X_train4, y_train4)\n",
        "y_pred4 = ad.predict(X_test4)\n",
        "n_nodes.append(ad.tree_.node_count)"
      ],
      "execution_count": null,
      "outputs": []
    },
    {
      "cell_type": "code",
      "metadata": {
        "id": "pVSD5q6s_rut"
      },
      "source": [
        "prec = str(precision_score(y_test, y_pred, average= 'macro'))\n",
        "dp = stdev(y_pred)\n",
        "print(\"Precisão: \", prec)\n",
        "print(\"Desvio-padrão: \", dp)"
      ],
      "execution_count": null,
      "outputs": []
    },
    {
      "cell_type": "code",
      "metadata": {
        "id": "WuQXb7_rc3qL"
      },
      "source": [
        "print(y_pred1)"
      ],
      "execution_count": null,
      "outputs": []
    },
    {
      "cell_type": "code",
      "metadata": {
        "id": "APFHUQg7JjhP"
      },
      "source": [
        "print(n_nodes)"
      ],
      "execution_count": null,
      "outputs": []
    },
    {
      "cell_type": "code",
      "metadata": {
        "colab": {
          "base_uri": "https://localhost:8080/"
        },
        "id": "axCS0NKAqC7P",
        "outputId": "bea30ced-ad91-4779-df5c-3ed3a1b1872c"
      },
      "source": [
        "acc = str(accuracy_score(y_test1, y_pred1))\n",
        "print(\"Acurácia:\", acc)\n",
        "\n",
        "cm = confusion_matrix(y_test1, y_pred1)\n",
        "print(\"Matriz de confusão: \")\n",
        "print(cm)\n",
        "\n",
        "err.append((cm[0][1]+cm[1][0])/(cm[0][0]+cm[0][1]+cm[1][0]+cm[1][1]))\n",
        "\n",
        "print(err)"
      ],
      "execution_count": null,
      "outputs": [
        {
          "output_type": "stream",
          "text": [
            "Acurácia: 0.9955116696588869\n",
            "Matriz de confusão: \n",
            "[[1108    2]\n",
            " [   3    1]]\n",
            "[0.004488330341113106]\n"
          ],
          "name": "stdout"
        }
      ]
    },
    {
      "cell_type": "code",
      "metadata": {
        "colab": {
          "base_uri": "https://localhost:8080/"
        },
        "id": "GIK34A4Vq4Fg",
        "outputId": "5065f82a-713a-4f5e-94a3-4ca323f7a9fb"
      },
      "source": [
        "acc = str(accuracy_score(y_test2, y_pred2))\n",
        "print(\"Acurácia:\", acc)\n",
        "\n",
        "cm = confusion_matrix(y_test2, y_pred2)\n",
        "print(\"Matriz de confusão: \")\n",
        "print(cm)\n",
        "\n",
        "err.append((cm[0][1]+cm[1][0])/(cm[0][0]+cm[0][1]+cm[1][0]+cm[1][1]))\n",
        "\n",
        "print(err)"
      ],
      "execution_count": null,
      "outputs": [
        {
          "output_type": "stream",
          "text": [
            "Acurácia: 0.9974358974358974\n",
            "Matriz de confusão: \n",
            "[[778   0]\n",
            " [  2   0]]\n",
            "[0.004488330341113106, 0.002564102564102564]\n"
          ],
          "name": "stdout"
        }
      ]
    },
    {
      "cell_type": "code",
      "metadata": {
        "colab": {
          "base_uri": "https://localhost:8080/"
        },
        "id": "LcT5K23Sq4Xv",
        "outputId": "067d7b14-b5b6-4d56-8ae8-98cc7774b28e"
      },
      "source": [
        "acc = str(accuracy_score(y_test3, y_pred3))\n",
        "print(\"Acurácia:\", acc)\n",
        "\n",
        "cm = confusion_matrix(y_test3, y_pred3)\n",
        "print(\"Matriz de confusão: \")\n",
        "print(cm)\n",
        "\n",
        "err.append((cm[0][1]+cm[1][0])/(cm[0][0]+cm[0][1]+cm[1][0]+cm[1][1]))\n",
        "\n",
        "print(err)"
      ],
      "execution_count": null,
      "outputs": [
        {
          "output_type": "stream",
          "text": [
            "Acurácia: 0.9974358974358974\n",
            "Matriz de confusão: \n",
            "[[778   0]\n",
            " [  2   0]]\n",
            "[0.004488330341113106, 0.002564102564102564, 0.002564102564102564]\n"
          ],
          "name": "stdout"
        }
      ]
    },
    {
      "cell_type": "code",
      "metadata": {
        "colab": {
          "base_uri": "https://localhost:8080/"
        },
        "id": "7T43y_AKq4fs",
        "outputId": "f4ca6df8-ede7-4ecf-9f86-f6bb63377d70"
      },
      "source": [
        "acc = str(accuracy_score(y_test4, y_pred4))\n",
        "print(\"Acurácia:\", acc)\n",
        "\n",
        "cm = confusion_matrix(y_test4, y_pred4)\n",
        "print(\"Matriz de confusão: \")\n",
        "print(cm)\n",
        "\n",
        "err.append((cm[0][1]+cm[1][0])/(cm[0][0]+cm[0][1]+cm[1][0]+cm[1][1]))\n",
        "\n",
        "print(err)"
      ],
      "execution_count": null,
      "outputs": [
        {
          "output_type": "stream",
          "text": [
            "Acurácia: 0.9974358974358974\n",
            "Matriz de confusão: \n",
            "[[778   0]\n",
            " [  2   0]]\n",
            "[0.004488330341113106, 0.002564102564102564, 0.002564102564102564, 0.002564102564102564]\n"
          ],
          "name": "stdout"
        }
      ]
    },
    {
      "cell_type": "markdown",
      "metadata": {
        "id": "Yb5KYpEH0MCQ"
      },
      "source": [
        "#    **10. NAIVE BAYES**"
      ]
    },
    {
      "cell_type": "code",
      "metadata": {
        "id": "_AYtCwwnrd01"
      },
      "source": [
        "from sklearn.naive_bayes import GaussianNB\n",
        "from sklearn.model_selection import RepeatedKFold\n",
        "import numpy as np \n",
        "import pylab \n",
        "import scipy.stats as stats\n",
        "import pandas as pd\n",
        "import matplotlib.pyplot as plt\n",
        "from google.colab import drive\n"
      ],
      "execution_count": null,
      "outputs": []
    },
    {
      "cell_type": "code",
      "metadata": {
        "id": "XNSzt0KAsyX3"
      },
      "source": [
        "df1 = pd.read_csv('all_seasons_pre_processing.csv')\n",
        "df2 = pd.read_csv('BaseReduzida1.csv')\n",
        "df3 = pd.read_csv('BaseReduzida2.csv')\n",
        "df4 = pd.read_csv('BaseReduzida3.csv')"
      ],
      "execution_count": null,
      "outputs": []
    },
    {
      "cell_type": "code",
      "metadata": {
        "id": "a6_84uPGscFh"
      },
      "source": [
        "rkf = RepeatedKFold(n_splits=10, n_repeats=3, random_state=1)"
      ],
      "execution_count": null,
      "outputs": []
    },
    {
      "cell_type": "code",
      "metadata": {
        "id": "bwWctbT2syX4"
      },
      "source": [
        "X1 = df1.iloc[:,:-1].values\n",
        "y1 = df1.iloc[:,-1].values\n",
        "\n",
        "X2 = df2.iloc[:,:-1].values\n",
        "y2 = df2.iloc[:,-1].values\n",
        "\n",
        "X3 = df3.iloc[:,:-1].values\n",
        "y3 = df3.iloc[:,-1].values\n",
        "\n",
        "X4 = df4.iloc[:,:-1].values\n",
        "y4 = df4.iloc[:,-1].values"
      ],
      "execution_count": null,
      "outputs": []
    },
    {
      "cell_type": "code",
      "metadata": {
        "id": "1-ZWn5r6syX4"
      },
      "source": [
        "for train, test in rkf.split(X1, y1):\n",
        "    X_train1 = X1[train]\n",
        "    X_test1 = X1[test]\n",
        "    y_train1 = y1[train]\n",
        "    y_test1 = y1[test]"
      ],
      "execution_count": null,
      "outputs": []
    },
    {
      "cell_type": "code",
      "metadata": {
        "id": "aHRJTnMTsyX5"
      },
      "source": [
        "for train, test in rkf.split(X2, y2):\n",
        "    X_train2 = X2[train]\n",
        "    X_test2 = X2[test]\n",
        "    y_train2 = y2[train]\n",
        "    y_test2 = y2[test]"
      ],
      "execution_count": null,
      "outputs": []
    },
    {
      "cell_type": "code",
      "metadata": {
        "id": "7OBW3DgDsyX5"
      },
      "source": [
        "for train, test in rkf.split(X3, y3):\n",
        "    X_train3 = X3[train]\n",
        "    X_test3 = X3[test]\n",
        "    y_train3 = y3[train]\n",
        "    y_test3 = y3[test]"
      ],
      "execution_count": null,
      "outputs": []
    },
    {
      "cell_type": "code",
      "metadata": {
        "id": "Fs83qvrHsyX6"
      },
      "source": [
        "for train, test in rkf.split(X4, y4):\n",
        "    X_train4 = X4[train]\n",
        "    X_test4 = X4[test]\n",
        "    y_train4 = y4[train]\n",
        "    y_test4 = y4[test]"
      ],
      "execution_count": null,
      "outputs": []
    },
    {
      "cell_type": "code",
      "metadata": {
        "id": "HzVdrCtCsKIk"
      },
      "source": [
        "nb = GaussianNB()"
      ],
      "execution_count": null,
      "outputs": []
    },
    {
      "cell_type": "code",
      "metadata": {
        "id": "1d6BMHiLs68Q"
      },
      "source": [
        "nb.fit(X_train1, y_train1)\n",
        "y_pred1 = nb.predict(X_test1)\n",
        "\n",
        "nb.fit(X_train2, y_train2)\n",
        "y_pred2 = nb.predict(X_test2)\n",
        "\n",
        "nb.fit(X_train3, y_train3)\n",
        "y_pred3 = nb.predict(X_test3)\n",
        "\n",
        "nb.fit(X_train4, y_train4)\n",
        "y_pred4 = nb.predict(X_test4)"
      ],
      "execution_count": null,
      "outputs": []
    },
    {
      "cell_type": "code",
      "metadata": {
        "colab": {
          "base_uri": "https://localhost:8080/"
        },
        "id": "FFdQXDwX_yGL",
        "outputId": "3704d3d4-30f8-4c95-d72e-ef113e431179"
      },
      "source": [
        "prec = str(precision_score(y_test, y_pred, average= 'macro'))\n",
        "dp = stdev(y_pred)\n",
        "print(\"Precisão: \", prec)\n",
        "print(\"Desvio-padrão: \", dp)"
      ],
      "execution_count": null,
      "outputs": [
        {
          "output_type": "stream",
          "text": [
            "Precisão:  0.5588235294117647\n"
          ],
          "name": "stdout"
        }
      ]
    },
    {
      "cell_type": "code",
      "metadata": {
        "colab": {
          "base_uri": "https://localhost:8080/"
        },
        "id": "-4QT062ltH8b",
        "outputId": "3082817e-8ad7-44b7-a9ae-770ffc471c98"
      },
      "source": [
        "acc = str(accuracy_score(y_test1, y_pred1))\n",
        "print(\"Acurácia:\", acc)\n",
        "\n",
        "cm = confusion_matrix(y_test1, y_pred1)\n",
        "print(\"Matriz de confusão: \")\n",
        "print(cm)"
      ],
      "execution_count": null,
      "outputs": [
        {
          "output_type": "stream",
          "text": [
            "Acurácia: 0.9730700179533214\n",
            "Matriz de confusão: \n",
            "[[1080   30]\n",
            " [   0    4]]\n"
          ],
          "name": "stdout"
        }
      ]
    },
    {
      "cell_type": "code",
      "metadata": {
        "colab": {
          "base_uri": "https://localhost:8080/"
        },
        "id": "Ry_BkeIptH8c",
        "outputId": "b567e822-59c7-448e-ec07-104a44a82166"
      },
      "source": [
        "acc = str(accuracy_score(y_test2, y_pred2))\n",
        "print(\"Acurácia:\", acc)\n",
        "\n",
        "cm = confusion_matrix(y_test2, y_pred2)\n",
        "print(\"Matriz de confusão: \")\n",
        "print(cm)"
      ],
      "execution_count": null,
      "outputs": [
        {
          "output_type": "stream",
          "text": [
            "Acurácia: 0.9782051282051282\n",
            "Matriz de confusão: \n",
            "[[761  17]\n",
            " [  0   2]]\n"
          ],
          "name": "stdout"
        }
      ]
    },
    {
      "cell_type": "code",
      "metadata": {
        "colab": {
          "base_uri": "https://localhost:8080/"
        },
        "id": "Vsh8TEkGtH8d",
        "outputId": "89e22ef0-2c43-4d3a-d952-6ef9144418dd"
      },
      "source": [
        "acc = str(accuracy_score(y_test3, y_pred3))\n",
        "print(\"Acurácia:\", acc)\n",
        "\n",
        "cm = confusion_matrix(y_test3, y_pred3)\n",
        "print(\"Matriz de confusão: \")\n",
        "print(cm)"
      ],
      "execution_count": null,
      "outputs": [
        {
          "output_type": "stream",
          "text": [
            "Acurácia: 0.9807692307692307\n",
            "Matriz de confusão: \n",
            "[[763  15]\n",
            " [  0   2]]\n"
          ],
          "name": "stdout"
        }
      ]
    },
    {
      "cell_type": "code",
      "metadata": {
        "colab": {
          "base_uri": "https://localhost:8080/"
        },
        "id": "SMKFZgDWtH8d",
        "outputId": "eea99fe4-55ff-4fac-8906-711aabc47feb"
      },
      "source": [
        "acc = str(accuracy_score(y_test4, y_pred4))\n",
        "print(\"Acurácia:\", acc)\n",
        "\n",
        "cm = confusion_matrix(y_test4, y_pred4)\n",
        "print(\"Matriz de confusão: \")\n",
        "print(cm)"
      ],
      "execution_count": null,
      "outputs": [
        {
          "output_type": "stream",
          "text": [
            "Acurácia: 0.9935897435897436\n",
            "Matriz de confusão: \n",
            "[[774   4]\n",
            " [  1   1]]\n"
          ],
          "name": "stdout"
        }
      ]
    },
    {
      "cell_type": "code",
      "metadata": {
        "id": "jhS_rthi9nL9"
      },
      "source": [
        ""
      ],
      "execution_count": null,
      "outputs": []
    },
    {
      "cell_type": "markdown",
      "metadata": {
        "id": "P6Bd9nat0Ua7"
      },
      "source": [
        "#    **11. REDES NEURAIS**"
      ]
    },
    {
      "cell_type": "code",
      "metadata": {
        "id": "07cl9O2mt-q1"
      },
      "source": [
        "from sklearn.neural_network import MLPClassifier"
      ],
      "execution_count": null,
      "outputs": []
    },
    {
      "cell_type": "code",
      "metadata": {
        "id": "RP0LxL33uFaK"
      },
      "source": [
        "df1 = pd.read_csv('all_seasons_pre_processing.csv')\n",
        "df2 = pd.read_csv('BaseReduzida1.csv')\n",
        "df3 = pd.read_csv('BaseReduzida2.csv')\n",
        "df4 = pd.read_csv('BaseReduzida3.csv')"
      ],
      "execution_count": null,
      "outputs": []
    },
    {
      "cell_type": "code",
      "metadata": {
        "id": "4aK6GaLYuFaK"
      },
      "source": [
        "X1 = df1.iloc[:,:-1].values\n",
        "y1 = df1.iloc[:,-1].values\n",
        "\n",
        "X2 = df2.iloc[:,:-1].values\n",
        "y2 = df2.iloc[:,-1].values\n",
        "\n",
        "X3 = df3.iloc[:,:-1].values\n",
        "y3 = df3.iloc[:,-1].values\n",
        "\n",
        "X4 = df4.iloc[:,:-1].values\n",
        "y4 = df4.iloc[:,-1].values"
      ],
      "execution_count": null,
      "outputs": []
    },
    {
      "cell_type": "code",
      "metadata": {
        "id": "SxfbjOXHuFaL"
      },
      "source": [
        "for train, test in rkf.split(X1, y1):\n",
        "    X_train1 = X1[train]\n",
        "    X_test1 = X1[test]\n",
        "    y_train1 = y1[train]\n",
        "    y_test1 = y1[test]"
      ],
      "execution_count": null,
      "outputs": []
    },
    {
      "cell_type": "code",
      "metadata": {
        "id": "V3G6c8ByuFaQ"
      },
      "source": [
        "for train, test in rkf.split(X2, y2):\n",
        "    X_train2 = X2[train]\n",
        "    X_test2 = X2[test]\n",
        "    y_train2 = y2[train]\n",
        "    y_test2 = y2[test]"
      ],
      "execution_count": null,
      "outputs": []
    },
    {
      "cell_type": "code",
      "metadata": {
        "id": "lyfF4BMSuFaQ"
      },
      "source": [
        "for train, test in rkf.split(X3, y3):\n",
        "    X_train3 = X3[train]\n",
        "    X_test3 = X3[test]\n",
        "    y_train3 = y3[train]\n",
        "    y_test3 = y3[test]"
      ],
      "execution_count": null,
      "outputs": []
    },
    {
      "cell_type": "code",
      "metadata": {
        "id": "zstLnrX0uFaS"
      },
      "source": [
        "for train, test in rkf.split(X4, y4):\n",
        "    X_train4 = X4[train]\n",
        "    X_test4 = X4[test]\n",
        "    y_train4 = y4[train]\n",
        "    y_test4 = y4[test]"
      ],
      "execution_count": null,
      "outputs": []
    },
    {
      "cell_type": "code",
      "metadata": {
        "id": "idgp9uapuBRH"
      },
      "source": [
        "mlp = MLPClassifier(solver='sgd', momentum=0.8, hidden_layer_sizes=(300), learning_rate='constant', learning_rate_init=0.01, max_iter=500, random_state=1)"
      ],
      "execution_count": null,
      "outputs": []
    },
    {
      "cell_type": "code",
      "metadata": {
        "colab": {
          "base_uri": "https://localhost:8080/"
        },
        "id": "5FGTq5ETuNAd",
        "outputId": "d3d80161-1bf5-47ca-edcc-d926f5b02408"
      },
      "source": [
        "mlp.fit(X_train1, y_train1)\n",
        "y_pred1 = mlp.predict(X_test1)\n",
        "\n",
        "mlp.fit(X_train2, y_train2)\n",
        "y_pred2 = mlp.predict(X_test2)\n",
        "\n",
        "mlp.fit(X_train3, y_train3)\n",
        "y_pred3 = mlp.predict(X_test3)\n",
        "\n",
        "mlp.fit(X_train4, y_train4)\n",
        "y_pred4 = mlp.predict(X_test4)"
      ],
      "execution_count": null,
      "outputs": [
        {
          "output_type": "stream",
          "text": [
            "/usr/local/lib/python3.7/dist-packages/sklearn/neural_network/_multilayer_perceptron.py:571: ConvergenceWarning: Stochastic Optimizer: Maximum iterations (500) reached and the optimization hasn't converged yet.\n",
            "  % self.max_iter, ConvergenceWarning)\n",
            "/usr/local/lib/python3.7/dist-packages/sklearn/neural_network/_multilayer_perceptron.py:571: ConvergenceWarning: Stochastic Optimizer: Maximum iterations (500) reached and the optimization hasn't converged yet.\n",
            "  % self.max_iter, ConvergenceWarning)\n"
          ],
          "name": "stderr"
        }
      ]
    },
    {
      "cell_type": "code",
      "metadata": {
        "colab": {
          "base_uri": "https://localhost:8080/"
        },
        "id": "RPhVyvA3_1Tr",
        "outputId": "431bc403-7f59-43bd-b22c-794590a05368"
      },
      "source": [
        "prec = str(precision_score(y_test, y_pred, average= 'macro'))\n",
        "dp = stdev(y_pred)\n",
        "print(\"Precisão: \", prec)\n",
        "print(\"Desvio-padrão: \", dp)"
      ],
      "execution_count": null,
      "outputs": [
        {
          "output_type": "stream",
          "text": [
            "Precisão:  0.4982046678635548\n"
          ],
          "name": "stdout"
        },
        {
          "output_type": "stream",
          "text": [
            "/usr/local/lib/python3.7/dist-packages/sklearn/metrics/_classification.py:1272: UndefinedMetricWarning: Precision is ill-defined and being set to 0.0 in labels with no predicted samples. Use `zero_division` parameter to control this behavior.\n",
            "  _warn_prf(average, modifier, msg_start, len(result))\n"
          ],
          "name": "stderr"
        }
      ]
    },
    {
      "cell_type": "code",
      "metadata": {
        "colab": {
          "base_uri": "https://localhost:8080/"
        },
        "id": "cAT28PAyuecV",
        "outputId": "d639e35f-98d3-4fee-d225-b49a747ec5ce"
      },
      "source": [
        "acc = str(accuracy_score(y_test1, y_pred1))\n",
        "print(\"Acurácia:\", acc)\n",
        "\n",
        "cm = confusion_matrix(y_test1, y_pred1)\n",
        "print(\"Matriz de confusão: \")\n",
        "print(cm)"
      ],
      "execution_count": null,
      "outputs": [
        {
          "output_type": "stream",
          "text": [
            "Acurácia: 0.9964093357271095\n",
            "Matriz de confusão: \n",
            "[[1110    0]\n",
            " [   4    0]]\n"
          ],
          "name": "stdout"
        }
      ]
    },
    {
      "cell_type": "code",
      "metadata": {
        "colab": {
          "base_uri": "https://localhost:8080/"
        },
        "id": "IZWROCnsuecV",
        "outputId": "293db566-2945-43d3-eac7-7ed578facf14"
      },
      "source": [
        "acc = str(accuracy_score(y_test2, y_pred2))\n",
        "print(\"Acurácia:\", acc)\n",
        "\n",
        "cm = confusion_matrix(y_test2, y_pred2)\n",
        "print(\"Matriz de confusão: \")\n",
        "print(cm)"
      ],
      "execution_count": null,
      "outputs": [
        {
          "output_type": "stream",
          "text": [
            "Acurácia: 0.9974358974358974\n",
            "Matriz de confusão: \n",
            "[[778   0]\n",
            " [  2   0]]\n"
          ],
          "name": "stdout"
        }
      ]
    },
    {
      "cell_type": "code",
      "metadata": {
        "colab": {
          "base_uri": "https://localhost:8080/"
        },
        "id": "Hsv9j86CuecW",
        "outputId": "e2b963ea-071d-4563-bec9-a1f03884bcfa"
      },
      "source": [
        "acc = str(accuracy_score(y_test3, y_pred3))\n",
        "print(\"Acurácia:\", acc)\n",
        "\n",
        "cm = confusion_matrix(y_test3, y_pred3)\n",
        "print(\"Matriz de confusão: \")\n",
        "print(cm)"
      ],
      "execution_count": null,
      "outputs": [
        {
          "output_type": "stream",
          "text": [
            "Acurácia: 0.9935897435897436\n",
            "Matriz de confusão: \n",
            "[[773   5]\n",
            " [  0   2]]\n"
          ],
          "name": "stdout"
        }
      ]
    },
    {
      "cell_type": "code",
      "metadata": {
        "colab": {
          "base_uri": "https://localhost:8080/"
        },
        "id": "eUx_dnqduecW",
        "outputId": "f8fc42b7-cc77-40f7-b95e-47a99a6403bd"
      },
      "source": [
        "acc = str(accuracy_score(y_test4, y_pred4))\n",
        "print(\"Acurácia:\", acc)\n",
        "\n",
        "cm = confusion_matrix(y_test4, y_pred4)\n",
        "print(\"Matriz de confusão: \")\n",
        "print(cm)"
      ],
      "execution_count": null,
      "outputs": [
        {
          "output_type": "stream",
          "text": [
            "Acurácia: 0.9974358974358974\n",
            "Matriz de confusão: \n",
            "[[778   0]\n",
            " [  2   0]]\n"
          ],
          "name": "stdout"
        }
      ]
    },
    {
      "cell_type": "markdown",
      "metadata": {
        "id": "esb3Xu-mDBqt"
      },
      "source": [
        "# **12. k-MEANS**"
      ]
    },
    {
      "cell_type": "code",
      "metadata": {
        "id": "9nmlVIUYDlyS"
      },
      "source": [
        "from sklearn.cluster import KMeans\n",
        "from sklearn.metrics import davies_bouldin_score\n",
        "from sklearn.metrics import silhouette_score"
      ],
      "execution_count": null,
      "outputs": []
    },
    {
      "cell_type": "code",
      "metadata": {
        "id": "nCFalkzXkaMg"
      },
      "source": [
        "db = []\n",
        "si = []\n",
        "dp_db = []\n",
        "dp_si = []\n",
        "mean_db = []\n",
        "mean_si = []"
      ],
      "execution_count": null,
      "outputs": []
    },
    {
      "cell_type": "code",
      "metadata": {
        "id": "jPY4hdK0vCw3"
      },
      "source": [
        "for x in range(2, 21):\n",
        "  df = pd.read_csv('all_seasons_pre_processing.csv')\n",
        "  df = df.drop('was_mvp', axis=1)\n",
        "\n",
        "  km = KMeans(n_clusters=x, init='k-means++', max_iter = 300, n_init=5, random_state = 0)\n",
        "  km.fit(df)\n",
        "  predict = km.fit_predict(df)\n",
        "  centroids = km.cluster_centers_\n",
        "\n",
        "  df[\"Cluster\"] = km.labels_\n",
        "  labels = df[\"Cluster\"]\n",
        "\n",
        "  db.append(davies_bouldin_score(df, labels))\n",
        "  si.append(silhouette_score(df, labels))\n",
        "  dp_db.append(np.std(davies_bouldin_score(df, labels)))\n",
        "  dp_si.append(np.std(silhouette_score(df, labels)))\n",
        "  mean_db.append(np.mean(davies_bouldin_score(df, labels)))\n",
        "  mean_si.append(np.mean(silhouette_score(df, labels)))\n"
      ],
      "execution_count": null,
      "outputs": []
    },
    {
      "cell_type": "code",
      "metadata": {
        "id": "oZfg2-7moleV"
      },
      "source": [
        "k_means = [db, si, dp_db, dp_si, mean_db, mean_si]"
      ],
      "execution_count": null,
      "outputs": []
    },
    {
      "cell_type": "code",
      "metadata": {
        "colab": {
          "base_uri": "https://localhost:8080/"
        },
        "id": "NnLIB6QtzNV9",
        "outputId": "9688629f-da0e-4ab1-90b8-e4c2254fdcca"
      },
      "source": [
        "print(k_means)"
      ],
      "execution_count": null,
      "outputs": [
        {
          "output_type": "stream",
          "text": [
            "[[0.500677060354062, 0.5096348806776979, 0.500677060354062, 0.5096348806776979, 0.5134773410705106, 0.531496987569788, 0.5355760821337144, 0.5424387607374069, 0.5512869236507786, 0.5723842549587991, 0.5856093788500542, 0.5945567488982121, 0.6122187006877642, 0.6312778473934646, 0.6424252166360283, 0.6546885874043039, 0.6720843189528113, 0.6856431271641682, 0.7049493772780531, 0.7172006283154517, 0.7395140283991966], [0.6266815471364442, 0.5851547696511393, 0.6266815471364442, 0.5851547696511393, 0.5645419762910631, 0.539246754909167, 0.5312074318697858, 0.5215396372059196, 0.5132007203710692, 0.4957268647494867, 0.486204994872483, 0.480793153691667, 0.470209085116004, 0.4575059510435769, 0.4506165441105029, 0.44588125218548347, 0.43683268228800615, 0.42848594012608804, 0.41955074909052564, 0.4158827246269716, 0.40199112268243203], [0.0, 0.0, 0.0, 0.0, 0.0, 0.0, 0.0, 0.0, 0.0, 0.0, 0.0, 0.0, 0.0, 0.0, 0.0, 0.0, 0.0, 0.0, 0.0, 0.0, 0.0], [0.0, 0.0, 0.0, 0.0, 0.0, 0.0, 0.0, 0.0, 0.0, 0.0, 0.0, 0.0, 0.0, 0.0, 0.0, 0.0, 0.0, 0.0, 0.0, 0.0], [0.500677060354062, 0.500677060354062, 0.5096348806776979, 0.5134773410705106, 0.531496987569788, 0.5355760821337144, 0.5424387607374069, 0.5512869236507786, 0.5723842549587991, 0.5856093788500542, 0.5945567488982121, 0.6122187006877642, 0.6312778473934646, 0.6424252166360283, 0.6546885874043039, 0.6720843189528113, 0.6856431271641682, 0.7049493772780531, 0.7172006283154517, 0.7395140283991966], [0.6266815471364442, 0.6266815471364442, 0.5851547696511393, 0.5645419762910631, 0.539246754909167, 0.5312074318697858, 0.5215396372059196, 0.5132007203710692, 0.4957268647494867, 0.486204994872483, 0.480793153691667, 0.470209085116004, 0.4575059510435769, 0.4506165441105029, 0.44588125218548347, 0.43683268228800615, 0.42848594012608804, 0.41955074909052564, 0.4158827246269716, 0.40199112268243203]]\n"
          ],
          "name": "stdout"
        }
      ]
    },
    {
      "cell_type": "markdown",
      "metadata": {
        "id": "5fcS2R_GDJh5"
      },
      "source": [
        "# **13. HIERÁRQUICO AGLOMERATIVO**"
      ]
    },
    {
      "cell_type": "code",
      "metadata": {
        "id": "wWAHNPg2DmQP"
      },
      "source": [
        "from sklearn.cluster import AgglomerativeClustering\n",
        "from sklearn.metrics import davies_bouldin_score\n",
        "from sklearn.metrics import silhouette_score"
      ],
      "execution_count": null,
      "outputs": []
    },
    {
      "cell_type": "code",
      "metadata": {
        "id": "3T3O6-Mhqrqd"
      },
      "source": [
        "db = []\n",
        "si = []\n",
        "dp_db = []\n",
        "dp_si = []\n",
        "mean_db = []\n",
        "mean_si = []"
      ],
      "execution_count": null,
      "outputs": []
    },
    {
      "cell_type": "code",
      "metadata": {
        "id": "yqOpitmeqvDU"
      },
      "source": [
        "for x in range(2, 21):\n",
        "  df = pd.read_csv('all_seasons_pre_processing.csv')\n",
        "  df = df.drop('was_mvp', axis=1)\n",
        "\n",
        "  ahc = AgglomerativeClustering(n_clusters=x, affinity='euclidean', linkage='complete')\n",
        "  ahc.fit(df)\n",
        "  ahc.fit_predict(df)\n",
        "\n",
        "  df[\"Cluster\"] = ahc.labels_\n",
        "  labels = df[\"Cluster\"]\n",
        "\n",
        "  db.append(davies_bouldin_score(df, labels))\n",
        "  si.append(silhouette_score(df, labels))\n",
        "  dp_db.append(np.std(davies_bouldin_score(df, labels)))\n",
        "  dp_si.append(np.std(silhouette_score(df, labels)))\n",
        "  mean_db.append(np.mean(davies_bouldin_score(df, labels)))\n",
        "  mean_si.append(np.mean(silhouette_score(df, labels)))"
      ],
      "execution_count": null,
      "outputs": []
    },
    {
      "cell_type": "code",
      "metadata": {
        "id": "w8TF7Mk8oxnL"
      },
      "source": [
        "aglomerative = [db, si, dp_db, dp_si, mean_db, mean_si]"
      ],
      "execution_count": null,
      "outputs": []
    },
    {
      "cell_type": "code",
      "metadata": {
        "colab": {
          "base_uri": "https://localhost:8080/"
        },
        "id": "eHD70RpCzULy",
        "outputId": "ba02fa35-0842-4842-82b6-c5038fdced98"
      },
      "source": [
        "print(aglomerative)"
      ],
      "execution_count": null,
      "outputs": [
        {
          "output_type": "stream",
          "text": [
            "[[0.5006768688432589, 0.5094854202913034, 0.5189099940648586, 0.5403680013834244, 0.5475044939039189, 0.5513715648960146, 0.5641373372973887, 0.5731139092541927, 0.540123030987208, 0.5142688604098352, 0.5378752425525694, 0.5578092957187313, 0.5731142891599573, 0.5828337057063842, 0.5658145864523132, 0.6242797052932993, 0.6413973967447048, 0.6867515914100577, 0.7002614875787653], [0.626549872465282, 0.5298998434509639, 0.5425899775142866, 0.49049173235392085, 0.46458573613701065, 0.4824682696326485, 0.4684299173850125, 0.47681462872011826, 0.47564181042234066, 0.47555409727398923, 0.446321849031763, 0.4410086111783164, 0.4332247483492806, 0.4357888669323669, 0.4354108725949094, 0.42946314267793506, 0.4106932900189419, 0.38845583810488904, 0.3825504768223273], [0.0, 0.0, 0.0, 0.0, 0.0, 0.0, 0.0, 0.0, 0.0, 0.0, 0.0, 0.0, 0.0, 0.0, 0.0, 0.0, 0.0, 0.0, 0.0], [0.0, 0.0, 0.0, 0.0, 0.0, 0.0, 0.0, 0.0, 0.0, 0.0, 0.0, 0.0, 0.0, 0.0, 0.0, 0.0, 0.0, 0.0, 0.0], [0.5006768688432589, 0.5094854202913034, 0.5189099940648586, 0.5403680013834244, 0.5475044939039189, 0.5513715648960146, 0.5641373372973887, 0.5731139092541927, 0.540123030987208, 0.5142688604098352, 0.5378752425525694, 0.5578092957187313, 0.5731142891599573, 0.5828337057063842, 0.5658145864523132, 0.6242797052932993, 0.6413973967447048, 0.6867515914100577, 0.7002614875787653], [0.626549872465282, 0.5298998434509639, 0.5425899775142866, 0.49049173235392085, 0.46458573613701065, 0.4824682696326485, 0.4684299173850125, 0.47681462872011826, 0.47564181042234066, 0.47555409727398923, 0.446321849031763, 0.4410086111783164, 0.4332247483492806, 0.4357888669323669, 0.4354108725949094, 0.42946314267793506, 0.4106932900189419, 0.38845583810488904, 0.3825504768223273]]\n"
          ],
          "name": "stdout"
        }
      ]
    },
    {
      "cell_type": "markdown",
      "metadata": {
        "id": "Um0qeJ8xDJqG"
      },
      "source": [
        "# **14. EXPECTATION MAXIMIZATION (EM)**"
      ]
    },
    {
      "cell_type": "code",
      "metadata": {
        "id": "klMr8-kGDnH9"
      },
      "source": [
        "from sklearn.mixture import GaussianMixture #EM\n",
        "from sklearn.metrics import davies_bouldin_score\n",
        "from sklearn.metrics import silhouette_score"
      ],
      "execution_count": null,
      "outputs": []
    },
    {
      "cell_type": "code",
      "metadata": {
        "id": "kLRo_LdGq9fo"
      },
      "source": [
        "db = []\n",
        "si = []\n",
        "dp_db = []\n",
        "dp_si = []\n",
        "mean_db = []\n",
        "mean_si = []"
      ],
      "execution_count": null,
      "outputs": []
    },
    {
      "cell_type": "code",
      "metadata": {
        "id": "HINzUtXHq-dk"
      },
      "source": [
        "for x in range(2, 21):\n",
        "  df = pd.read_csv('all_seasons_pre_processing.csv')\n",
        "  df = df.drop('was_mvp', axis=1)\n",
        "\n",
        "  gmm = GaussianMixture(n_components=x, n_init=5, covariance_type='full')\n",
        "  gmm.fit(df)\n",
        "\n",
        "  df[\"Cluster\"] = gmm.predict(df)\n",
        "  labels = df[\"Cluster\"]\n",
        "\n",
        "  db.append(davies_bouldin_score(df, labels))\n",
        "  si.append(silhouette_score(df, labels))\n",
        "  dp_db.append(np.std(davies_bouldin_score(df, labels)))\n",
        "  dp_si.append(np.std(silhouette_score(df, labels)))\n",
        "  mean_db.append(np.mean(davies_bouldin_score(df, labels)))\n",
        "  mean_si.append(np.mean(silhouette_score(df, labels)))"
      ],
      "execution_count": null,
      "outputs": []
    },
    {
      "cell_type": "code",
      "metadata": {
        "id": "vcaQGZk9q9fo"
      },
      "source": [
        "em = [db, si, dp_db, dp_si, mean_db, mean_si]"
      ],
      "execution_count": null,
      "outputs": []
    },
    {
      "cell_type": "code",
      "metadata": {
        "colab": {
          "base_uri": "https://localhost:8080/"
        },
        "id": "yf0U8AuRzeI6",
        "outputId": "8bfd26b8-31ce-4439-cd12-2f4d052676f8"
      },
      "source": [
        "print(em)"
      ],
      "execution_count": null,
      "outputs": [
        {
          "output_type": "stream",
          "text": [
            "[[24.23388433762704, 40.199151538280404, 45.095836386634886, 41.65304820880058, 53.42866730573683, 98.15534966194998, 82.88368838571918, 49.88548601834146, 67.88162161227312, 81.18275560929501, 52.97465908207689, 73.0504973626924, 60.3552921704178, 64.88255603606984, 74.45640511558452, 60.68929849192163, 49.83191181072512, 61.193867835881306, 29.617821348126746], [-0.0012670346738484063, -0.008426890057027361, -0.011354648903902061, -0.017858896615094783, -0.02556860871209009, -0.04153506934535949, -0.028277404210741104, -0.04509985013112345, -0.04470309002002829, -0.029664279796381258, -0.06274012240091459, -0.03703241641285682, -0.06763226011257079, -0.06388077966831082, -0.25993774369156936, -0.3338880985620983, -0.34410548721770334, -0.429223412941188, -0.4804974334440304], [0.0, 0.0, 0.0, 0.0, 0.0, 0.0, 0.0, 0.0, 0.0, 0.0, 0.0, 0.0, 0.0, 0.0, 0.0, 0.0, 0.0, 0.0, 0.0], [0.0, 0.0, 0.0, 0.0, 0.0, 0.0, 0.0, 0.0, 0.0, 0.0, 0.0, 0.0, 0.0, 0.0, 0.0, 0.0, 0.0, 0.0, 0.0], [24.23388433762704, 40.199151538280404, 45.095836386634886, 41.65304820880058, 53.42866730573683, 98.15534966194998, 82.88368838571918, 49.88548601834146, 67.88162161227312, 81.18275560929501, 52.97465908207689, 73.0504973626924, 60.3552921704178, 64.88255603606984, 74.45640511558452, 60.68929849192163, 49.83191181072512, 61.193867835881306, 29.617821348126746], [-0.0012670346738484063, -0.008426890057027361, -0.011354648903902061, -0.017858896615094783, -0.02556860871209009, -0.04153506934535949, -0.028277404210741104, -0.04509985013112345, -0.04470309002002829, -0.029664279796381258, -0.06274012240091459, -0.03703241641285682, -0.06763226011257079, -0.06388077966831082, -0.25993774369156936, -0.3338880985620983, -0.34410548721770334, -0.429223412941188, -0.4804974334440304]]\n"
          ],
          "name": "stdout"
        }
      ]
    },
    {
      "cell_type": "markdown",
      "metadata": {
        "id": "dV6wnE9yz8Si"
      },
      "source": [
        "\n",
        "\n",
        "---\n",
        "\n"
      ]
    },
    {
      "cell_type": "markdown",
      "metadata": {
        "id": "LvDK_O1jz0TY"
      },
      "source": [
        "- Em todos os três casos, o melhor k foi 2 (era o que a gente esperava, já que nosso target é binário: ou o cara é MVP, ou ele não é).\n",
        "\n",
        "- Nos três casos, k = 2 teve o menor DB e o maior Silhouette.\n",
        "\n",
        "- O resultado foi o mesmo nos três casos."
      ]
    },
    {
      "cell_type": "markdown",
      "metadata": {
        "id": "8HtsrRju3Pwq"
      },
      "source": [
        "# **15.   BOOSTING**"
      ]
    },
    {
      "cell_type": "code",
      "metadata": {
        "id": "NRQjUlnCwhc_"
      },
      "source": [
        "from sklearn.ensemble import BaggingClassifier, StackingClassifier, AdaBoostClassifier\n",
        "from statistics import stdev"
      ],
      "execution_count": null,
      "outputs": []
    },
    {
      "cell_type": "code",
      "metadata": {
        "id": "aoA1D4ZW4O1Q"
      },
      "source": [
        "df = pd.read_csv(\"all_seasons_pre_processing.csv\")"
      ],
      "execution_count": null,
      "outputs": []
    },
    {
      "cell_type": "code",
      "metadata": {
        "id": "dlYUw7YFzoAC"
      },
      "source": [
        "X = df.iloc[:,:-1].values\n",
        "y = df.iloc[:,-1].values"
      ],
      "execution_count": null,
      "outputs": []
    },
    {
      "cell_type": "code",
      "metadata": {
        "id": "6EZPOv7Szq73"
      },
      "source": [
        "rkf = RepeatedKFold(n_splits=10, n_repeats=3, random_state=1)"
      ],
      "execution_count": null,
      "outputs": []
    },
    {
      "cell_type": "code",
      "metadata": {
        "id": "zaRciFFNz9_A"
      },
      "source": [
        "for train, test in rkf.split(X, y):\n",
        "    X_train = X[train]\n",
        "    X_test = X[test]\n",
        "    y_train = y[train]\n",
        "    y_test = y[test]"
      ],
      "execution_count": null,
      "outputs": []
    },
    {
      "cell_type": "markdown",
      "metadata": {
        "id": "p9AQNLK7s7a_"
      },
      "source": [
        "\n",
        "\n",
        "---\n",
        "\n"
      ]
    },
    {
      "cell_type": "code",
      "metadata": {
        "id": "Eyy9wECA0Eae"
      },
      "source": [
        "clf = AdaBoostClassifier(base_estimator=DecisionTreeClassifier(max_depth = 10, min_samples_split=10, min_samples_leaf=10), n_estimators=15, random_state=0)"
      ],
      "execution_count": null,
      "outputs": []
    },
    {
      "cell_type": "code",
      "metadata": {
        "id": "Rg8GGQ8B0fBK"
      },
      "source": [
        "clf.fit(X_train, y_train)\n",
        "y_pred = clf.predict(X_test)"
      ],
      "execution_count": null,
      "outputs": []
    },
    {
      "cell_type": "code",
      "metadata": {
        "colab": {
          "base_uri": "https://localhost:8080/"
        },
        "id": "nWwNPPam0hU-",
        "outputId": "71a940f9-9c6b-4d74-99ac-351cbc73dba5"
      },
      "source": [
        "acc = str(accuracy_score(y_test2, y_pred2))\n",
        "print(\"Acurácia:\", acc)\n",
        "cm = confusion_matrix(y_test2, y_pred2)\n",
        "print(\"Matriz de confusão: \")\n",
        "print(cm)\n",
        "prec = str(precision_score(y_test, y_pred, average= 'macro'))\n",
        "dp = stdev(y_pred)\n",
        "print(\"Precisão: \", prec)\n",
        "print(\"Desvio-padrão: \", dp)"
      ],
      "execution_count": null,
      "outputs": [
        {
          "output_type": "stream",
          "text": [
            "Precisão:  0.4982030548068284\n",
            "Desvio-padrão:  0.0\n"
          ],
          "name": "stdout"
        }
      ]
    },
    {
      "cell_type": "markdown",
      "metadata": {
        "id": "5uH3mL23s4-U"
      },
      "source": [
        "\n",
        "\n",
        "---\n",
        "\n"
      ]
    },
    {
      "cell_type": "code",
      "metadata": {
        "id": "xxvAKRJb5DgB"
      },
      "source": [
        "clf = AdaBoostClassifier(base_estimator=GaussianNB(), n_estimators=20, random_state=0)"
      ],
      "execution_count": null,
      "outputs": []
    },
    {
      "cell_type": "code",
      "metadata": {
        "id": "juenjpz-5DgX"
      },
      "source": [
        "clf.fit(X_train, y_train)\n",
        "y_pred = clf.predict(X_test)"
      ],
      "execution_count": null,
      "outputs": []
    },
    {
      "cell_type": "code",
      "metadata": {
        "colab": {
          "base_uri": "https://localhost:8080/"
        },
        "id": "R81QIVn75DgY",
        "outputId": "f30f34d8-e7d6-4f04-97e6-c2b88248df10"
      },
      "source": [
        "acc = str(accuracy_score(y_test2, y_pred2))\n",
        "print(\"Acurácia:\", acc)\n",
        "cm = confusion_matrix(y_test2, y_pred2)\n",
        "print(\"Matriz de confusão: \")\n",
        "print(cm)\n",
        "prec = str(precision_score(y_test, y_pred, average= 'macro'))\n",
        "dp = stdev(y_pred)\n",
        "print(\"Precisão: \", prec)\n",
        "print(\"Desvio-padrão: \", dp)"
      ],
      "execution_count": null,
      "outputs": [
        {
          "output_type": "stream",
          "text": [
            "Precisão:  0.4981965734896303\n",
            "Desvio-padrão:  0.0\n"
          ],
          "name": "stdout"
        }
      ]
    },
    {
      "cell_type": "markdown",
      "metadata": {
        "id": "42VFgL4Vs4US"
      },
      "source": [
        "\n",
        "\n",
        "---\n",
        "\n"
      ]
    },
    {
      "cell_type": "code",
      "metadata": {
        "id": "KlMlUXhu-ZaV"
      },
      "source": [
        "class customMLP(MLPClassifier):\n",
        "  def resample_with_replacement(self, X_train, y_train, sample_weight):\n",
        "    sample_weight = sample_weight / sample_weight.sum(dtype=np.float64)\n",
        "\n",
        "    X_train_resampled = np.zeros((len(X_train), len(X_train[0])), dtype=np.float32)\n",
        "    y_train_resampled = np.zeros((len(y_train)), dtype=np.int)\n",
        "    for i in range(len(X_train)):\n",
        "      draw = np.random.choice(np.arange(len(X_train)), p=sample_weight)\n",
        "\n",
        "      X_train_resampled[i] = X_train[draw]\n",
        "      y_train_resampled[i] = y_train[draw]\n",
        "\n",
        "    return X_train_resampled, y_train_resampled\n",
        "  \n",
        "\n",
        "  def fit(self, X, y, sample_weight=None):\n",
        "    if sample_weight is not None:\n",
        "      X, y = self.resample_with_replacement(X, y, sample_weight)\n",
        "\n",
        "    return self._fit(X, y, incremental=(self.warm_start and\n",
        "                                        hasattr(self, \"classes_\")))"
      ],
      "execution_count": null,
      "outputs": []
    },
    {
      "cell_type": "code",
      "metadata": {
        "id": "J_keBm5P81Fn"
      },
      "source": [
        "clf = AdaBoostClassifier(base_estimator=customMLP(solver='sgd', momentum=0.8, hidden_layer_sizes=(300), learning_rate='constant', learning_rate_init=0.01, max_iter=500, random_state=1), n_estimators=20, random_state=0)"
      ],
      "execution_count": null,
      "outputs": []
    },
    {
      "cell_type": "code",
      "metadata": {
        "id": "nadqsWNU81Fs"
      },
      "source": [
        "clf.fit(X_train, y_train)\n",
        "y_pred = clf.predict(X_test)"
      ],
      "execution_count": null,
      "outputs": []
    },
    {
      "cell_type": "code",
      "metadata": {
        "colab": {
          "base_uri": "https://localhost:8080/"
        },
        "id": "P--nfcKF81Ft",
        "outputId": "fe87d0a2-69a0-4bcc-cc84-93fe1d429267"
      },
      "source": [
        "acc = str(accuracy_score(y_test2, y_pred2))\n",
        "print(\"Acurácia:\", acc)\n",
        "cm = confusion_matrix(y_test2, y_pred2)\n",
        "print(\"Matriz de confusão: \")\n",
        "print(cm)\n",
        "prec = str(precision_score(y_test, y_pred, average= 'macro'))\n",
        "dp = stdev(y_pred)\n",
        "print(\"Precisão: \", prec)\n",
        "print(\"Desvio-padrão: \", dp)"
      ],
      "execution_count": null,
      "outputs": [
        {
          "output_type": "stream",
          "text": [
            "Precisão:  0.4982046678635548\n",
            "Desvio-padrão:  0.0\n"
          ],
          "name": "stdout"
        },
        {
          "output_type": "stream",
          "text": [
            "/usr/local/lib/python3.7/dist-packages/sklearn/metrics/_classification.py:1272: UndefinedMetricWarning: Precision is ill-defined and being set to 0.0 in labels with no predicted samples. Use `zero_division` parameter to control this behavior.\n",
            "  _warn_prf(average, modifier, msg_start, len(result))\n"
          ],
          "name": "stderr"
        }
      ]
    },
    {
      "cell_type": "markdown",
      "metadata": {
        "id": "fE-b4RIis3i1"
      },
      "source": [
        "\n",
        "\n",
        "---\n",
        "\n"
      ]
    },
    {
      "cell_type": "code",
      "metadata": {
        "id": "r3qU5-jyCKxI"
      },
      "source": [
        "class customKNN(KNeighborsClassifier):\n",
        "  def resample_with_replacement(self, X_train, y_train, sample_weight):\n",
        "    sample_weight = sample_weight / sample_weight.sum(dtype=np.float64)\n",
        "\n",
        "    X_train_resampled = np.zeros((len(X_train), len(X_train[0])), dtype=np.float32)\n",
        "    y_train_resampled = np.zeros((len(y_train)), dtype=np.int)\n",
        "    for i in range(len(X_train)):\n",
        "      draw = np.random.choice(np.arange(len(X_train)), p=sample_weight)\n",
        "\n",
        "      X_train_resampled[i] = X_train[draw]\n",
        "      y_train_resampled[i] = y_train[draw]\n",
        "\n",
        "    return X_train_resampled, y_train_resampled\n",
        "  \n",
        "  def init(self, n_neighbors):\n",
        "    super().init(n_neighbors=n_neighbors)\n",
        "\n",
        "  def fit(self, X, y, sample_weight=None):\n",
        "    if sample_weight is not None:\n",
        "      X, y = self.resample_with_replacement(X, y, sample_weight)\n",
        "\n",
        "    return super().fit(X, y)"
      ],
      "execution_count": null,
      "outputs": []
    },
    {
      "cell_type": "code",
      "metadata": {
        "id": "Rpr7a-QFCKxJ"
      },
      "source": [
        "clf = AdaBoostClassifier(base_estimator=customKNN(n_neighbors=2, metric='euclidean', weights='distance'), n_estimators=20, random_state=0)"
      ],
      "execution_count": null,
      "outputs": []
    },
    {
      "cell_type": "code",
      "metadata": {
        "id": "Gbqy4FT_CKxJ"
      },
      "source": [
        "clf.fit(X_train, y_train)\n",
        "y_pred = clf.predict(X_test)"
      ],
      "execution_count": null,
      "outputs": []
    },
    {
      "cell_type": "code",
      "metadata": {
        "colab": {
          "base_uri": "https://localhost:8080/"
        },
        "id": "vGl6pMCYCKxK",
        "outputId": "0d8dcad1-a70e-4e89-f2ca-10229dfd2a4a"
      },
      "source": [
        "acc = str(accuracy_score(y_test2, y_pred2))\n",
        "print(\"Acurácia:\", acc)\n",
        "cm = confusion_matrix(y_test2, y_pred2)\n",
        "print(\"Matriz de confusão: \")\n",
        "print(cm)\n",
        "prec = str(precision_score(y_test, y_pred, average= 'macro'))\n",
        "dp = stdev(y_pred)\n",
        "print(\"Precisão: \", prec)\n",
        "print(\"Desvio-padrão: \", dp)"
      ],
      "execution_count": null,
      "outputs": [
        {
          "output_type": "stream",
          "text": [
            "Precisão:  0.4982014388489209\n",
            "Desvio-padrão:  0.0\n"
          ],
          "name": "stdout"
        }
      ]
    },
    {
      "cell_type": "markdown",
      "metadata": {
        "id": "wVVfxjfr3WKe"
      },
      "source": [
        "# **16. BAGGING**"
      ]
    },
    {
      "cell_type": "code",
      "metadata": {
        "id": "7a16ZoGETnVe"
      },
      "source": [
        "clf = BaggingClassifier(base_estimator=DecisionTreeClassifier(max_depth = 10, min_samples_split=10, min_samples_leaf=10), n_estimators=10, random_state=0)"
      ],
      "execution_count": null,
      "outputs": []
    },
    {
      "cell_type": "code",
      "metadata": {
        "id": "xaryGFfKTnVp"
      },
      "source": [
        "clf.fit(X_train, y_train)\n",
        "y_pred = clf.predict(X_test)"
      ],
      "execution_count": null,
      "outputs": []
    },
    {
      "cell_type": "code",
      "metadata": {
        "colab": {
          "base_uri": "https://localhost:8080/"
        },
        "id": "JxQx2WqvTnVp",
        "outputId": "64de1d5f-e439-4e83-f4d0-16e55bd87167"
      },
      "source": [
        "acc = str(accuracy_score(y_test2, y_pred2))\n",
        "print(\"Acurácia:\", acc)\n",
        "cm = confusion_matrix(y_test2, y_pred2)\n",
        "print(\"Matriz de confusão: \")\n",
        "print(cm)\n",
        "prec = str(precision_score(y_test, y_pred, average= 'macro'))\n",
        "dp = stdev(y_pred)\n",
        "print(\"Precisão: \", prec)\n",
        "print(\"Desvio-padrão: \", dp)"
      ],
      "execution_count": null,
      "outputs": [
        {
          "output_type": "stream",
          "text": [
            "Precisão:  0.4982030548068284\n",
            "Desvio-padrão:  0.0\n"
          ],
          "name": "stdout"
        }
      ]
    },
    {
      "cell_type": "markdown",
      "metadata": {
        "id": "fk5t4i__s0yC"
      },
      "source": [
        "\n",
        "\n",
        "---\n",
        "\n"
      ]
    },
    {
      "cell_type": "code",
      "metadata": {
        "id": "rDAnW7kUUu_n"
      },
      "source": [
        "clf = BaggingClassifier(base_estimator=GaussianNB(), n_estimators=20, random_state=0)"
      ],
      "execution_count": null,
      "outputs": []
    },
    {
      "cell_type": "code",
      "metadata": {
        "id": "JDBww6rcUu_w"
      },
      "source": [
        "clf.fit(X_train, y_train)\n",
        "y_pred = clf.predict(X_test)"
      ],
      "execution_count": null,
      "outputs": []
    },
    {
      "cell_type": "code",
      "metadata": {
        "colab": {
          "base_uri": "https://localhost:8080/"
        },
        "id": "MiI_TRJyUu_w",
        "outputId": "79f324d8-e5f6-4d8b-c392-8f4b78bee6ea"
      },
      "source": [
        "acc = str(accuracy_score(y_test2, y_pred2))\n",
        "print(\"Acurácia:\", acc)\n",
        "cm = confusion_matrix(y_test2, y_pred2)\n",
        "print(\"Matriz de confusão: \")\n",
        "print(cm)\n",
        "prec = str(precision_score(y_test, y_pred, average= 'macro'))\n",
        "dp = stdev(y_pred)\n",
        "print(\"Precisão: \", prec)\n",
        "print(\"Desvio-padrão: \", dp)"
      ],
      "execution_count": null,
      "outputs": [
        {
          "output_type": "stream",
          "text": [
            "Precisão:  0.5647590961622763\n",
            "Desvio-padrão:  0.0\n"
          ],
          "name": "stdout"
        }
      ]
    },
    {
      "cell_type": "markdown",
      "metadata": {
        "id": "AEbDgvnlsz7F"
      },
      "source": [
        "\n",
        "\n",
        "---\n",
        "\n"
      ]
    },
    {
      "cell_type": "code",
      "metadata": {
        "id": "ORJzT_P0VGtd"
      },
      "source": [
        "clf = BaggingClassifier(base_estimator=MLPClassifier(solver='sgd', momentum=0.8, hidden_layer_sizes=(300), learning_rate='constant', learning_rate_init=0.01, max_iter=500, random_state=1), n_estimators=20, random_state=0)"
      ],
      "execution_count": null,
      "outputs": []
    },
    {
      "cell_type": "code",
      "metadata": {
        "id": "-Lte9PX5VGte"
      },
      "source": [
        "clf.fit(X_train, y_train)\n",
        "y_pred = clf.predict(X_test)"
      ],
      "execution_count": null,
      "outputs": []
    },
    {
      "cell_type": "code",
      "metadata": {
        "id": "E1C9asXAVGte"
      },
      "source": [
        "acc = str(accuracy_score(y_test2, y_pred2))\n",
        "print(\"Acurácia:\", acc)\n",
        "cm = confusion_matrix(y_test2, y_pred2)\n",
        "print(\"Matriz de confusão: \")\n",
        "print(cm)\n",
        "prec = str(precision_score(y_test, y_pred, average= 'macro'))\n",
        "dp = stdev(y_pred)\n",
        "print(\"Precisão: \", prec)\n",
        "print(\"Desvio-padrão: \", dp)"
      ],
      "execution_count": null,
      "outputs": []
    },
    {
      "cell_type": "markdown",
      "metadata": {
        "id": "oGrj56H1sxx1"
      },
      "source": [
        "\n",
        "\n",
        "---\n",
        "\n"
      ]
    },
    {
      "cell_type": "code",
      "metadata": {
        "id": "edDZR__bl088"
      },
      "source": [
        "clf = BaggingClassifier(base_estimator=KNeighborsClassifier(n_neighbors=2, metric='euclidean', weights='distance'), n_estimators=20, random_state=0)"
      ],
      "execution_count": null,
      "outputs": []
    },
    {
      "cell_type": "code",
      "metadata": {
        "id": "3tOPGsmUl09A"
      },
      "source": [
        "clf.fit(X_train, y_train)\n",
        "y_pred = clf.predict(X_test)"
      ],
      "execution_count": null,
      "outputs": []
    },
    {
      "cell_type": "code",
      "metadata": {
        "colab": {
          "base_uri": "https://localhost:8080/"
        },
        "id": "o8dK3YLYl09B",
        "outputId": "97f30a59-1fca-45d4-83f0-3660dd5e7208"
      },
      "source": [
        "acc = str(accuracy_score(y_test2, y_pred2))\n",
        "print(\"Acurácia:\", acc)\n",
        "cm = confusion_matrix(y_test2, y_pred2)\n",
        "print(\"Matriz de confusão: \")\n",
        "print(cm)\n",
        "prec = str(precision_score(y_test, y_pred, average= 'macro'))\n",
        "dp = stdev(y_pred)\n",
        "print(\"Precisão: \", prec)\n",
        "print(\"Desvio-padrão: \", dp)"
      ],
      "execution_count": null,
      "outputs": [
        {
          "output_type": "stream",
          "text": [
            "Precisão:  0.4982030548068284\n",
            "Desvio-padrão:  0.0\n"
          ],
          "name": "stdout"
        }
      ]
    },
    {
      "cell_type": "markdown",
      "metadata": {
        "id": "hfE0wV9d3gQM"
      },
      "source": [
        "# **17. STACKING**"
      ]
    },
    {
      "cell_type": "markdown",
      "metadata": {
        "id": "TX0bnOJ6ss-C"
      },
      "source": [
        "**STACKING HOMOGÊNEO**"
      ]
    },
    {
      "cell_type": "code",
      "metadata": {
        "id": "7LphAUmL8LYB"
      },
      "source": [
        "estimators = [('ad1', DecisionTreeClassifier(max_depth = 10, min_samples_split=10, min_samples_leaf=10)),\n",
        "              ('ad2', DecisionTreeClassifier(max_depth = 10, min_samples_split=10, min_samples_leaf=10)),\n",
        "              ('ad3', DecisionTreeClassifier(max_depth = 10, min_samples_split=10, min_samples_leaf=10)),\n",
        "              ('ad4', DecisionTreeClassifier(max_depth = 10, min_samples_split=10, min_samples_leaf=10)),\n",
        "              ('ad5', DecisionTreeClassifier(max_depth = 10, min_samples_split=10, min_samples_leaf=10)),\n",
        "              ('ad6', DecisionTreeClassifier(max_depth = 10, min_samples_split=10, min_samples_leaf=10)),\n",
        "              ('ad7', DecisionTreeClassifier(max_depth = 10, min_samples_split=10, min_samples_leaf=10)),\n",
        "              ('ad8', DecisionTreeClassifier(max_depth = 10, min_samples_split=10, min_samples_leaf=10)),\n",
        "              ('ad9', DecisionTreeClassifier(max_depth = 10, min_samples_split=10, min_samples_leaf=10)),\n",
        "              ('ad10', DecisionTreeClassifier(max_depth = 10, min_samples_split=10, min_samples_leaf=10))]"
      ],
      "execution_count": null,
      "outputs": []
    },
    {
      "cell_type": "code",
      "metadata": {
        "id": "SEmBC0nT8zsg"
      },
      "source": [
        "estimators = [('ad1', DecisionTreeClassifier(max_depth = 10, min_samples_split=10, min_samples_leaf=10)),\n",
        "              ('ad2', DecisionTreeClassifier(max_depth = 10, min_samples_split=10, min_samples_leaf=10)),\n",
        "              ('ad3', DecisionTreeClassifier(max_depth = 10, min_samples_split=10, min_samples_leaf=10)),\n",
        "              ('ad4', DecisionTreeClassifier(max_depth = 10, min_samples_split=10, min_samples_leaf=10)),\n",
        "              ('ad5', DecisionTreeClassifier(max_depth = 10, min_samples_split=10, min_samples_leaf=10)),\n",
        "              ('ad6', DecisionTreeClassifier(max_depth = 10, min_samples_split=10, min_samples_leaf=10)),\n",
        "              ('ad7', DecisionTreeClassifier(max_depth = 10, min_samples_split=10, min_samples_leaf=10)),\n",
        "              ('ad8', DecisionTreeClassifier(max_depth = 10, min_samples_split=10, min_samples_leaf=10)),\n",
        "              ('ad9', DecisionTreeClassifier(max_depth = 10, min_samples_split=10, min_samples_leaf=10)),\n",
        "              ('ad10', DecisionTreeClassifier(max_depth = 10, min_samples_split=10, min_samples_leaf=10)),\n",
        "              ('ad11', DecisionTreeClassifier(max_depth = 10, min_samples_split=10, min_samples_leaf=10)),\n",
        "              ('ad12', DecisionTreeClassifier(max_depth = 10, min_samples_split=10, min_samples_leaf=10)),\n",
        "              ('ad13', DecisionTreeClassifier(max_depth = 10, min_samples_split=10, min_samples_leaf=10)),\n",
        "              ('ad14', DecisionTreeClassifier(max_depth = 10, min_samples_split=10, min_samples_leaf=10)),\n",
        "              ('ad15', DecisionTreeClassifier(max_depth = 10, min_samples_split=10, min_samples_leaf=10))]"
      ],
      "execution_count": null,
      "outputs": []
    },
    {
      "cell_type": "code",
      "metadata": {
        "id": "xTUsg8pP9KI6"
      },
      "source": [
        "estimators = [('ad1', DecisionTreeClassifier(max_depth = 10, min_samples_split=10, min_samples_leaf=10)),\n",
        "              ('ad2', DecisionTreeClassifier(max_depth = 10, min_samples_split=10, min_samples_leaf=10)),\n",
        "              ('ad3', DecisionTreeClassifier(max_depth = 10, min_samples_split=10, min_samples_leaf=10)),\n",
        "              ('ad4', DecisionTreeClassifier(max_depth = 10, min_samples_split=10, min_samples_leaf=10)),\n",
        "              ('ad5', DecisionTreeClassifier(max_depth = 10, min_samples_split=10, min_samples_leaf=10)),\n",
        "              ('ad6', DecisionTreeClassifier(max_depth = 10, min_samples_split=10, min_samples_leaf=10)),\n",
        "              ('ad7', DecisionTreeClassifier(max_depth = 10, min_samples_split=10, min_samples_leaf=10)),\n",
        "              ('ad8', DecisionTreeClassifier(max_depth = 10, min_samples_split=10, min_samples_leaf=10)),\n",
        "              ('ad9', DecisionTreeClassifier(max_depth = 10, min_samples_split=10, min_samples_leaf=10)),\n",
        "              ('ad10', DecisionTreeClassifier(max_depth = 10, min_samples_split=10, min_samples_leaf=10)),\n",
        "              ('ad11', DecisionTreeClassifier(max_depth = 10, min_samples_split=10, min_samples_leaf=10)),\n",
        "              ('ad12', DecisionTreeClassifier(max_depth = 10, min_samples_split=10, min_samples_leaf=10)),\n",
        "              ('ad13', DecisionTreeClassifier(max_depth = 10, min_samples_split=10, min_samples_leaf=10)),\n",
        "              ('ad14', DecisionTreeClassifier(max_depth = 10, min_samples_split=10, min_samples_leaf=10)),\n",
        "              ('ad15', DecisionTreeClassifier(max_depth = 10, min_samples_split=10, min_samples_leaf=10)),\n",
        "              ('ad16', DecisionTreeClassifier(max_depth = 10, min_samples_split=10, min_samples_leaf=10)),\n",
        "              ('ad17', DecisionTreeClassifier(max_depth = 10, min_samples_split=10, min_samples_leaf=10)),\n",
        "              ('ad18', DecisionTreeClassifier(max_depth = 10, min_samples_split=10, min_samples_leaf=10)),\n",
        "              ('ad19', DecisionTreeClassifier(max_depth = 10, min_samples_split=10, min_samples_leaf=10)),\n",
        "              ('ad20', DecisionTreeClassifier(max_depth = 10, min_samples_split=10, min_samples_leaf=10))]"
      ],
      "execution_count": null,
      "outputs": []
    },
    {
      "cell_type": "code",
      "metadata": {
        "id": "9UKlTsUh9X_V"
      },
      "source": [
        "sclf = StackingClassifier(estimators=estimators, final_estimator=DecisionTreeClassifier(max_depth = 10, min_samples_split=10, min_samples_leaf=10))"
      ],
      "execution_count": null,
      "outputs": []
    },
    {
      "cell_type": "code",
      "metadata": {
        "id": "IidFA8o89X_W"
      },
      "source": [
        "sclf.fit(X_train, y_train)\n",
        "y_pred = sclf.predict(X_test)"
      ],
      "execution_count": null,
      "outputs": []
    },
    {
      "cell_type": "code",
      "metadata": {
        "colab": {
          "base_uri": "https://localhost:8080/"
        },
        "id": "I1P5coKA9X_W",
        "outputId": "65350a86-abec-407a-eb21-d2760ebbf0fa"
      },
      "source": [
        "acc = str(accuracy_score(y_test2, y_pred2))\n",
        "print(\"Acurácia:\", acc)\n",
        "cm = confusion_matrix(y_test2, y_pred2)\n",
        "print(\"Matriz de confusão: \")\n",
        "print(cm)\n",
        "prec = str(precision_score(y_test, y_pred, average= 'macro'))\n",
        "dp = stdev(y_pred)\n",
        "print(\"Precisão: \", prec)\n",
        "print(\"Desvio-padrão: \", dp)"
      ],
      "execution_count": null,
      "outputs": [
        {
          "output_type": "stream",
          "text": [
            "Precisão:  0.4982046678635548\n",
            "Desvio-padrão:  0.0\n"
          ],
          "name": "stdout"
        },
        {
          "output_type": "stream",
          "text": [
            "/usr/local/lib/python3.7/dist-packages/sklearn/metrics/_classification.py:1272: UndefinedMetricWarning: Precision is ill-defined and being set to 0.0 in labels with no predicted samples. Use `zero_division` parameter to control this behavior.\n",
            "  _warn_prf(average, modifier, msg_start, len(result))\n"
          ],
          "name": "stderr"
        }
      ]
    },
    {
      "cell_type": "markdown",
      "metadata": {
        "id": "DuCmWP5M8Koe"
      },
      "source": [
        "\n",
        "\n",
        "---\n",
        "\n"
      ]
    },
    {
      "cell_type": "code",
      "metadata": {
        "id": "oABGuxGU7PLd"
      },
      "source": [
        "estimators = [('nb1', GaussianNB()), \n",
        "              ('nb2', GaussianNB()),\n",
        "              ('nb3', GaussianNB()),\n",
        "              ('nb4', GaussianNB()),\n",
        "              ('nb5', GaussianNB()),\n",
        "              ('nb6', GaussianNB()),\n",
        "              ('nb7', GaussianNB()),\n",
        "              ('nb8', GaussianNB()),\n",
        "              ('nb9', GaussianNB()),\n",
        "              ('nb10', GaussianNB())]"
      ],
      "execution_count": null,
      "outputs": []
    },
    {
      "cell_type": "code",
      "metadata": {
        "id": "50F4cTQx7yd7"
      },
      "source": [
        "estimators = [('nb1', GaussianNB()), \n",
        "              ('nb2', GaussianNB()),\n",
        "              ('nb3', GaussianNB()),\n",
        "              ('nb4', GaussianNB()),\n",
        "              ('nb5', GaussianNB()),\n",
        "              ('nb6', GaussianNB()),\n",
        "              ('nb7', GaussianNB()),\n",
        "              ('nb8', GaussianNB()),\n",
        "              ('nb9', GaussianNB()),\n",
        "              ('nb10', GaussianNB()),\n",
        "              ('nb11', GaussianNB()),\n",
        "              ('nb12', GaussianNB()),\n",
        "              ('nb13', GaussianNB()),\n",
        "              ('nb14', GaussianNB()),\n",
        "              ('nb15', GaussianNB())]"
      ],
      "execution_count": null,
      "outputs": []
    },
    {
      "cell_type": "code",
      "metadata": {
        "id": "45x3t8ul74TT"
      },
      "source": [
        "estimators = [('nb1', GaussianNB()), \n",
        "              ('nb2', GaussianNB()),\n",
        "              ('nb3', GaussianNB()),\n",
        "              ('nb4', GaussianNB()),\n",
        "              ('nb5', GaussianNB()),\n",
        "              ('nb6', GaussianNB()),\n",
        "              ('nb7', GaussianNB()),\n",
        "              ('nb8', GaussianNB()),\n",
        "              ('nb9', GaussianNB()),\n",
        "              ('nb10', GaussianNB()),\n",
        "              ('nb11', GaussianNB()),\n",
        "              ('nb12', GaussianNB()),\n",
        "              ('nb13', GaussianNB()),\n",
        "              ('nb14', GaussianNB()),\n",
        "              ('nb15', GaussianNB()),\n",
        "              ('nb16', GaussianNB()),\n",
        "              ('nb17', GaussianNB()),\n",
        "              ('nb18', GaussianNB()),\n",
        "              ('nb19', GaussianNB()),\n",
        "              ('nb20', GaussianNB())]"
      ],
      "execution_count": null,
      "outputs": []
    },
    {
      "cell_type": "code",
      "metadata": {
        "id": "fM0T5kSK8DU0"
      },
      "source": [
        "sclf = StackingClassifier(estimators=estimators, final_estimator=GaussianNB())"
      ],
      "execution_count": null,
      "outputs": []
    },
    {
      "cell_type": "code",
      "metadata": {
        "id": "rvN54E2_8DU0"
      },
      "source": [
        "sclf.fit(X_train, y_train)\n",
        "y_pred = sclf.predict(X_test)"
      ],
      "execution_count": null,
      "outputs": []
    },
    {
      "cell_type": "code",
      "metadata": {
        "colab": {
          "base_uri": "https://localhost:8080/"
        },
        "id": "7ftoG29Q8DU0",
        "outputId": "077d6534-53fd-4ca1-f385-16667f744a44"
      },
      "source": [
        "acc = str(accuracy_score(y_test2, y_pred2))\n",
        "print(\"Acurácia:\", acc)\n",
        "cm = confusion_matrix(y_test2, y_pred2)\n",
        "print(\"Matriz de confusão: \")\n",
        "print(cm)\n",
        "prec = str(precision_score(y_test, y_pred, average= 'macro'))\n",
        "dp = stdev(y_pred)\n",
        "print(\"Precisão: \", prec)\n",
        "print(\"Desvio-padrão: \", dp)"
      ],
      "execution_count": null,
      "outputs": [
        {
          "output_type": "stream",
          "text": [
            "Precisão:  0.5571428571428572\n",
            "Desvio-padrão:  0.0\n"
          ],
          "name": "stdout"
        }
      ]
    },
    {
      "cell_type": "markdown",
      "metadata": {
        "id": "tWPQkvzK7OQ2"
      },
      "source": [
        "\n",
        "\n",
        "---\n",
        "\n"
      ]
    },
    {
      "cell_type": "code",
      "metadata": {
        "id": "khGBEAqXNvkV"
      },
      "source": [
        "#Tive que tirar os parãmetros, porque com os parâmetros não gerava erros, mas a execução ficou mais de uma hora rodando e não terminou\n",
        "\n",
        "estimators = [('mlp1', MLPClassifier()),\n",
        "              ('mlp2', MLPClassifier()),\n",
        "              ('mlp3', MLPClassifier()),\n",
        "              ('mlp4', MLPClassifier()),\n",
        "              ('mlp5', MLPClassifier()),\n",
        "              ('mlp6', MLPClassifier()),\n",
        "              ('mlp7', MLPClassifier()),\n",
        "              ('mlp8', MLPClassifier()),\n",
        "              ('mlp9', MLPClassifier()),\n",
        "              ('mlp10', MLPClassifier())]"
      ],
      "execution_count": null,
      "outputs": []
    },
    {
      "cell_type": "code",
      "metadata": {
        "id": "5PZhXTzHxX1p"
      },
      "source": [
        "#Tive que tirar os parãmetros, porque com os parâmetros não gerava erros, mas a execução ficou mais de uma hora rodando e não terminou\n",
        "\n",
        "estimators = [('mlp1', MLPClassifier()),\n",
        "              ('mlp2', MLPClassifier()),\n",
        "              ('mlp3', MLPClassifier()),\n",
        "              ('mlp4', MLPClassifier()),\n",
        "              ('mlp5', MLPClassifier()),\n",
        "              ('mlp6', MLPClassifier()),\n",
        "              ('mlp7', MLPClassifier()),\n",
        "              ('mlp8', MLPClassifier()),\n",
        "              ('mlp9', MLPClassifier()),\n",
        "              ('mlp10', MLPClassifier()),\n",
        "              ('mlp11', MLPClassifier()),\n",
        "              ('mlp12', MLPClassifier()),\n",
        "              ('mlp13', MLPClassifier()),\n",
        "              ('mlp14', MLPClassifier()),\n",
        "              ('mlp15', MLPClassifier())]"
      ],
      "execution_count": null,
      "outputs": []
    },
    {
      "cell_type": "code",
      "metadata": {
        "id": "ZpUCPsjX0RMH"
      },
      "source": [
        "#Tive que tirar os parãmetros, porque com os parâmetros não gerava erros, mas a execução ficou mais de uma hora rodando e não terminou\n",
        "\n",
        "estimators = [('mlp1', MLPClassifier()),\n",
        "              ('mlp2', MLPClassifier()),\n",
        "              ('mlp3', MLPClassifier()),\n",
        "              ('mlp4', MLPClassifier()),\n",
        "              ('mlp5', MLPClassifier()),\n",
        "              ('mlp6', MLPClassifier()),\n",
        "              ('mlp7', MLPClassifier()),\n",
        "              ('mlp8', MLPClassifier()),\n",
        "              ('mlp9', MLPClassifier()),\n",
        "              ('mlp10', MLPClassifier()),\n",
        "              ('mlp11', MLPClassifier()),\n",
        "              ('mlp12', MLPClassifier()),\n",
        "              ('mlp13', MLPClassifier()),\n",
        "              ('mlp14', MLPClassifier()),\n",
        "              ('mlp15', MLPClassifier()),\n",
        "              ('mlp16', MLPClassifier()),\n",
        "              ('mlp17', MLPClassifier()),\n",
        "              ('mlp18', MLPClassifier()),\n",
        "              ('mlp19', MLPClassifier()),\n",
        "              ('mlp20', MLPClassifier())]"
      ],
      "execution_count": null,
      "outputs": []
    },
    {
      "cell_type": "code",
      "metadata": {
        "id": "PsfDAM_ON7Ym"
      },
      "source": [
        "#Só de backup, caso precise\n",
        "\"\"\"estimators = [('mlp1', MLPClassifier(solver='sgd', momentum=0.8, hidden_layer_sizes=(300), learning_rate='constant', learning_rate_init=0.01, max_iter=500, random_state=1))]\"\"\"\n",
        "\n"
      ],
      "execution_count": null,
      "outputs": []
    },
    {
      "cell_type": "code",
      "metadata": {
        "id": "lbXMkJplxX1r"
      },
      "source": [
        "sclf = StackingClassifier(estimators=estimators, final_estimator=MLPClassifier())"
      ],
      "execution_count": null,
      "outputs": []
    },
    {
      "cell_type": "code",
      "metadata": {
        "id": "FGsXzrRUxX1s"
      },
      "source": [
        "sclf.fit(X_train, y_train)\n",
        "y_pred = sclf.predict(X_test)"
      ],
      "execution_count": null,
      "outputs": []
    },
    {
      "cell_type": "code",
      "metadata": {
        "colab": {
          "base_uri": "https://localhost:8080/"
        },
        "id": "Yj884cu1xX1s",
        "outputId": "2f9d2772-ba9c-405f-edda-27f367e6041c"
      },
      "source": [
        "acc = str(accuracy_score(y_test2, y_pred2))\n",
        "print(\"Acurácia:\", acc)\n",
        "cm = confusion_matrix(y_test2, y_pred2)\n",
        "print(\"Matriz de confusão: \")\n",
        "print(cm)\n",
        "prec = str(precision_score(y_test, y_pred, average= 'macro'))\n",
        "dp = stdev(y_pred)\n",
        "print(\"Precisão: \", prec)\n",
        "print(\"Desvio-padrão: \", dp)"
      ],
      "execution_count": null,
      "outputs": [
        {
          "output_type": "stream",
          "text": [
            "Precisão:  0.4982046678635548\n",
            "Desvio-padrão:  0.0\n"
          ],
          "name": "stdout"
        },
        {
          "output_type": "stream",
          "text": [
            "/usr/local/lib/python3.7/dist-packages/sklearn/metrics/_classification.py:1272: UndefinedMetricWarning: Precision is ill-defined and being set to 0.0 in labels with no predicted samples. Use `zero_division` parameter to control this behavior.\n",
            "  _warn_prf(average, modifier, msg_start, len(result))\n"
          ],
          "name": "stderr"
        }
      ]
    },
    {
      "cell_type": "markdown",
      "metadata": {
        "id": "5KUZE2raxXQl"
      },
      "source": [
        "\n",
        "\n",
        "---\n",
        "\n"
      ]
    },
    {
      "cell_type": "code",
      "metadata": {
        "id": "b5QGnYSs4QEV"
      },
      "source": [
        "estimators = [('knn1', KNeighborsClassifier(n_neighbors=2, metric='euclidean', weights='distance')), \n",
        "              ('knn2', KNeighborsClassifier(n_neighbors=2, metric='euclidean', weights='distance')),\n",
        "              ('knn3', KNeighborsClassifier(n_neighbors=2, metric='euclidean', weights='distance')),\n",
        "              ('knn4', KNeighborsClassifier(n_neighbors=2, metric='euclidean', weights='distance')),\n",
        "              ('knn5', KNeighborsClassifier(n_neighbors=2, metric='euclidean', weights='distance')),\n",
        "              ('knn6', KNeighborsClassifier(n_neighbors=2, metric='euclidean', weights='distance')),\n",
        "              ('knn7', KNeighborsClassifier(n_neighbors=2, metric='euclidean', weights='distance')),\n",
        "              ('knn8', KNeighborsClassifier(n_neighbors=2, metric='euclidean', weights='distance')),\n",
        "              ('knn9', KNeighborsClassifier(n_neighbors=2, metric='euclidean', weights='distance')),\n",
        "              ('knn10', KNeighborsClassifier(n_neighbors=2, metric='euclidean', weights='distance'))]"
      ],
      "execution_count": null,
      "outputs": []
    },
    {
      "cell_type": "code",
      "metadata": {
        "id": "d5zh0_JWwUwN"
      },
      "source": [
        "estimators = [('knn1', KNeighborsClassifier(n_neighbors=2, metric='euclidean', weights='distance')), \n",
        "              ('knn2', KNeighborsClassifier(n_neighbors=2, metric='euclidean', weights='distance')),\n",
        "              ('knn3', KNeighborsClassifier(n_neighbors=2, metric='euclidean', weights='distance')),\n",
        "              ('knn4', KNeighborsClassifier(n_neighbors=2, metric='euclidean', weights='distance')),\n",
        "              ('knn5', KNeighborsClassifier(n_neighbors=2, metric='euclidean', weights='distance')),\n",
        "              ('knn6', KNeighborsClassifier(n_neighbors=2, metric='euclidean', weights='distance')),\n",
        "              ('knn7', KNeighborsClassifier(n_neighbors=2, metric='euclidean', weights='distance')),\n",
        "              ('knn8', KNeighborsClassifier(n_neighbors=2, metric='euclidean', weights='distance')),\n",
        "              ('knn9', KNeighborsClassifier(n_neighbors=2, metric='euclidean', weights='distance')),\n",
        "              ('knn10', KNeighborsClassifier(n_neighbors=2, metric='euclidean', weights='distance')),\n",
        "              ('knn11', KNeighborsClassifier(n_neighbors=2, metric='euclidean', weights='distance')),\n",
        "              ('knn12', KNeighborsClassifier(n_neighbors=2, metric='euclidean', weights='distance')),\n",
        "              ('knn13', KNeighborsClassifier(n_neighbors=2, metric='euclidean', weights='distance')),\n",
        "              ('knn14', KNeighborsClassifier(n_neighbors=2, metric='euclidean', weights='distance')),\n",
        "              ('knn15', KNeighborsClassifier(n_neighbors=2, metric='euclidean', weights='distance'))]"
      ],
      "execution_count": null,
      "outputs": []
    },
    {
      "cell_type": "code",
      "metadata": {
        "id": "ue_uP5W1wbr6"
      },
      "source": [
        "estimators = [('knn1', KNeighborsClassifier(n_neighbors=2, metric='euclidean', weights='distance')), \n",
        "              ('knn2', KNeighborsClassifier(n_neighbors=2, metric='euclidean', weights='distance')),\n",
        "              ('knn3', KNeighborsClassifier(n_neighbors=2, metric='euclidean', weights='distance')),\n",
        "              ('knn4', KNeighborsClassifier(n_neighbors=2, metric='euclidean', weights='distance')),\n",
        "              ('knn5', KNeighborsClassifier(n_neighbors=2, metric='euclidean', weights='distance')),\n",
        "              ('knn6', KNeighborsClassifier(n_neighbors=2, metric='euclidean', weights='distance')),\n",
        "              ('knn7', KNeighborsClassifier(n_neighbors=2, metric='euclidean', weights='distance')),\n",
        "              ('knn8', KNeighborsClassifier(n_neighbors=2, metric='euclidean', weights='distance')),\n",
        "              ('knn9', KNeighborsClassifier(n_neighbors=2, metric='euclidean', weights='distance')),\n",
        "              ('knn10', KNeighborsClassifier(n_neighbors=2, metric='euclidean', weights='distance')),\n",
        "              ('knn11', KNeighborsClassifier(n_neighbors=2, metric='euclidean', weights='distance')),\n",
        "              ('knn12', KNeighborsClassifier(n_neighbors=2, metric='euclidean', weights='distance')),\n",
        "              ('knn13', KNeighborsClassifier(n_neighbors=2, metric='euclidean', weights='distance')),\n",
        "              ('knn14', KNeighborsClassifier(n_neighbors=2, metric='euclidean', weights='distance')),\n",
        "              ('knn15', KNeighborsClassifier(n_neighbors=2, metric='euclidean', weights='distance')),\n",
        "              ('knn16', KNeighborsClassifier(n_neighbors=2, metric='euclidean', weights='distance')),\n",
        "              ('knn17', KNeighborsClassifier(n_neighbors=2, metric='euclidean', weights='distance')),\n",
        "              ('knn18', KNeighborsClassifier(n_neighbors=2, metric='euclidean', weights='distance')),\n",
        "              ('knn19', KNeighborsClassifier(n_neighbors=2, metric='euclidean', weights='distance')),\n",
        "              ('knn20', KNeighborsClassifier(n_neighbors=2, metric='euclidean', weights='distance'))]"
      ],
      "execution_count": null,
      "outputs": []
    },
    {
      "cell_type": "code",
      "metadata": {
        "id": "eT4FolMjtTX2"
      },
      "source": [
        "sclf = StackingClassifier(estimators=estimators, final_estimator=KNeighborsClassifier(n_neighbors=2, metric='euclidean', weights='distance'))"
      ],
      "execution_count": null,
      "outputs": []
    },
    {
      "cell_type": "code",
      "metadata": {
        "id": "MBo0VZzSwtHs"
      },
      "source": [
        "sclf.fit(X_train, y_train)\n",
        "y_pred = sclf.predict(X_test)"
      ],
      "execution_count": null,
      "outputs": []
    },
    {
      "cell_type": "code",
      "metadata": {
        "colab": {
          "base_uri": "https://localhost:8080/"
        },
        "id": "vSAReY8twwlo",
        "outputId": "c956083b-b0d0-4bc3-bb69-3749265c9c6b"
      },
      "source": [
        "acc = str(accuracy_score(y_test2, y_pred2))\n",
        "print(\"Acurácia:\", acc)\n",
        "cm = confusion_matrix(y_test2, y_pred2)\n",
        "print(\"Matriz de confusão: \")\n",
        "print(cm)\n",
        "prec = str(precision_score(y_test, y_pred, average= 'macro'))\n",
        "dp = stdev(y_pred)\n",
        "print(\"Precisão: \", prec)\n",
        "print(\"Desvio-padrão: \", dp)"
      ],
      "execution_count": null,
      "outputs": [
        {
          "output_type": "stream",
          "text": [
            "Precisão:  0.4982046678635548\n",
            "Desvio-padrão:  0.0\n"
          ],
          "name": "stdout"
        },
        {
          "output_type": "stream",
          "text": [
            "/usr/local/lib/python3.7/dist-packages/sklearn/metrics/_classification.py:1272: UndefinedMetricWarning: Precision is ill-defined and being set to 0.0 in labels with no predicted samples. Use `zero_division` parameter to control this behavior.\n",
            "  _warn_prf(average, modifier, msg_start, len(result))\n"
          ],
          "name": "stderr"
        }
      ]
    },
    {
      "cell_type": "markdown",
      "metadata": {
        "id": "iTd4zX1yBWoM"
      },
      "source": [
        "**STACKING HETEROGÊNEO**"
      ]
    },
    {
      "cell_type": "markdown",
      "metadata": {
        "id": "GFhwVQFLBXYy"
      },
      "source": [
        "**Método A:** Árvores de Decisão\n",
        "\n",
        "**Método B:** k-NN\n",
        "\n",
        "**Método C:** Naive Bayes"
      ]
    },
    {
      "cell_type": "markdown",
      "metadata": {
        "id": "ZJjZbXQsDTgM"
      },
      "source": [
        "\n",
        "\n",
        "---\n",
        "**A:**\n"
      ]
    },
    {
      "cell_type": "code",
      "metadata": {
        "id": "8YGq7ShBBtx_"
      },
      "source": [
        "estimators = [('ad1', DecisionTreeClassifier(max_depth = 10, min_samples_split=10, min_samples_leaf=10)),\n",
        "              ('ad2', DecisionTreeClassifier(max_depth = 10, min_samples_split=10, min_samples_leaf=10)),\n",
        "              ('ad3', DecisionTreeClassifier(max_depth = 10, min_samples_split=10, min_samples_leaf=10)),\n",
        "              ('ad4', DecisionTreeClassifier(max_depth = 10, min_samples_split=10, min_samples_leaf=10)),\n",
        "              ('ad5', DecisionTreeClassifier(max_depth = 10, min_samples_split=10, min_samples_leaf=10)),\n",
        "              ('knn1', KNeighborsClassifier(n_neighbors=2, metric='euclidean', weights='distance')), \n",
        "              ('knn2', KNeighborsClassifier(n_neighbors=2, metric='euclidean', weights='distance')),\n",
        "              ('knn3', KNeighborsClassifier(n_neighbors=2, metric='euclidean', weights='distance')),\n",
        "              ('knn4', KNeighborsClassifier(n_neighbors=2, metric='euclidean', weights='distance')),\n",
        "              ('knn5', KNeighborsClassifier(n_neighbors=2, metric='euclidean', weights='distance'))]"
      ],
      "execution_count": null,
      "outputs": []
    },
    {
      "cell_type": "code",
      "metadata": {
        "id": "X5duf1l8Cxnw"
      },
      "source": [
        "estimators = [('ad1', DecisionTreeClassifier(max_depth = 10, min_samples_split=10, min_samples_leaf=10)),\n",
        "              ('ad2', DecisionTreeClassifier(max_depth = 10, min_samples_split=10, min_samples_leaf=10)),\n",
        "              ('ad3', DecisionTreeClassifier(max_depth = 10, min_samples_split=10, min_samples_leaf=10)),\n",
        "              ('ad4', DecisionTreeClassifier(max_depth = 10, min_samples_split=10, min_samples_leaf=10)),\n",
        "              ('ad5', DecisionTreeClassifier(max_depth = 10, min_samples_split=10, min_samples_leaf=10)),\n",
        "              ('ad6', DecisionTreeClassifier(max_depth = 10, min_samples_split=10, min_samples_leaf=10)),\n",
        "              ('ad7', DecisionTreeClassifier(max_depth = 10, min_samples_split=10, min_samples_leaf=10)),\n",
        "              ('ad8', DecisionTreeClassifier(max_depth = 10, min_samples_split=10, min_samples_leaf=10)),\n",
        "              ('knn1', KNeighborsClassifier(n_neighbors=2, metric='euclidean', weights='distance')), \n",
        "              ('knn2', KNeighborsClassifier(n_neighbors=2, metric='euclidean', weights='distance')),\n",
        "              ('knn3', KNeighborsClassifier(n_neighbors=2, metric='euclidean', weights='distance')),\n",
        "              ('knn4', KNeighborsClassifier(n_neighbors=2, metric='euclidean', weights='distance')),\n",
        "              ('knn5', KNeighborsClassifier(n_neighbors=2, metric='euclidean', weights='distance')),\n",
        "              ('knn6', KNeighborsClassifier(n_neighbors=2, metric='euclidean', weights='distance')),\n",
        "              ('knn7', KNeighborsClassifier(n_neighbors=2, metric='euclidean', weights='distance'))]"
      ],
      "execution_count": null,
      "outputs": []
    },
    {
      "cell_type": "code",
      "metadata": {
        "id": "l0A46xRGC420"
      },
      "source": [
        "estimators = [('ad1', DecisionTreeClassifier(max_depth = 10, min_samples_split=10, min_samples_leaf=10)),\n",
        "              ('ad2', DecisionTreeClassifier(max_depth = 10, min_samples_split=10, min_samples_leaf=10)),\n",
        "              ('ad3', DecisionTreeClassifier(max_depth = 10, min_samples_split=10, min_samples_leaf=10)),\n",
        "              ('ad4', DecisionTreeClassifier(max_depth = 10, min_samples_split=10, min_samples_leaf=10)),\n",
        "              ('ad5', DecisionTreeClassifier(max_depth = 10, min_samples_split=10, min_samples_leaf=10)),\n",
        "              ('ad6', DecisionTreeClassifier(max_depth = 10, min_samples_split=10, min_samples_leaf=10)),\n",
        "              ('ad7', DecisionTreeClassifier(max_depth = 10, min_samples_split=10, min_samples_leaf=10)),\n",
        "              ('ad8', DecisionTreeClassifier(max_depth = 10, min_samples_split=10, min_samples_leaf=10)),\n",
        "              ('ad9', DecisionTreeClassifier(max_depth = 10, min_samples_split=10, min_samples_leaf=10)),\n",
        "              ('ad10', DecisionTreeClassifier(max_depth = 10, min_samples_split=10, min_samples_leaf=10)),\n",
        "              ('knn1', KNeighborsClassifier(n_neighbors=2, metric='euclidean', weights='distance')), \n",
        "              ('knn2', KNeighborsClassifier(n_neighbors=2, metric='euclidean', weights='distance')),\n",
        "              ('knn3', KNeighborsClassifier(n_neighbors=2, metric='euclidean', weights='distance')),\n",
        "              ('knn4', KNeighborsClassifier(n_neighbors=2, metric='euclidean', weights='distance')),\n",
        "              ('knn5', KNeighborsClassifier(n_neighbors=2, metric='euclidean', weights='distance')),\n",
        "              ('knn6', KNeighborsClassifier(n_neighbors=2, metric='euclidean', weights='distance')),\n",
        "              ('knn7', KNeighborsClassifier(n_neighbors=2, metric='euclidean', weights='distance')),\n",
        "              ('knn8', KNeighborsClassifier(n_neighbors=2, metric='euclidean', weights='distance')),\n",
        "              ('knn9', KNeighborsClassifier(n_neighbors=2, metric='euclidean', weights='distance')),\n",
        "              ('knn10', KNeighborsClassifier(n_neighbors=2, metric='euclidean', weights='distance'))]"
      ],
      "execution_count": null,
      "outputs": []
    },
    {
      "cell_type": "code",
      "metadata": {
        "id": "__xYj0oYBtRQ"
      },
      "source": [
        "sclf = StackingClassifier(estimators=estimators, final_estimator=DecisionTreeClassifier(max_depth = 10, min_samples_split=10, min_samples_leaf=10))"
      ],
      "execution_count": null,
      "outputs": []
    },
    {
      "cell_type": "code",
      "metadata": {
        "id": "YAqmwwbUBtRR"
      },
      "source": [
        "sclf.fit(X_train, y_train)\n",
        "y_pred = sclf.predict(X_test)"
      ],
      "execution_count": null,
      "outputs": []
    },
    {
      "cell_type": "code",
      "metadata": {
        "colab": {
          "base_uri": "https://localhost:8080/"
        },
        "id": "SXPFmYzUBtRS",
        "outputId": "66924577-acaf-42a3-c37e-806405b14d0f"
      },
      "source": [
        "acc = str(accuracy_score(y_test2, y_pred2))\n",
        "print(\"Acurácia:\", acc)\n",
        "cm = confusion_matrix(y_test2, y_pred2)\n",
        "print(\"Matriz de confusão: \")\n",
        "print(cm)\n",
        "prec = str(precision_score(y_test, y_pred, average= 'macro'))\n",
        "dp = stdev(y_pred)\n",
        "print(\"Precisão: \", prec)\n",
        "print(\"Desvio-padrão: \", dp)"
      ],
      "execution_count": null,
      "outputs": [
        {
          "output_type": "stream",
          "text": [
            "Precisão:  0.4982046678635548\n",
            "Desvio-padrão:  0.0\n"
          ],
          "name": "stdout"
        },
        {
          "output_type": "stream",
          "text": [
            "/usr/local/lib/python3.7/dist-packages/sklearn/metrics/_classification.py:1272: UndefinedMetricWarning: Precision is ill-defined and being set to 0.0 in labels with no predicted samples. Use `zero_division` parameter to control this behavior.\n",
            "  _warn_prf(average, modifier, msg_start, len(result))\n"
          ],
          "name": "stderr"
        }
      ]
    },
    {
      "cell_type": "markdown",
      "metadata": {
        "id": "a_XfFxIgDaIR"
      },
      "source": [
        "\n",
        "\n",
        "---\n",
        "**B:**\n"
      ]
    },
    {
      "cell_type": "code",
      "metadata": {
        "id": "X2-RKJA8DaIS"
      },
      "source": [
        "estimators = [('ad1', DecisionTreeClassifier(max_depth = 10, min_samples_split=10, min_samples_leaf=10)),\n",
        "              ('ad2', DecisionTreeClassifier(max_depth = 10, min_samples_split=10, min_samples_leaf=10)),\n",
        "              ('ad3', DecisionTreeClassifier(max_depth = 10, min_samples_split=10, min_samples_leaf=10)),\n",
        "              ('ad4', DecisionTreeClassifier(max_depth = 10, min_samples_split=10, min_samples_leaf=10)),\n",
        "              ('ad5', DecisionTreeClassifier(max_depth = 10, min_samples_split=10, min_samples_leaf=10)),\n",
        "              ('nb1', GaussianNB()), \n",
        "              ('nb2', GaussianNB()),\n",
        "              ('nb3', GaussianNB()),\n",
        "              ('nb4', GaussianNB()),\n",
        "              ('nb5', GaussianNB())]"
      ],
      "execution_count": null,
      "outputs": []
    },
    {
      "cell_type": "code",
      "metadata": {
        "id": "Hc_v0MBsDaIS"
      },
      "source": [
        "estimators = [('ad1', DecisionTreeClassifier(max_depth = 10, min_samples_split=10, min_samples_leaf=10)),\n",
        "              ('ad2', DecisionTreeClassifier(max_depth = 10, min_samples_split=10, min_samples_leaf=10)),\n",
        "              ('ad3', DecisionTreeClassifier(max_depth = 10, min_samples_split=10, min_samples_leaf=10)),\n",
        "              ('ad4', DecisionTreeClassifier(max_depth = 10, min_samples_split=10, min_samples_leaf=10)),\n",
        "              ('ad5', DecisionTreeClassifier(max_depth = 10, min_samples_split=10, min_samples_leaf=10)),\n",
        "              ('ad6', DecisionTreeClassifier(max_depth = 10, min_samples_split=10, min_samples_leaf=10)),\n",
        "              ('ad7', DecisionTreeClassifier(max_depth = 10, min_samples_split=10, min_samples_leaf=10)),\n",
        "              ('nb1', GaussianNB()), \n",
        "              ('nb2', GaussianNB()),\n",
        "              ('nb3', GaussianNB()),\n",
        "              ('nb4', GaussianNB()),\n",
        "              ('nb5', GaussianNB()),\n",
        "              ('nb6', GaussianNB()),\n",
        "              ('nb7', GaussianNB()),\n",
        "              ('nb8', GaussianNB())]"
      ],
      "execution_count": null,
      "outputs": []
    },
    {
      "cell_type": "code",
      "metadata": {
        "id": "lHeC_FnPDaIS"
      },
      "source": [
        "estimators = [('ad1', DecisionTreeClassifier(max_depth = 10, min_samples_split=10, min_samples_leaf=10)),\n",
        "              ('ad2', DecisionTreeClassifier(max_depth = 10, min_samples_split=10, min_samples_leaf=10)),\n",
        "              ('ad3', DecisionTreeClassifier(max_depth = 10, min_samples_split=10, min_samples_leaf=10)),\n",
        "              ('ad4', DecisionTreeClassifier(max_depth = 10, min_samples_split=10, min_samples_leaf=10)),\n",
        "              ('ad5', DecisionTreeClassifier(max_depth = 10, min_samples_split=10, min_samples_leaf=10)),\n",
        "              ('ad6', DecisionTreeClassifier(max_depth = 10, min_samples_split=10, min_samples_leaf=10)),\n",
        "              ('ad7', DecisionTreeClassifier(max_depth = 10, min_samples_split=10, min_samples_leaf=10)),\n",
        "              ('ad8', DecisionTreeClassifier(max_depth = 10, min_samples_split=10, min_samples_leaf=10)),\n",
        "              ('ad9', DecisionTreeClassifier(max_depth = 10, min_samples_split=10, min_samples_leaf=10)),\n",
        "              ('ad10', DecisionTreeClassifier(max_depth = 10, min_samples_split=10, min_samples_leaf=10)),\n",
        "              ('nb1', GaussianNB()), \n",
        "              ('nb2', GaussianNB()),\n",
        "              ('nb3', GaussianNB()),\n",
        "              ('nb4', GaussianNB()),\n",
        "              ('nb5', GaussianNB()),\n",
        "              ('nb6', GaussianNB()),\n",
        "              ('nb7', GaussianNB()),\n",
        "              ('nb8', GaussianNB()),\n",
        "              ('nb9', GaussianNB()),\n",
        "              ('nb10', GaussianNB())]"
      ],
      "execution_count": null,
      "outputs": []
    },
    {
      "cell_type": "code",
      "metadata": {
        "id": "859SSkm1DaIT"
      },
      "source": [
        "sclf = StackingClassifier(estimators=estimators, final_estimator=GaussianNB())"
      ],
      "execution_count": null,
      "outputs": []
    },
    {
      "cell_type": "code",
      "metadata": {
        "id": "pp7NveAKDaIT"
      },
      "source": [
        "sclf.fit(X_train, y_train)\n",
        "y_pred = sclf.predict(X_test)"
      ],
      "execution_count": null,
      "outputs": []
    },
    {
      "cell_type": "code",
      "metadata": {
        "colab": {
          "base_uri": "https://localhost:8080/"
        },
        "id": "PaR_lZ8xDaIT",
        "outputId": "6fd02df9-37c5-46f3-a578-04349b56034f"
      },
      "source": [
        "acc = str(accuracy_score(y_test2, y_pred2))\n",
        "print(\"Acurácia:\", acc)\n",
        "cm = confusion_matrix(y_test2, y_pred2)\n",
        "print(\"Matriz de confusão: \")\n",
        "print(cm)\n",
        "prec = str(precision_score(y_test, y_pred, average= 'macro'))\n",
        "dp = stdev(y_pred)\n",
        "print(\"Precisão: \", prec)\n",
        "print(\"Desvio-padrão: \", dp)"
      ],
      "execution_count": null,
      "outputs": [
        {
          "output_type": "stream",
          "text": [
            "Precisão:  0.5555555555555556\n",
            "Desvio-padrão:  0.0\n"
          ],
          "name": "stdout"
        }
      ]
    },
    {
      "cell_type": "markdown",
      "metadata": {
        "id": "4xYwpx07EVM0"
      },
      "source": [
        "\n",
        "\n",
        "---\n",
        "**C:**\n"
      ]
    },
    {
      "cell_type": "code",
      "metadata": {
        "id": "KlFlYP_5EVM-"
      },
      "source": [
        "estimators = [('knn1', KNeighborsClassifier(n_neighbors=2, metric='euclidean', weights='distance')), \n",
        "              ('knn2', KNeighborsClassifier(n_neighbors=2, metric='euclidean', weights='distance')),\n",
        "              ('knn3', KNeighborsClassifier(n_neighbors=2, metric='euclidean', weights='distance')),\n",
        "              ('knn4', KNeighborsClassifier(n_neighbors=2, metric='euclidean', weights='distance')),\n",
        "              ('knn5', KNeighborsClassifier(n_neighbors=2, metric='euclidean', weights='distance')),\n",
        "              ('nb1', GaussianNB()), \n",
        "              ('nb2', GaussianNB()),\n",
        "              ('nb3', GaussianNB()),\n",
        "              ('nb4', GaussianNB()),\n",
        "              ('nb5', GaussianNB())]"
      ],
      "execution_count": null,
      "outputs": []
    },
    {
      "cell_type": "code",
      "metadata": {
        "id": "mcMuvo1REVM_"
      },
      "source": [
        "estimators = [('knn1', KNeighborsClassifier(n_neighbors=2, metric='euclidean', weights='distance')), \n",
        "              ('knn2', KNeighborsClassifier(n_neighbors=2, metric='euclidean', weights='distance')),\n",
        "              ('knn3', KNeighborsClassifier(n_neighbors=2, metric='euclidean', weights='distance')),\n",
        "              ('knn4', KNeighborsClassifier(n_neighbors=2, metric='euclidean', weights='distance')),\n",
        "              ('knn5', KNeighborsClassifier(n_neighbors=2, metric='euclidean', weights='distance')),\n",
        "              ('knn6', KNeighborsClassifier(n_neighbors=2, metric='euclidean', weights='distance')),\n",
        "              ('knn7', KNeighborsClassifier(n_neighbors=2, metric='euclidean', weights='distance')),\n",
        "              ('knn8', KNeighborsClassifier(n_neighbors=2, metric='euclidean', weights='distance')),\n",
        "              ('nb1', GaussianNB()), \n",
        "              ('nb2', GaussianNB()),\n",
        "              ('nb3', GaussianNB()),\n",
        "              ('nb4', GaussianNB()),\n",
        "              ('nb5', GaussianNB()),\n",
        "              ('nb6', GaussianNB()),\n",
        "              ('nb7', GaussianNB())]"
      ],
      "execution_count": null,
      "outputs": []
    },
    {
      "cell_type": "code",
      "metadata": {
        "id": "fv4KmFPpEVM_"
      },
      "source": [
        "estimators = [('knn1', KNeighborsClassifier(n_neighbors=2, metric='euclidean', weights='distance')), \n",
        "              ('knn2', KNeighborsClassifier(n_neighbors=2, metric='euclidean', weights='distance')),\n",
        "              ('knn3', KNeighborsClassifier(n_neighbors=2, metric='euclidean', weights='distance')),\n",
        "              ('knn4', KNeighborsClassifier(n_neighbors=2, metric='euclidean', weights='distance')),\n",
        "              ('knn5', KNeighborsClassifier(n_neighbors=2, metric='euclidean', weights='distance')),\n",
        "              ('knn6', KNeighborsClassifier(n_neighbors=2, metric='euclidean', weights='distance')),\n",
        "              ('knn7', KNeighborsClassifier(n_neighbors=2, metric='euclidean', weights='distance')),\n",
        "              ('knn8', KNeighborsClassifier(n_neighbors=2, metric='euclidean', weights='distance')),\n",
        "              ('knn9', KNeighborsClassifier(n_neighbors=2, metric='euclidean', weights='distance')),\n",
        "              ('knn10', KNeighborsClassifier(n_neighbors=2, metric='euclidean', weights='distance')),\n",
        "              ('nb1', GaussianNB()), \n",
        "              ('nb2', GaussianNB()),\n",
        "              ('nb3', GaussianNB()),\n",
        "              ('nb4', GaussianNB()),\n",
        "              ('nb5', GaussianNB()),\n",
        "              ('nb6', GaussianNB()),\n",
        "              ('nb7', GaussianNB()),\n",
        "              ('nb8', GaussianNB()),\n",
        "              ('nb9', GaussianNB()),\n",
        "              ('nb10', GaussianNB())]"
      ],
      "execution_count": null,
      "outputs": []
    },
    {
      "cell_type": "code",
      "metadata": {
        "id": "JgXSK_faEVM_"
      },
      "source": [
        "sclf = StackingClassifier(estimators=estimators, final_estimator=KNeighborsClassifier(n_neighbors=2, metric='euclidean', weights='distance'))"
      ],
      "execution_count": null,
      "outputs": []
    },
    {
      "cell_type": "code",
      "metadata": {
        "id": "6ZcvKWRoEVNA"
      },
      "source": [
        "sclf.fit(X_train, y_train)\n",
        "y_pred = sclf.predict(X_test)"
      ],
      "execution_count": null,
      "outputs": []
    },
    {
      "cell_type": "code",
      "metadata": {
        "colab": {
          "base_uri": "https://localhost:8080/"
        },
        "id": "iRh7MkHaEVNA",
        "outputId": "d748586c-5015-4f6b-fd87-23fd0e8f8b07"
      },
      "source": [
        "acc = str(accuracy_score(y_test2, y_pred2))\n",
        "print(\"Acurácia:\", acc)\n",
        "cm = confusion_matrix(y_test2, y_pred2)\n",
        "print(\"Matriz de confusão: \")\n",
        "print(cm)\n",
        "prec = str(precision_score(y_test, y_pred, average= 'macro'))\n",
        "dp = stdev(y_pred)\n",
        "print(\"Precisão: \", prec)\n",
        "print(\"Desvio-padrão: \", dp)"
      ],
      "execution_count": null,
      "outputs": [
        {
          "output_type": "stream",
          "text": [
            "Precisão:  0.7486510791366907\n",
            "Desvio-padrão:  0.0\n"
          ],
          "name": "stdout"
        }
      ]
    },
    {
      "cell_type": "markdown",
      "metadata": {
        "id": "o_Vu18gvF6ar"
      },
      "source": [
        "\n",
        "\n",
        "---\n",
        "**D:**\n"
      ]
    },
    {
      "cell_type": "code",
      "metadata": {
        "id": "wGvZpABaF6a1"
      },
      "source": [
        "estimators = [('ad1', DecisionTreeClassifier(max_depth = 10, min_samples_split=10, min_samples_leaf=10)),\n",
        "              ('ad2', DecisionTreeClassifier(max_depth = 10, min_samples_split=10, min_samples_leaf=10)),\n",
        "              ('ad3', DecisionTreeClassifier(max_depth = 10, min_samples_split=10, min_samples_leaf=10)),\n",
        "              ('knn1', KNeighborsClassifier(n_neighbors=2, metric='euclidean', weights='distance')), \n",
        "              ('knn2', KNeighborsClassifier(n_neighbors=2, metric='euclidean', weights='distance')),\n",
        "              ('knn3', KNeighborsClassifier(n_neighbors=2, metric='euclidean', weights='distance')),\n",
        "              ('nb1', GaussianNB()), \n",
        "              ('nb2', GaussianNB()),\n",
        "              ('nb3', GaussianNB()),\n",
        "              ('nb4', GaussianNB())]"
      ],
      "execution_count": null,
      "outputs": []
    },
    {
      "cell_type": "code",
      "metadata": {
        "id": "QkJgUmnMF6a2"
      },
      "source": [
        "estimators = [('ad1', DecisionTreeClassifier(max_depth = 10, min_samples_split=10, min_samples_leaf=10)),\n",
        "              ('ad2', DecisionTreeClassifier(max_depth = 10, min_samples_split=10, min_samples_leaf=10)),\n",
        "              ('ad3', DecisionTreeClassifier(max_depth = 10, min_samples_split=10, min_samples_leaf=10)),\n",
        "              ('ad4', DecisionTreeClassifier(max_depth = 10, min_samples_split=10, min_samples_leaf=10)),\n",
        "              ('ad5', DecisionTreeClassifier(max_depth = 10, min_samples_split=10, min_samples_leaf=10)),\n",
        "              ('knn1', KNeighborsClassifier(n_neighbors=2, metric='euclidean', weights='distance')), \n",
        "              ('knn2', KNeighborsClassifier(n_neighbors=2, metric='euclidean', weights='distance')),\n",
        "              ('knn3', KNeighborsClassifier(n_neighbors=2, metric='euclidean', weights='distance')),\n",
        "              ('knn4', KNeighborsClassifier(n_neighbors=2, metric='euclidean', weights='distance')),\n",
        "              ('knn5', KNeighborsClassifier(n_neighbors=2, metric='euclidean', weights='distance')),\n",
        "              ('nb1', GaussianNB()), \n",
        "              ('nb2', GaussianNB()),\n",
        "              ('nb3', GaussianNB()),\n",
        "              ('nb4', GaussianNB()),\n",
        "              ('nb5', GaussianNB())]"
      ],
      "execution_count": null,
      "outputs": []
    },
    {
      "cell_type": "code",
      "metadata": {
        "id": "lUfMPaClF6a2"
      },
      "source": [
        "estimators = [('ad1', DecisionTreeClassifier(max_depth = 10, min_samples_split=10, min_samples_leaf=10)),\n",
        "              ('ad2', DecisionTreeClassifier(max_depth = 10, min_samples_split=10, min_samples_leaf=10)),\n",
        "              ('ad3', DecisionTreeClassifier(max_depth = 10, min_samples_split=10, min_samples_leaf=10)),\n",
        "              ('ad4', DecisionTreeClassifier(max_depth = 10, min_samples_split=10, min_samples_leaf=10)),\n",
        "              ('ad5', DecisionTreeClassifier(max_depth = 10, min_samples_split=10, min_samples_leaf=10)),\n",
        "              ('ad6', DecisionTreeClassifier(max_depth = 10, min_samples_split=10, min_samples_leaf=10)),\n",
        "              ('knn1', KNeighborsClassifier(n_neighbors=2, metric='euclidean', weights='distance')), \n",
        "              ('knn2', KNeighborsClassifier(n_neighbors=2, metric='euclidean', weights='distance')),\n",
        "              ('knn3', KNeighborsClassifier(n_neighbors=2, metric='euclidean', weights='distance')),\n",
        "              ('knn4', KNeighborsClassifier(n_neighbors=2, metric='euclidean', weights='distance')),\n",
        "              ('knn5', KNeighborsClassifier(n_neighbors=2, metric='euclidean', weights='distance')),\n",
        "              ('knn6', KNeighborsClassifier(n_neighbors=2, metric='euclidean', weights='distance')),\n",
        "              ('knn7', KNeighborsClassifier(n_neighbors=2, metric='euclidean', weights='distance')),\n",
        "              ('nb1', GaussianNB()), \n",
        "              ('nb2', GaussianNB()),\n",
        "              ('nb3', GaussianNB()),\n",
        "              ('nb4', GaussianNB()),\n",
        "              ('nb5', GaussianNB()),\n",
        "              ('nb6', GaussianNB()),\n",
        "              ('nb7', GaussianNB())]"
      ],
      "execution_count": null,
      "outputs": []
    },
    {
      "cell_type": "code",
      "metadata": {
        "id": "vvqWHD9FF6a2"
      },
      "source": [
        "sclf = StackingClassifier(estimators=estimators, final_estimator=DecisionTreeClassifier(max_depth = 10, min_samples_split=10, min_samples_leaf=10))"
      ],
      "execution_count": null,
      "outputs": []
    },
    {
      "cell_type": "code",
      "metadata": {
        "id": "qC5PqS5hF6a3"
      },
      "source": [
        "sclf.fit(X_train, y_train)\n",
        "y_pred = sclf.predict(X_test)"
      ],
      "execution_count": null,
      "outputs": []
    },
    {
      "cell_type": "code",
      "metadata": {
        "colab": {
          "base_uri": "https://localhost:8080/"
        },
        "id": "l6pGsW0nF6a3",
        "outputId": "d8c5be1d-f268-48d0-bad8-c09ec6c5ff6b"
      },
      "source": [
        "acc = str(accuracy_score(y_test2, y_pred2))\n",
        "print(\"Acurácia:\", acc)\n",
        "cm = confusion_matrix(y_test2, y_pred2)\n",
        "print(\"Matriz de confusão: \")\n",
        "print(cm)\n",
        "prec = str(precision_score(y_test, y_pred, average= 'macro'))\n",
        "dp = stdev(y_pred)\n",
        "print(\"Precisão: \", prec)\n",
        "print(\"Desvio-padrão: \", dp)"
      ],
      "execution_count": null,
      "outputs": [
        {
          "output_type": "stream",
          "text": [
            "Precisão:  0.6653165316531653\n",
            "Desvio-padrão:  0.0\n"
          ],
          "name": "stdout"
        }
      ]
    },
    {
      "cell_type": "markdown",
      "metadata": {
        "id": "0TmyuVtB3roa"
      },
      "source": [
        "# **18. TESTE ESTATÍSTICOS**"
      ]
    },
    {
      "cell_type": "markdown",
      "metadata": {
        "id": "mU5Pcq9JI42g"
      },
      "source": [
        "Esses testes foram executados utilizando a linguagem R e os códigos estão no arquivo do relatório final."
      ]
    }
  ]
}