{
  "nbformat": 4,
  "nbformat_minor": 0,
  "metadata": {
    "colab": {
      "name": "relatorio2NB.ipynb",
      "provenance": [],
      "collapsed_sections": [],
      "toc_visible": true
    },
    "kernelspec": {
      "name": "python3",
      "display_name": "Python 3"
    }
  },
  "cells": [
    {
      "cell_type": "markdown",
      "metadata": {
        "id": "9qVMFOeutfE5"
      },
      "source": [
        "# **Testes do Naive Bayes**"
      ]
    },
    {
      "cell_type": "code",
      "metadata": {
        "id": "_AYtCwwnrd01"
      },
      "source": [
        "from sklearn.naive_bayes import GaussianNB\n",
        "from sklearn.model_selection import RepeatedKFold\n",
        "import numpy as np \n",
        "import pylab \n",
        "import scipy.stats as stats\n",
        "import pandas as pd\n",
        "import matplotlib.pyplot as plt\n",
        "from google.colab import drive\n",
        "from sklearn.metrics import accuracy_score, confusion_matrix, precision_score, recall_score, f1_score\n"
      ],
      "execution_count": 29,
      "outputs": []
    },
    {
      "cell_type": "code",
      "metadata": {
        "id": "XNSzt0KAsyX3"
      },
      "source": [
        "df1 = pd.read_csv('/content/drive/MyDrive/Colab Notebooks/all_seasons_pre_processing.csv')\n",
        "df2 = pd.read_csv('/content/drive/MyDrive/Colab Notebooks/BaseReduzida1.csv')\n",
        "df3 = pd.read_csv('/content/drive/MyDrive/Colab Notebooks/BaseReduzida2.csv')\n",
        "df4 = pd.read_csv('/content/drive/MyDrive/Colab Notebooks/BaseReduzida3.csv')"
      ],
      "execution_count": 30,
      "outputs": []
    },
    {
      "cell_type": "code",
      "metadata": {
        "id": "4vwoylXZxjlv"
      },
      "source": [
        "df1.head()"
      ],
      "execution_count": null,
      "outputs": []
    },
    {
      "cell_type": "code",
      "metadata": {
        "id": "HIPzGW6G4OXf"
      },
      "source": [
        "df2.head()\n"
      ],
      "execution_count": null,
      "outputs": []
    },
    {
      "cell_type": "code",
      "metadata": {
        "id": "MDEfyYBE4TW9"
      },
      "source": [
        "df3.head()"
      ],
      "execution_count": null,
      "outputs": []
    },
    {
      "cell_type": "code",
      "metadata": {
        "id": "_NmBwOEi4Wpy"
      },
      "source": [
        "df4.head()"
      ],
      "execution_count": null,
      "outputs": []
    },
    {
      "cell_type": "code",
      "metadata": {
        "id": "bwWctbT2syX4"
      },
      "source": [
        "X1 = df1.iloc[:,:-1].values\n",
        "y1 = df1.iloc[:,-1].values\n",
        "\n",
        "X2 = df2.iloc[:,:-1].values\n",
        "y2 = df2.iloc[:,-1].values\n",
        "\n",
        "X3 = df3.iloc[:,:-1].values\n",
        "y3 = df3.iloc[:,-1].values\n",
        "\n",
        "X4 = df4.iloc[:,:-1].values\n",
        "y4 = df4.iloc[:,-1].values"
      ],
      "execution_count": 32,
      "outputs": []
    },
    {
      "cell_type": "code",
      "metadata": {
        "id": "DQiGJ7batzTW"
      },
      "source": [
        "#getting individual arrays from the columns to test normal hypothesis and correlation for X1\n",
        "X1_pid = X1[:,0]\n",
        "X1_gp = X1[:,1]\n",
        "X1_pts = X1[:,2]\n",
        "X1_reb = X1[:,3]\n",
        "X1_ast = X1[:,4]\n",
        "X1_net_rating = X1[:,5]\n",
        "X1_oreb_pct = X1[:,6]\n",
        "X1_dreb_pct = X1[:,7]\n",
        "X1_usg_pct = X1[:,8]\n",
        "X1_ts_pct = X1[:,9]\n",
        "X1_ast_pct = X1[:,10]\n",
        "X1_season = X1[:,11]"
      ],
      "execution_count": null,
      "outputs": []
    },
    {
      "cell_type": "code",
      "metadata": {
        "id": "F3vw0yrP48ie"
      },
      "source": [
        "#getting individual arrays from the columns to test normal hypothesis and correlation for X2\n",
        "X2_pid = X2[:,0]\n",
        "X2_gp = X2[:,1]\n",
        "X2_pts = X2[:,2]\n",
        "X2_reb = X2[:,3]\n",
        "X2_ast = X2[:,4]\n",
        "X2_net_rating = X2[:,5]\n",
        "X2_oreb_pct = X2[:,6]\n",
        "X2_dreb_pct = X2[:,7]\n",
        "X2_usg_pct = X2[:,8]\n",
        "X2_ts_pct = X2[:,9]\n",
        "X2_ast_pct = X2[:,10]\n",
        "X2_season = X2[:,11]"
      ],
      "execution_count": null,
      "outputs": []
    },
    {
      "cell_type": "code",
      "metadata": {
        "id": "xdiLoY4E5vv3"
      },
      "source": [
        "#getting individual arrays from the columns to test normal hypothesis and correlation for X3\n",
        "X3_pts = X3[:,0]\n",
        "X3_reb = X3[:,1]\n",
        "X3_ast = X3[:,2]\n",
        "X3_net_rating = X3[:,3]\n",
        "X3_usg_pct = X3[:,4]\n",
        "X3_ast_pct = X3[:,5]"
      ],
      "execution_count": null,
      "outputs": []
    },
    {
      "cell_type": "code",
      "metadata": {
        "id": "9oxmdBdn5w3Y"
      },
      "source": [
        "#getting individual arrays from the columns to test normal hypothesis and correlation for X4\n",
        "X4_pts = X4[:,0]\n",
        "X4_reb = X4[:,1]\n",
        "X4_ast = X4[:,2]\n",
        "X4_net_rating = X4[:,3]\n",
        "X4_ast_pct = X4[:,4]\n",
        "X4_usg_pct = X4[:,5]"
      ],
      "execution_count": null,
      "outputs": []
    },
    {
      "cell_type": "code",
      "metadata": {
        "id": "apIEA1MN7PHy",
        "colab": {
          "base_uri": "https://localhost:8080/",
          "height": 295
        },
        "outputId": "2e9774dd-5253-475d-9b6f-469190e456a8"
      },
      "source": [
        "#Plotting the Q-QPlot according to each array Xn_<nameAttrib> manually\n",
        "vfunc = (np.log)\n",
        "stats.probplot( X3_reb, dist=\"norm\" , plot=plt)\n",
        "pylab.show()\n"
      ],
      "execution_count": null,
      "outputs": [
        {
          "output_type": "display_data",
          "data": {
            "image/png": "[encoded data removed]",
            "text/plain": [
              "<Figure size 432x288 with 1 Axes>"
            ]
          },
          "metadata": {
            "tags": [],
            "needs_background": "light"
          }
        }
      ]
    },
    {
      "cell_type": "code",
      "metadata": {
        "id": "eYmUuxP7A8AW"
      },
      "source": [
        "corr_mat = df4.corr(method = 'pearson')\n",
        "print(corr_mat)\n",
        "#corr_mat.to_csv( '/content/drive/MyDrive/Colab Notebooks/corrMatDB4.csv', index=False )"
      ],
      "execution_count": null,
      "outputs": []
    },
    {
      "cell_type": "code",
      "metadata": {
        "id": "a6_84uPGscFh",
        "colab": {
          "base_uri": "https://localhost:8080/"
        },
        "outputId": "44f339a3-33d6-4b26-af9d-db3ca3f1504a"
      },
      "source": [
        "accMean  = [0, 0, 0, 0]\n",
        "stdMean  = np.float64(0)\n",
        "accB1_10 = np.empty(10, dtype=object)\n",
        "accB4_10 = np.empty(10, dtype=object)\n",
        "it = 10\n",
        "for i in range(0, it, 1):\n",
        "  rkf = RepeatedKFold(n_splits=10, n_repeats=10, random_state=i)\n",
        "\n",
        "  for train, test in rkf.split(X1, y1):\n",
        "    X_train1 = X1[train]\n",
        "    X_test1 = X1[test]\n",
        "    y_train1 = y1[train]\n",
        "    y_test1 = y1[test]\n",
        "\n",
        "  for train, test in rkf.split(X2, y2):\n",
        "    X_train2 = X2[train]\n",
        "    X_test2 = X2[test]\n",
        "    y_train2 = y2[train]\n",
        "    y_test2 = y2[test]\n",
        "\n",
        "  for train, test in rkf.split(X3, y3):\n",
        "    X_train3 = X3[train]\n",
        "    X_test3 = X3[test]\n",
        "    y_train3 = y3[train]\n",
        "    y_test3 = y3[test]\n",
        "\n",
        "  for train, test in rkf.split(X4, y4):\n",
        "    X_train4 = X4[train]\n",
        "    X_test4 = X4[test]\n",
        "    y_train4 = y4[train]\n",
        "    y_test4 = y4[test]\n",
        "\n",
        "  nb = GaussianNB()\n",
        "\n",
        "  nb.fit(X_train1, y_train1)\n",
        "  y_pred1 = nb.predict(X_test1)\n",
        "\n",
        "  nb.fit(X_train2, y_train2)\n",
        "  y_pred2 = nb.predict(X_test2)\n",
        "\n",
        "  nb.fit(X_train3, y_train3)\n",
        "  y_pred3 = nb.predict(X_test3)\n",
        "\n",
        "  nb.fit(X_train4, y_train4)\n",
        "  y_pred4 = nb.predict(X_test4)\n",
        "\n",
        "  print('\\n\\n\\n-------------SEED DE NÚMERO ' + str(i) + ' -------------')\n",
        "\n",
        "  acc = accuracy_score(y_test1, y_pred1)\n",
        "  accMean[0] += acc\n",
        "  accB1_10[i] = acc\n",
        "  \n",
        "  print(\"Acurácia B1:\", acc)\n",
        "\n",
        "  cm = confusion_matrix(y_test1, y_pred1)\n",
        "  print(\"Matriz de confusão B1: \")\n",
        "  print(cm)\n",
        "\n",
        "  acc = accuracy_score(y_test2, y_pred2)\n",
        "  accMean[1] += acc\n",
        "  \n",
        "  print(\"Acurácia B2:\", acc)\n",
        "\n",
        "  cm = confusion_matrix(y_test2, y_pred2)\n",
        "  print(\"Matriz de confusão B2: \")\n",
        "  print(cm)\n",
        "\n",
        "  acc = accuracy_score(y_test3, y_pred3)\n",
        "  accMean[2] += acc\n",
        "  \n",
        "\n",
        "  print(\"Acurácia B3:\", acc)\n",
        "\n",
        "  cm = confusion_matrix(y_test3, y_pred3)\n",
        "  print(\"Matriz de confusão B3: \")\n",
        "  print(cm)\n",
        "\n",
        "  nb_m = nb.score(X_train3, y_train3)\n",
        "  print(\"Score NB B3: \", nb_m)\n",
        "\n",
        "  acc = accuracy_score(y_test4, y_pred4)\n",
        "  accMean[3] += acc\n",
        "  accB4_10[i] = acc\n",
        " \n",
        "  print(\"Acurácia B4:\", acc)\n",
        "\n",
        "  cm = confusion_matrix(y_test4, y_pred4)\n",
        "  print(\"Matriz de confusão B4: \")\n",
        "  print(cm)\n",
        "\n",
        "  nb_m = nb.score(X_train4, y_train4)\n",
        "  stdMean = stdMean + np.std(y_pred4)\n",
        "  print(\"Score NB B4: \", nb_m)\n",
        "  print(\"Standard Deviation B4: \", np.std(y_pred4))\n",
        "\n",
        "for i in range(0, 4, 1):\n",
        "  accMean[i] = accMean[i] / it\n",
        "\n",
        "print(accMean)\n",
        "print( (accMean[0] + accMean[1] + accMean[2] + accMean[3]) / 4 )\n",
        "print(stdMean/3)\n",
        "print(\"10 acc base 1:\", accB1_10)\n",
        "print(\"10 acc base 4:\", accB4_10)"
      ],
      "execution_count": 33,
      "outputs": [
        {
          "output_type": "stream",
          "text": [
            "\n",
            "\n",
            "\n",
            "-------------SEED DE NÚMERO 0 -------------\n",
            "Acurácia B1: 0.9721723518850988\n",
            "Matriz de confusão B1: \n",
            "[[1082   30]\n",
            " [   1    1]]\n",
            "Acurácia B2: 0.9807692307692307\n",
            "Matriz de confusão B2: \n",
            "[[765  15]\n",
            " [  0   0]]\n",
            "Acurácia B3: 0.9730769230769231\n",
            "Matriz de confusão B3: \n",
            "[[758  21]\n",
            " [  0   1]]\n",
            "Score NB B3:  0.7874946588805014\n",
            "Acurácia B4: 0.9923076923076923\n",
            "Matriz de confusão B4: \n",
            "[[773   6]\n",
            " [  0   1]]\n",
            "Score NB B4:  0.9923087879219484\n",
            "Standard Deviation B4:  0.09430705093129738\n",
            "\n",
            "\n",
            "\n",
            "-------------SEED DE NÚMERO 1 -------------\n",
            "Acurácia B1: 0.9775583482944344\n",
            "Matriz de confusão B1: \n",
            "[[1088   25]\n",
            " [   0    1]]\n",
            "Acurácia B2: 0.9807692307692307\n",
            "Matriz de confusão B2: \n",
            "[[763  15]\n",
            " [  0   2]]\n",
            "Acurácia B3: 0.9794871794871794\n",
            "Matriz de confusão B3: \n",
            "[[763  16]\n",
            " [  0   1]]\n",
            "Score NB B3:  0.7712576556046147\n",
            "Acurácia B4: 0.9910256410256411\n",
            "Matriz de confusão B4: \n",
            "[[773   6]\n",
            " [  1   0]]\n",
            "Score NB B4:  0.9928785073351375\n",
            "Standard Deviation B4:  0.0873678207046196\n",
            "\n",
            "\n",
            "\n",
            "-------------SEED DE NÚMERO 2 -------------\n",
            "Acurácia B1: 0.9820466786355476\n",
            "Matriz de confusão B1: \n",
            "[[1089   20]\n",
            " [   0    5]]\n",
            "Acurácia B2: 0.9730769230769231\n",
            "Matriz de confusão B2: \n",
            "[[758  21]\n",
            " [  0   1]]\n",
            "Acurácia B3: 0.9807692307692307\n",
            "Matriz de confusão B3: \n",
            "[[765  15]\n",
            " [  0   0]]\n",
            "Score NB B3:  0.8229596923515169\n",
            "Acurácia B4: 0.9974358974358974\n",
            "Matriz de confusão B4: \n",
            "[[778   2]\n",
            " [  0   0]]\n",
            "Score NB B4:  0.9918814983620566\n",
            "Standard Deviation B4:  0.05057200749568209\n",
            "\n",
            "\n",
            "\n",
            "-------------SEED DE NÚMERO 3 -------------\n",
            "Acurácia B1: 0.973967684021544\n",
            "Matriz de confusão B1: \n",
            "[[1079   29]\n",
            " [   0    6]]\n",
            "Acurácia B2: 0.9807692307692307\n",
            "Matriz de confusão B2: \n",
            "[[763  15]\n",
            " [  0   2]]\n",
            "Acurácia B3: 0.982051282051282\n",
            "Matriz de confusão B3: \n",
            "[[762  14]\n",
            " [  0   4]]\n",
            "Score NB B3:  0.837772397094431\n",
            "Acurácia B4: 0.9935897435897436\n",
            "Matriz de confusão B4: \n",
            "[[773   3]\n",
            " [  2   2]]\n",
            "Score NB B4:  0.9920239282153539\n",
            "Standard Deviation B4:  0.07980704870505599\n",
            "\n",
            "\n",
            "\n",
            "-------------SEED DE NÚMERO 4 -------------\n",
            "Acurácia B1: 0.981149012567325\n",
            "Matriz de confusão B1: \n",
            "[[1091   21]\n",
            " [   0    2]]\n",
            "Acurácia B2: 0.9769230769230769\n",
            "Matriz de confusão B2: \n",
            "[[762  18]\n",
            " [  0   0]]\n",
            "Acurácia B3: 0.9705128205128205\n",
            "Matriz de confusão B3: \n",
            "[[756  23]\n",
            " [  0   1]]\n",
            "Score NB B3:  0.6654322746047572\n",
            "Acurácia B4: 0.9846153846153847\n",
            "Matriz de confusão B4: \n",
            "[[768  11]\n",
            " [  1   0]]\n",
            "Score NB B4:  0.9921663580686512\n",
            "Standard Deviation B4:  0.11791387445206426\n",
            "\n",
            "\n",
            "\n",
            "-------------SEED DE NÚMERO 5 -------------\n",
            "Acurácia B1: 0.9784560143626571\n",
            "Matriz de confusão B1: \n",
            "[[1089   24]\n",
            " [   0    1]]\n",
            "Acurácia B2: 0.9756410256410256\n",
            "Matriz de confusão B2: \n",
            "[[761  19]\n",
            " [  0   0]]\n",
            "Acurácia B3: 0.9743589743589743\n",
            "Matriz de confusão B3: \n",
            "[[759  20]\n",
            " [  0   1]]\n",
            "Score NB B3:  0.7471870103973793\n",
            "Acurácia B4: 0.9923076923076923\n",
            "Matriz de confusão B4: \n",
            "[[773   6]\n",
            " [  0   1]]\n",
            "Score NB B4:  0.9921663580686512\n",
            "Standard Deviation B4:  0.09430705093129738\n",
            "\n",
            "\n",
            "\n",
            "-------------SEED DE NÚMERO 6 -------------\n",
            "Acurácia B1: 0.9802513464991023\n",
            "Matriz de confusão B1: \n",
            "[[1090   22]\n",
            " [   0    2]]\n",
            "Acurácia B2: 0.9756410256410256\n",
            "Matriz de confusão B2: \n",
            "[[759  19]\n",
            " [  0   2]]\n",
            "Acurácia B3: 0.9846153846153847\n",
            "Matriz de confusão B3: \n",
            "[[767  12]\n",
            " [  0   1]]\n",
            "Score NB B3:  0.933057968950292\n",
            "Acurácia B4: 0.9935897435897436\n",
            "Matriz de confusão B4: \n",
            "[[775   4]\n",
            " [  1   0]]\n",
            "Score NB B4:  0.9944452357214072\n",
            "Standard Deviation B4:  0.07142763219068779\n",
            "\n",
            "\n",
            "\n",
            "-------------SEED DE NÚMERO 7 -------------\n",
            "Acurácia B1: 0.9721723518850988\n",
            "Matriz de confusão B1: \n",
            "[[1079   31]\n",
            " [   0    4]]\n",
            "Acurácia B2: 0.9807692307692307\n",
            "Matriz de confusão B2: \n",
            "[[763  15]\n",
            " [  0   2]]\n",
            "Acurácia B3: 0.9782051282051282\n",
            "Matriz de confusão B3: \n",
            "[[759  17]\n",
            " [  0   4]]\n",
            "Score NB B3:  0.6510468594217348\n",
            "Acurácia B4: 0.9884615384615385\n",
            "Matriz de confusão B4: \n",
            "[[771   5]\n",
            " [  4   0]]\n",
            "Score NB B4:  0.9928785073351375\n",
            "Standard Deviation B4:  0.07980704870505599\n",
            "\n",
            "\n",
            "\n",
            "-------------SEED DE NÚMERO 8 -------------\n",
            "Acurácia B1: 0.9685816876122083\n",
            "Matriz de confusão B1: \n",
            "[[1078   34]\n",
            " [   1    1]]\n",
            "Acurácia B2: 0.9628205128205128\n",
            "Matriz de confusão B2: \n",
            "[[749  29]\n",
            " [  0   2]]\n",
            "Acurácia B3: 0.9705128205128205\n",
            "Matriz de confusão B3: \n",
            "[[755  23]\n",
            " [  0   2]]\n",
            "Score NB B3:  0.7816550348953141\n",
            "Acurácia B4: 0.9935897435897436\n",
            "Matriz de confusão B4: \n",
            "[[775   3]\n",
            " [  2   0]]\n",
            "Score NB B4:  0.9920239282153539\n",
            "Standard Deviation B4:  0.061897988228581086\n",
            "\n",
            "\n",
            "\n",
            "-------------SEED DE NÚMERO 9 -------------\n",
            "Acurácia B1: 0.9838420107719928\n",
            "Matriz de confusão B1: \n",
            "[[1092   18]\n",
            " [   0    4]]\n",
            "Acurácia B2: 0.9782051282051282\n",
            "Matriz de confusão B2: \n",
            "[[761  17]\n",
            " [  0   2]]\n",
            "Acurácia B3: 0.9769230769230769\n",
            "Matriz de confusão B3: \n",
            "[[760  18]\n",
            " [  0   2]]\n",
            "Score NB B3:  0.8877652756017661\n",
            "Acurácia B4: 0.9948717948717949\n",
            "Matriz de confusão B4: \n",
            "[[775   3]\n",
            " [  1   1]]\n",
            "Score NB B4:  0.9927360774818402\n",
            "Standard Deviation B4:  0.0714276321906878\n",
            "[0.9770197486535007, 0.9765384615384614, 0.977051282051282, 0.9921794871794873]\n",
            "0.9806972448556828\n",
            "0.2696117181783431\n",
            "10 acc base 1: [0.9721723518850988 0.9775583482944344 0.9820466786355476\n",
            " 0.973967684021544 0.981149012567325 0.9784560143626571 0.9802513464991023\n",
            " 0.9721723518850988 0.9685816876122083 0.9838420107719928]\n",
            "10 acc base 4: [0.9923076923076923 0.9910256410256411 0.9974358974358974\n",
            " 0.9935897435897436 0.9846153846153847 0.9923076923076923\n",
            " 0.9935897435897436 0.9884615384615385 0.9935897435897436\n",
            " 0.9948717948717949]\n"
          ],
          "name": "stdout"
        }
      ]
    },
    {
      "cell_type": "markdown",
      "metadata": {
        "id": "oaXV2QhVW2a6"
      },
      "source": [
        "# **Plotando gráficos dos métodos não-supervisionados**"
      ]
    },
    {
      "cell_type": "markdown",
      "metadata": {
        "id": "esb3Xu-mDBqt"
      },
      "source": [
        "# **12. k-MEANS**"
      ]
    },
    {
      "cell_type": "code",
      "metadata": {
        "id": "9nmlVIUYDlyS"
      },
      "source": [
        "from sklearn.cluster import KMeans\n",
        "from sklearn.metrics import davies_bouldin_score\n",
        "from sklearn.metrics import silhouette_score"
      ],
      "execution_count": null,
      "outputs": []
    },
    {
      "cell_type": "code",
      "metadata": {
        "id": "nCFalkzXkaMg"
      },
      "source": [
        "db = []\n",
        "si = []\n",
        "dp_db = []\n",
        "dp_si = []\n",
        "mean_db = []\n",
        "mean_si = []"
      ],
      "execution_count": null,
      "outputs": []
    },
    {
      "cell_type": "code",
      "metadata": {
        "id": "jPY4hdK0vCw3"
      },
      "source": [
        "for x in range(2, 21):\n",
        "  df = pd.read_csv('/content/drive/MyDrive/Colab Notebooks/all_seasons_pre_processing.csv')\n",
        "  df = df.drop('was_mvp', axis=1)\n",
        "\n",
        "  km = KMeans(n_clusters=x, init='k-means++', max_iter = 300, n_init=5, random_state = 0)\n",
        "  km.fit(df)\n",
        "  predict = km.fit_predict(df)\n",
        "  centroids = km.cluster_centers_\n",
        "\n",
        "  df[\"Cluster\"] = km.labels_\n",
        "  labels = df[\"Cluster\"]\n",
        "\n",
        "  db.append(davies_bouldin_score(df, labels))\n",
        "  si.append(silhouette_score(df, labels))\n",
        "  dp_db.append(np.std(db))\n",
        "  dp_si.append(np.std(si))\n",
        "  mean_db.append(np.mean(davies_bouldin_score(df, labels)))\n",
        "  mean_si.append(np.mean(silhouette_score(df, labels)))\n"
      ],
      "execution_count": null,
      "outputs": []
    },
    {
      "cell_type": "code",
      "metadata": {
        "id": "oZfg2-7moleV"
      },
      "source": [
        "k_means = [db, si, dp_db, dp_si, mean_db, mean_si]"
      ],
      "execution_count": null,
      "outputs": []
    },
    {
      "cell_type": "code",
      "metadata": {
        "colab": {
          "base_uri": "https://localhost:8080/"
        },
        "id": "NnLIB6QtzNV9",
        "outputId": "137399da-efda-4e75-c18d-093dad5004a4"
      },
      "source": [
        "print(k_means)"
      ],
      "execution_count": null,
      "outputs": [
        {
          "output_type": "stream",
          "text": [
            "[[0.500677060354062, 0.5096348806776979, 0.5134773410705106, 0.531496987569788, 0.5355760821337144, 0.5424387607374069, 0.5512869236507786, 0.5723842549587991, 0.5856093788500542, 0.5945567488982121, 0.6122187006877642, 0.6312778473934646, 0.6424252166360283, 0.6546885874043039, 0.6720843189528113, 0.6856431271641682, 0.7049493772780531, 0.7172006283154517, 0.7395140283991966, 0.500677060354062, 0.5096348806776979, 0.5134773410705106, 0.531496987569788, 0.5355760821337144, 0.5424387607374069, 0.5512869236507786, 0.5723842549587991, 0.5856093788500542, 0.5945567488982121, 0.6122187006877642, 0.6312778473934646, 0.6424252166360283, 0.6546885874043039, 0.6720843189528113, 0.6856431271641682, 0.7049493772780531, 0.7172006283154517, 0.7395140283991966], [0.6266815471364442, 0.5851547696511393, 0.5645419762910631, 0.539246754909167, 0.5312074318697858, 0.5215396372059196, 0.5132007203710692, 0.4957268647494867, 0.486204994872483, 0.480793153691667, 0.470209085116004, 0.4575059510435769, 0.4506165441105029, 0.44588125218548347, 0.43683268228800615, 0.42848594012608804, 0.41955074909052564, 0.4158827246269716, 0.40199112268243203, 0.6266815471364442, 0.5851547696511393, 0.5645419762910631, 0.539246754909167, 0.5312074318697858, 0.5215396372059196, 0.5132007203710692, 0.4957268647494867, 0.486204994872483, 0.480793153691667, 0.470209085116004, 0.4575059510435769, 0.4506165441105029, 0.44588125218548347, 0.43683268228800615, 0.42848594012608804, 0.41955074909052564, 0.4158827246269716, 0.40199112268243203], [0.0, 0.0, 0.0, 0.0, 0.0, 0.0, 0.0, 0.0, 0.0, 0.0, 0.0, 0.0, 0.0, 0.0, 0.0, 0.0, 0.0, 0.0, 0.0, 0.0, 0.0, 0.0, 0.0, 0.0, 0.0, 0.0, 0.0, 0.0, 0.0, 0.0, 0.0, 0.0, 0.0, 0.0, 0.0, 0.0, 0.0, 0.0], [0.0, 0.0, 0.0, 0.0, 0.0, 0.0, 0.0, 0.0, 0.0, 0.0, 0.0, 0.0, 0.0, 0.0, 0.0, 0.0, 0.0, 0.0, 0.0, 0.0, 0.0, 0.0, 0.0, 0.0, 0.0, 0.0, 0.0, 0.0, 0.0, 0.0, 0.0, 0.0, 0.0, 0.0, 0.0, 0.0, 0.0, 0.0], [0.500677060354062, 0.5096348806776979, 0.5134773410705106, 0.531496987569788, 0.5355760821337144, 0.5424387607374069, 0.5512869236507786, 0.5723842549587991, 0.5856093788500542, 0.5945567488982121, 0.6122187006877642, 0.6312778473934646, 0.6424252166360283, 0.6546885874043039, 0.6720843189528113, 0.6856431271641682, 0.7049493772780531, 0.7172006283154517, 0.7395140283991966, 0.500677060354062, 0.5096348806776979, 0.5134773410705106, 0.531496987569788, 0.5355760821337144, 0.5424387607374069, 0.5512869236507786, 0.5723842549587991, 0.5856093788500542, 0.5945567488982121, 0.6122187006877642, 0.6312778473934646, 0.6424252166360283, 0.6546885874043039, 0.6720843189528113, 0.6856431271641682, 0.7049493772780531, 0.7172006283154517, 0.7395140283991966], [0.6266815471364442, 0.5851547696511393, 0.5645419762910631, 0.539246754909167, 0.5312074318697858, 0.5215396372059196, 0.5132007203710692, 0.4957268647494867, 0.486204994872483, 0.480793153691667, 0.470209085116004, 0.4575059510435769, 0.4506165441105029, 0.44588125218548347, 0.43683268228800615, 0.42848594012608804, 0.41955074909052564, 0.4158827246269716, 0.40199112268243203, 0.6266815471364442, 0.5851547696511393, 0.5645419762910631, 0.539246754909167, 0.5312074318697858, 0.5215396372059196, 0.5132007203710692, 0.4957268647494867, 0.486204994872483, 0.480793153691667, 0.470209085116004, 0.4575059510435769, 0.4506165441105029, 0.44588125218548347, 0.43683268228800615, 0.42848594012608804, 0.41955074909052564, 0.4158827246269716, 0.40199112268243203]]\n"
          ],
          "name": "stdout"
        }
      ]
    },
    {
      "cell_type": "code",
      "metadata": {
        "colab": {
          "base_uri": "https://localhost:8080/"
        },
        "id": "qlEFVzGXZkpm",
        "outputId": "13fe260e-9467-4d12-a9c0-2a1d18e9725e"
      },
      "source": [
        "#Gerando gráficos\n",
        "import matplotlib.pyplot as plt\n",
        "\n",
        "x = [x for x in range(2,21)]\n",
        "\n",
        "graph_db  = k_means[0][0:19]\n",
        "graph_sil = k_means[1][0:19]\n",
        "\n",
        "\n",
        "plt.xticks(range(1,21))\n",
        "plt.grid(True, which='major', axis='y')\n",
        "plt.plot(x, graph_db)"
      ],
      "execution_count": null,
      "outputs": [
        {
          "output_type": "stream",
          "text": [
            "0.07370386\n"
          ],
          "name": "stdout"
        }
      ]
    },
    {
      "cell_type": "code",
      "metadata": {
        "id": "AsrktGQVnPR1"
      },
      "source": [
        "plt.xticks(range(1,21))\n",
        "plt.grid(True, which='major', axis='y')\n",
        "plt.plot(x, graph_sil)"
      ],
      "execution_count": null,
      "outputs": []
    },
    {
      "cell_type": "code",
      "metadata": {
        "colab": {
          "base_uri": "https://localhost:8080/"
        },
        "id": "796sZN1TMGaD",
        "outputId": "9f8b2a75-998f-4dff-dc25-c9395b473cf9"
      },
      "source": [
        "print(k_means[4])"
      ],
      "execution_count": null,
      "outputs": [
        {
          "output_type": "stream",
          "text": [
            "[0.500677060354062, 0.5096348806776979, 0.5134773410705106, 0.531496987569788, 0.5355760821337144, 0.5424387607374069, 0.5512869236507786, 0.5723842549587991, 0.5856093788500542, 0.5945567488982121, 0.6122187006877642, 0.6312778473934646, 0.6424252166360283, 0.6546885874043039, 0.6720843189528113, 0.6856431271641682, 0.7049493772780531, 0.7172006283154517, 0.7395140283991966, 0.500677060354062, 0.5096348806776979, 0.5134773410705106, 0.531496987569788, 0.5355760821337144, 0.5424387607374069, 0.5512869236507786, 0.5723842549587991, 0.5856093788500542, 0.5945567488982121, 0.6122187006877642, 0.6312778473934646, 0.6424252166360283, 0.6546885874043039, 0.6720843189528113, 0.6856431271641682, 0.7049493772780531, 0.7172006283154517, 0.7395140283991966]\n"
          ],
          "name": "stdout"
        }
      ]
    },
    {
      "cell_type": "markdown",
      "metadata": {
        "id": "5fcS2R_GDJh5"
      },
      "source": [
        "# **13. HIERÁRQUICO AGLOMERATIVO**"
      ]
    },
    {
      "cell_type": "code",
      "metadata": {
        "id": "wWAHNPg2DmQP"
      },
      "source": [
        "from sklearn.cluster import AgglomerativeClustering\n",
        "from sklearn.metrics import davies_bouldin_score\n",
        "from sklearn.metrics import silhouette_score"
      ],
      "execution_count": null,
      "outputs": []
    },
    {
      "cell_type": "code",
      "metadata": {
        "id": "3T3O6-Mhqrqd"
      },
      "source": [
        "db = []\n",
        "si = []\n",
        "dp_db = []\n",
        "dp_si = []\n",
        "mean_db = []\n",
        "mean_si = []"
      ],
      "execution_count": null,
      "outputs": []
    },
    {
      "cell_type": "code",
      "metadata": {
        "id": "yqOpitmeqvDU"
      },
      "source": [
        "for x in range(2, 21):\n",
        "  df = pd.read_csv('/content/drive/MyDrive/Colab Notebooks/all_seasons_pre_processing.csv')\n",
        "  df = df.drop('was_mvp', axis=1)\n",
        "\n",
        "  ahc = AgglomerativeClustering(n_clusters=x, affinity='euclidean', linkage='complete')\n",
        "  ahc.fit(df)\n",
        "  ahc.fit_predict(df)\n",
        "\n",
        "  df[\"Cluster\"] = ahc.labels_\n",
        "  labels = df[\"Cluster\"]\n",
        "\n",
        "  db.append(davies_bouldin_score(df, labels))\n",
        "  si.append(silhouette_score(df, labels))\n",
        "  dp_db.append(np.std(davies_bouldin_score(df, labels)))\n",
        "  dp_si.append(np.std(silhouette_score(df, labels)))\n",
        "  mean_db.append(np.mean(davies_bouldin_score(df, labels)))\n",
        "  mean_si.append(np.mean(silhouette_score(df, labels)))"
      ],
      "execution_count": null,
      "outputs": []
    },
    {
      "cell_type": "code",
      "metadata": {
        "id": "w8TF7Mk8oxnL"
      },
      "source": [
        "aglomerative = [db, si, dp_db, dp_si, mean_db, mean_si]"
      ],
      "execution_count": null,
      "outputs": []
    },
    {
      "cell_type": "code",
      "metadata": {
        "colab": {
          "base_uri": "https://localhost:8080/"
        },
        "id": "eHD70RpCzULy",
        "outputId": "a9269d69-9653-4345-b8e4-0e885f20949f"
      },
      "source": [
        "print(aglomerative)"
      ],
      "execution_count": null,
      "outputs": [
        {
          "output_type": "stream",
          "text": [
            "[[0.5006768688432589, 0.5094854202913034, 0.5189099940648586, 0.5403680013834244, 0.5475044939039189, 0.5513715648960146, 0.5641373372973887, 0.5731139092541927, 0.540123030987208, 0.5142688604098352, 0.5378752425525694, 0.5578092957187313, 0.5731142891599573, 0.5828337057063842, 0.5658145864523132, 0.6242797052932993, 0.6413973967447048, 0.6867515914100577, 0.7002614875787653], [0.626549872465282, 0.5298998434509639, 0.5425899775142866, 0.49049173235392085, 0.46458573613701065, 0.4824682696326485, 0.4684299173850125, 0.47681462872011826, 0.47564181042234066, 0.47555409727398923, 0.446321849031763, 0.4410086111783164, 0.4332247483492806, 0.4357888669323669, 0.4354108725949094, 0.42946314267793506, 0.4106932900189419, 0.38845583810488904, 0.3825504768223273], [0.0, 0.0, 0.0, 0.0, 0.0, 0.0, 0.0, 0.0, 0.0, 0.0, 0.0, 0.0, 0.0, 0.0, 0.0, 0.0, 0.0, 0.0, 0.0], [0.0, 0.0, 0.0, 0.0, 0.0, 0.0, 0.0, 0.0, 0.0, 0.0, 0.0, 0.0, 0.0, 0.0, 0.0, 0.0, 0.0, 0.0, 0.0], [0.5006768688432589, 0.5094854202913034, 0.5189099940648586, 0.5403680013834244, 0.5475044939039189, 0.5513715648960146, 0.5641373372973887, 0.5731139092541927, 0.540123030987208, 0.5142688604098352, 0.5378752425525694, 0.5578092957187313, 0.5731142891599573, 0.5828337057063842, 0.5658145864523132, 0.6242797052932993, 0.6413973967447048, 0.6867515914100577, 0.7002614875787653], [0.626549872465282, 0.5298998434509639, 0.5425899775142866, 0.49049173235392085, 0.46458573613701065, 0.4824682696326485, 0.4684299173850125, 0.47681462872011826, 0.47564181042234066, 0.47555409727398923, 0.446321849031763, 0.4410086111783164, 0.4332247483492806, 0.4357888669323669, 0.4354108725949094, 0.42946314267793506, 0.4106932900189419, 0.38845583810488904, 0.3825504768223273]]\n"
          ],
          "name": "stdout"
        }
      ]
    },
    {
      "cell_type": "code",
      "metadata": {
        "colab": {
          "base_uri": "https://localhost:8080/",
          "height": 282
        },
        "id": "ABHSmUczn4pR",
        "outputId": "36b2c308-60c8-4e70-af70-b4b69edbccef"
      },
      "source": [
        "#Gerando gráficos\n",
        "import matplotlib.pyplot as plt\n",
        "\n",
        "x = [x for x in range(2,21)]\n",
        "\n",
        "graph_db  = aglomerative[0][0:19]\n",
        "graph_sil = aglomerative[1][0:19]\n",
        "\n",
        "plt.xticks(range(1,21))\n",
        "plt.grid(True, which='major', axis='y')\n",
        "plt.plot(x, graph_db)"
      ],
      "execution_count": null,
      "outputs": [
        {
          "output_type": "execute_result",
          "data": {
            "text/plain": [
              "[<matplotlib.lines.Line2D at 0x7effed7cf990>]"
            ]
          },
          "metadata": {
            "tags": []
          },
          "execution_count": 99
        },
        {
          "output_type": "display_data",
          "data": {
            "image/png": "[encoded data removed]",
            "text/plain": [
              "<Figure size 432x288 with 1 Axes>"
            ]
          },
          "metadata": {
            "tags": [],
            "needs_background": "light"
          }
        }
      ]
    },
    {
      "cell_type": "code",
      "metadata": {
        "colab": {
          "base_uri": "https://localhost:8080/",
          "height": 282
        },
        "id": "AqAId4q4n4pb",
        "outputId": "edc8d05e-26bb-42fe-f0b1-43cd36ad6941"
      },
      "source": [
        "plt.xticks(range(1,21))\n",
        "plt.grid(True, which='major', axis='y')\n",
        "plt.plot(x, graph_sil)"
      ],
      "execution_count": null,
      "outputs": [
        {
          "output_type": "execute_result",
          "data": {
            "text/plain": [
              "[<matplotlib.lines.Line2D at 0x7effed02b410>]"
            ]
          },
          "metadata": {
            "tags": []
          },
          "execution_count": 100
        },
        {
          "output_type": "display_data",
          "data": {
            "image/png": "[encoded data removed]",
            "text/plain": [
              "<Figure size 432x288 with 1 Axes>"
            ]
          },
          "metadata": {
            "tags": [],
            "needs_background": "light"
          }
        }
      ]
    },
    {
      "cell_type": "markdown",
      "metadata": {
        "id": "Um0qeJ8xDJqG"
      },
      "source": [
        "# **14. EXPECTATION MAXIMIZATION (EM)**\n",
        "\n"
      ]
    },
    {
      "cell_type": "code",
      "metadata": {
        "id": "klMr8-kGDnH9"
      },
      "source": [
        "from sklearn.mixture import GaussianMixture #EM\n",
        "from sklearn.metrics import davies_bouldin_score\n",
        "from sklearn.metrics import silhouette_score"
      ],
      "execution_count": null,
      "outputs": []
    },
    {
      "cell_type": "code",
      "metadata": {
        "id": "kLRo_LdGq9fo"
      },
      "source": [
        "db = []\n",
        "si = []\n",
        "dp_db = []\n",
        "dp_si = []\n",
        "mean_db = []\n",
        "mean_si = []"
      ],
      "execution_count": null,
      "outputs": []
    },
    {
      "cell_type": "code",
      "metadata": {
        "id": "HINzUtXHq-dk"
      },
      "source": [
        "for x in range(2, 21):\n",
        "  df = pd.read_csv('/content/drive/MyDrive/Colab Notebooks/all_seasons_pre_processing.csv')\n",
        "  df = df.drop('was_mvp', axis=1)\n",
        "\n",
        "  gmm = GaussianMixture(n_components=x, n_init=5, covariance_type='full')\n",
        "  gmm.fit(df)\n",
        "\n",
        "  df[\"Cluster\"] = gmm.predict(df)\n",
        "  labels = df[\"Cluster\"]\n",
        "\n",
        "  db.append(davies_bouldin_score(df, labels))\n",
        "  si.append(silhouette_score(df, labels))\n",
        "  dp_db.append(np.std(davies_bouldin_score(df, labels)))\n",
        "  dp_si.append(np.std(silhouette_score(df, labels)))\n",
        "  mean_db.append(np.mean(davies_bouldin_score(df, labels)))\n",
        "  mean_si.append(np.mean(silhouette_score(df, labels)))"
      ],
      "execution_count": null,
      "outputs": []
    },
    {
      "cell_type": "code",
      "metadata": {
        "id": "vcaQGZk9q9fo"
      },
      "source": [
        "em = [db, si, dp_db, dp_si, mean_db, mean_si]"
      ],
      "execution_count": null,
      "outputs": []
    },
    {
      "cell_type": "code",
      "metadata": {
        "colab": {
          "base_uri": "https://localhost:8080/"
        },
        "id": "yf0U8AuRzeI6",
        "outputId": "ac5c55ea-b483-41b8-c7f6-c66b8bbaa77c"
      },
      "source": [
        "print(em)"
      ],
      "execution_count": null,
      "outputs": [
        {
          "output_type": "stream",
          "text": [
            "[[24.007107894482203, 40.489905223105715, 45.1593611595199, 43.73124855769981, 50.84998366110494, 101.74676187992603, 73.7008670322233, 109.35608097630308, 60.37174215402715, 59.11294727779555, 84.92591987701833, 67.82530031337377, 47.02970055637518, 53.30211247576537, 56.694585935941085, 55.60612145221049, 57.35229276137154, 49.70430470983732, 74.31491931122419], [-0.0010827284377981122, -0.008410939293541784, -0.011357517344496172, -0.017447379780872328, -0.026926276396750166, -0.043250836368813945, -0.028240344089136067, -0.04620382814214254, -0.05455362596726541, -0.05045958059784047, -0.040444344700206594, -0.24252140285438717, -0.08786171851782479, -0.4104810202701448, -0.2822136472791484, -0.4328119292090014, -0.42427982867968195, -0.30021036375747084, -0.4634004554643792], [0.0, 0.0, 0.0, 0.0, 0.0, 0.0, 0.0, 0.0, 0.0, 0.0, 0.0, 0.0, 0.0, 0.0, 0.0, 0.0, 0.0, 0.0, 0.0], [0.0, 0.0, 0.0, 0.0, 0.0, 0.0, 0.0, 0.0, 0.0, 0.0, 0.0, 0.0, 0.0, 0.0, 0.0, 0.0, 0.0, 0.0, 0.0], [24.007107894482203, 40.489905223105715, 45.1593611595199, 43.73124855769981, 50.84998366110494, 101.74676187992603, 73.7008670322233, 109.35608097630308, 60.37174215402715, 59.11294727779555, 84.92591987701833, 67.82530031337377, 47.02970055637518, 53.30211247576537, 56.694585935941085, 55.60612145221049, 57.35229276137154, 49.70430470983732, 74.31491931122419], [-0.0010827284377981122, -0.008410939293541784, -0.011357517344496172, -0.017447379780872328, -0.026926276396750166, -0.043250836368813945, -0.028240344089136067, -0.04620382814214254, -0.05455362596726541, -0.05045958059784047, -0.040444344700206594, -0.24252140285438717, -0.08786171851782479, -0.4104810202701448, -0.2822136472791484, -0.4328119292090014, -0.42427982867968195, -0.30021036375747084, -0.4634004554643792]]\n"
          ],
          "name": "stdout"
        }
      ]
    },
    {
      "cell_type": "code",
      "metadata": {
        "colab": {
          "base_uri": "https://localhost:8080/",
          "height": 282
        },
        "id": "S58TKtfooGrk",
        "outputId": "c02b8512-f3fe-409f-cb62-607f87ea7cca"
      },
      "source": [
        "#Gerando gráficos\n",
        "import matplotlib.pyplot as plt\n",
        "\n",
        "x = [x for x in range(2,21)]\n",
        "\n",
        "graph_db  = em[0][0:19]\n",
        "graph_sil = em[1][0:19]\n",
        "\n",
        "plt.xticks(range(1,21))\n",
        "plt.grid(True, which='major', axis='y')\n",
        "plt.plot(x, graph_db)"
      ],
      "execution_count": null,
      "outputs": [
        {
          "output_type": "execute_result",
          "data": {
            "text/plain": [
              "[<matplotlib.lines.Line2D at 0x7effecf703d0>]"
            ]
          },
          "metadata": {
            "tags": []
          },
          "execution_count": 110
        },
        {
          "output_type": "display_data",
          "data": {
            "image/png": "[encoded data removed]",
            "text/plain": [
              "<Figure size 432x288 with 1 Axes>"
            ]
          },
          "metadata": {
            "tags": [],
            "needs_background": "light"
          }
        }
      ]
    },
    {
      "cell_type": "code",
      "metadata": {
        "colab": {
          "base_uri": "https://localhost:8080/",
          "height": 282
        },
        "id": "sGRVunftoGrl",
        "outputId": "3c0d98a8-bb65-463f-e604-e3e32a7054db"
      },
      "source": [
        "plt.xticks(range(1,21))\n",
        "plt.grid(True, which='major', axis='y')\n",
        "plt.plot(x, graph_sil)"
      ],
      "execution_count": null,
      "outputs": [
        {
          "output_type": "execute_result",
          "data": {
            "text/plain": [
              "[<matplotlib.lines.Line2D at 0x7effece8f250>]"
            ]
          },
          "metadata": {
            "tags": []
          },
          "execution_count": 111
        },
        {
          "output_type": "display_data",
          "data": {
            "image/png": "[encoded data removed]",
            "text/plain": [
              "<Figure size 432x288 with 1 Axes>"
            ]
          },
          "metadata": {
            "tags": [],
            "needs_background": "light"
          }
        }
      ]
    },
    {
      "cell_type": "markdown",
      "metadata": {
        "id": "vhFutgK4M5rV"
      },
      "source": [
        "# **15. Rodar K-NN, AD e RNA 10 vezes para testes estatisticos**"
      ]
    },
    {
      "cell_type": "markdown",
      "metadata": {
        "id": "7AQHzJG5NHCV"
      },
      "source": [
        "K-NN"
      ]
    },
    {
      "cell_type": "code",
      "metadata": {
        "id": "GVWH_eoRNUa7"
      },
      "source": [
        "from sklearn.model_selection import RepeatedKFold\n",
        "from sklearn.metrics import accuracy_score, confusion_matrix, precision_score, recall_score, f1_score\n",
        "from sklearn.preprocessing import MinMaxScaler\n",
        "from sklearn.neighbors import KNeighborsClassifier\n",
        "\n",
        "import numpy as np \n",
        "import pylab \n",
        "import scipy.stats as stats\n",
        "import pandas as pd\n",
        "import matplotlib.pyplot as plt\n",
        "from google.colab import drive\n",
        "\n",
        "df1 = pd.read_csv('all_seasons_pre_processing.csv')\n",
        "\n",
        "\n",
        "X1 = df1.iloc[:,:-1].values\n",
        "y1 = df1.iloc[:,-1].values\n",
        "\n",
        "#X2 = df2.iloc[:,:-1].values\n",
        "#y2 = df2.iloc[:,-1].values\n",
        "\n",
        "#X3 = df3.iloc[:,:-1].values\n",
        "#y3 = df3.iloc[:,-1].values\n",
        "\n",
        "#X4 = df4.iloc[:,:-1].values\n",
        "#y4 = df4.iloc[:,-1].values"
      ],
      "execution_count": 40,
      "outputs": []
    },
    {
      "cell_type": "code",
      "metadata": {
        "id": "P3dD89F_xiIZ",
        "colab": {
          "base_uri": "https://localhost:8080/"
        },
        "outputId": "1e46c3b0-a94c-4be6-8652-f6f72a5cc77a"
      },
      "source": [
        "accKNN10 = np.empty(10, dtype=object)\n",
        "it = 10\n",
        "for i in range(0, it, 1):\n",
        "  rkf = RepeatedKFold(n_splits=10, n_repeats=10, random_state=i)\n",
        "\n",
        "  for train, test in rkf.split(X1, y1):\n",
        "      X_train11 = X1[train]\n",
        "      X_test11 = X1[test]\n",
        "      y_train11 = y1[train]\n",
        "      y_test11 = y1[test]\n",
        "\n",
        "  #for train, test in rkf.split(X2, y2):\n",
        "      #X_train2 = X2[train]\n",
        "      #X_test2 = X2[test]\n",
        "     # y_train2 = y2[train]\n",
        "     # y_test2 = y2[test]\n",
        "\n",
        "  #for train, test in rkf.split(X3, y3):\n",
        "#     X_train3 = X3[train]\n",
        "#      X_test3 = X3[test]\n",
        "#      y_train3 = y3[train]\n",
        "#      y_test3 = y3[test]\n",
        "\n",
        "#  for train, test in rkf.split(X4, y4):\n",
        "#      X_train4 = X4[train]\n",
        "#      X_test4 = X4[test]\n",
        "#      y_train4 = y4[train]\n",
        " #     y_test4 = y4[test]\n",
        "\n",
        "  knn = KNeighborsClassifier(n_neighbors=2, metric='euclidean', weights='distance')\n",
        "\n",
        "  knn.fit(X_train11, y_train11)\n",
        "  y_pred11 = knn.predict(X_test11)\n",
        "\n",
        " # knn.fit(X_train2, y_train2)\n",
        " # y_pred2 = knn.predict(X_test2)\n",
        "\n",
        "  #knn.fit(X_train3, y_train3)\n",
        " # y_pred3 = knn.predict(X_test3)\n",
        "\n",
        " # knn.fit(X_train4, y_train4)\n",
        "  #y_pred4 = knn.predict(X_test4)\n",
        "\n",
        "  acc = accuracy_score(y_test11, y_pred11)\n",
        "  accKNN10[i] = acc\n",
        "  print(\"Acurácia: \", acc)\n",
        "\n",
        "  #prec = str(precision_score(y_test1, y_pred1, average= 'macro'))\n",
        "  #print(\"Precisão: \", prec)\n",
        "\n",
        "  #dp = np.std(y_pred1)\n",
        "  #print(\"Desvio-padrão: \", dp)\n",
        "\n",
        "  #rec = str(recall_score(y_test1, y_pred1, average = 'macro'))\n",
        "  #print(\"Recall: \", rec)\n",
        "\n",
        "  #f1 = str(f1_score(y_test1, y_pred1, average = 'macro'))\n",
        "  #print(\"F1 Score: \", f1)\n",
        "\n",
        "  cm = confusion_matrix(y_test11, y_pred11)\n",
        "  print(\"Matriz de confusão\")\n",
        "  print(cm)\n",
        "\n",
        "print(\"array de acc:\", accKNN10)"
      ],
      "execution_count": 42,
      "outputs": [
        {
          "output_type": "stream",
          "text": [
            "Acurácia:  0.9964093357271095\n",
            "Matriz de confusão\n",
            "[[1110    2]\n",
            " [   2    0]]\n",
            "Acurácia:  0.9946140035906643\n",
            "Matriz de confusão\n",
            "[[1108    5]\n",
            " [   1    0]]\n",
            "Acurácia:  0.9946140035906643\n",
            "Matriz de confusão\n",
            "[[1107    2]\n",
            " [   4    1]]\n",
            "Acurácia:  0.9946140035906643\n",
            "Matriz de confusão\n",
            "[[1106    2]\n",
            " [   4    2]]\n",
            "Acurácia:  0.9982046678635548\n",
            "Matriz de confusão\n",
            "[[1112    0]\n",
            " [   2    0]]\n",
            "Acurácia:  0.9982046678635548\n",
            "Matriz de confusão\n",
            "[[1111    2]\n",
            " [   0    1]]\n",
            "Acurácia:  0.9973070017953322\n",
            "Matriz de confusão\n",
            "[[1111    1]\n",
            " [   2    0]]\n",
            "Acurácia:  0.992818671454219\n",
            "Matriz de confusão\n",
            "[[1106    4]\n",
            " [   4    0]]\n",
            "Acurácia:  0.9982046678635548\n",
            "Matriz de confusão\n",
            "[[1112    0]\n",
            " [   2    0]]\n",
            "Acurácia:  0.9946140035906643\n",
            "Matriz de confusão\n",
            "[[1108    2]\n",
            " [   4    0]]\n",
            "array de acc: [0.9964093357271095 0.9946140035906643 0.9946140035906643\n",
            " 0.9946140035906643 0.9982046678635548 0.9982046678635548\n",
            " 0.9973070017953322 0.992818671454219 0.9982046678635548\n",
            " 0.9946140035906643]\n"
          ],
          "name": "stdout"
        }
      ]
    },
    {
      "cell_type": "markdown",
      "metadata": {
        "id": "kjEBxNuazaqw"
      },
      "source": [
        "AD"
      ]
    },
    {
      "cell_type": "code",
      "metadata": {
        "id": "5MBwLkeXzb75"
      },
      "source": [
        "from sklearn.tree import DecisionTreeClassifier\n",
        "\n",
        "import numpy as np \n",
        "import pylab \n",
        "import scipy.stats as stats\n",
        "import pandas as pd\n",
        "import matplotlib.pyplot as plt\n",
        "from google.colab import drive\n",
        "from sklearn.model_selection import RepeatedKFold\n",
        "from sklearn.metrics import accuracy_score, confusion_matrix, precision_score, recall_score, f1_score\n",
        "\n",
        "df1 = pd.read_csv('all_seasons_pre_processing.csv')\n",
        "\n",
        "X1 = df1.iloc[:,:-1].values\n",
        "y1 = df1.iloc[:,-1].values\n"
      ],
      "execution_count": 43,
      "outputs": []
    },
    {
      "cell_type": "code",
      "metadata": {
        "colab": {
          "base_uri": "https://localhost:8080/"
        },
        "id": "wm8PDc2Nz5Zh",
        "outputId": "e2d277c8-23ce-4d22-e913-acac17f8aa3d"
      },
      "source": [
        "it = 10\n",
        "accAd = np.empty(10, dtype=object)\n",
        "for i in range(0, it, 1):\n",
        "  \n",
        "  rkf = RepeatedKFold(n_splits=10, n_repeats=10, random_state=i)\n",
        "  for train, test in rkf.split(X1, y1):\n",
        "    X_train10 = X1[train]\n",
        "    X_test10 = X1[test]\n",
        "    y_train10 = y1[train]\n",
        "    y_test10 = y1[test]\n",
        "\n",
        "  ad = DecisionTreeClassifier(max_depth = 10, min_samples_split=10, min_samples_leaf=10)\n",
        "  \n",
        "  if(i == 0):\n",
        "    n_nodes = []\n",
        "    err = []\n",
        "\n",
        "  ad.fit(X_train10, y_train10)\n",
        "  y_pred10 = ad.predict(X_test10)\n",
        "  n_nodes.append(ad.tree_.node_count)\n",
        "\n",
        "  acc = (accuracy_score(y_test10, y_pred10))\n",
        "  accAd[i] = acc\n",
        "  print(\"Acurácia:\", acc)\n",
        "\n",
        "  cm = confusion_matrix(y_test10, y_pred10)\n",
        "  print(\"Matriz de confusão: \")\n",
        "  print(cm)\n",
        "\n",
        "print(\"lista de acc:\", accAd)"
      ],
      "execution_count": 44,
      "outputs": [
        {
          "output_type": "stream",
          "text": [
            "Acurácia: 0.9964093357271095\n",
            "Matriz de confusão: \n",
            "[[1110    2]\n",
            " [   2    0]]\n",
            "Acurácia: 0.9982046678635548\n",
            "Matriz de confusão: \n",
            "[[1112    1]\n",
            " [   1    0]]\n",
            "Acurácia: 0.9973070017953322\n",
            "Matriz de confusão: \n",
            "[[1109    0]\n",
            " [   3    2]]\n",
            "Acurácia: 0.9946140035906643\n",
            "Matriz de confusão: \n",
            "[[1108    0]\n",
            " [   6    0]]\n",
            "Acurácia: 0.9973070017953322\n",
            "Matriz de confusão: \n",
            "[[1111    1]\n",
            " [   2    0]]\n",
            "Acurácia: 0.9982046678635548\n",
            "Matriz de confusão: \n",
            "[[1112    1]\n",
            " [   1    0]]\n",
            "Acurácia: 0.9982046678635548\n",
            "Matriz de confusão: \n",
            "[[1112    0]\n",
            " [   2    0]]\n",
            "Acurácia: 0.9964093357271095\n",
            "Matriz de confusão: \n",
            "[[1109    1]\n",
            " [   3    1]]\n",
            "Acurácia: 0.9991023339317774\n",
            "Matriz de confusão: \n",
            "[[1112    0]\n",
            " [   1    1]]\n",
            "Acurácia: 0.9973070017953322\n",
            "Matriz de confusão: \n",
            "[[1108    2]\n",
            " [   1    3]]\n",
            "lista de acc: [0.9964093357271095 0.9982046678635548 0.9973070017953322\n",
            " 0.9946140035906643 0.9973070017953322 0.9982046678635548\n",
            " 0.9982046678635548 0.9964093357271095 0.9991023339317774\n",
            " 0.9973070017953322]\n"
          ],
          "name": "stdout"
        }
      ]
    }
  ]
}